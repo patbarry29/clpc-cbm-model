{
 "cells": [
  {
   "cell_type": "code",
   "execution_count": 1,
   "id": "cdbe4197",
   "metadata": {},
   "outputs": [],
   "source": [
    "datasets = ['CUB', 'Derm7pt', 'RIVAL10']\n",
    "use_dataset = datasets[1]"
   ]
  },
  {
   "cell_type": "code",
   "execution_count": 2,
   "id": "c415bffb",
   "metadata": {},
   "outputs": [],
   "source": [
    "import os\n",
    "import sys\n",
    "\n",
    "notebook_dir = os.getcwd()\n",
    "project_root_path = os.path.dirname(notebook_dir)\n",
    "sys.path.insert(0, project_root_path)\n",
    "\n",
    "from src.config import CUB_CONFIG, DERM7PT_CONFIG, RIVAL10_CONFIG  # noqa: E402\n",
    "from src.config import PROJECT_ROOT  # noqa: E402\n",
    "import numpy as np  # noqa: E402"
   ]
  },
  {
   "cell_type": "code",
   "execution_count": 3,
   "id": "cc4dd3dc",
   "metadata": {},
   "outputs": [],
   "source": [
    "if use_dataset == 'CUB':\n",
    "    config_dict = CUB_CONFIG\n",
    "    DATASET_PATH =  os.path.join(PROJECT_ROOT, 'output', 'CUB')\n",
    "elif use_dataset == 'Derm7pt':\n",
    "    config_dict = DERM7PT_CONFIG\n",
    "    DATASET_PATH =  os.path.join(PROJECT_ROOT, 'output', 'Derm7pt')\n",
    "else:\n",
    "    config_dict = RIVAL10_CONFIG\n",
    "    DATASET_PATH =  os.path.join(PROJECT_ROOT, 'output', 'RIVAL10')"
   ]
  },
  {
   "cell_type": "markdown",
   "id": "ffe4b59a",
   "metadata": {},
   "source": [
    "# Load and Transform Data"
   ]
  },
  {
   "cell_type": "code",
   "execution_count": 4,
   "id": "fc1bbd44",
   "metadata": {},
   "outputs": [],
   "source": [
    "# INSTANCE-BASED CUB MODEL\n",
    "\n",
    "# C_train = np.load(os.path.join(PROJECT_ROOT, 'output', 'CUB', 'C_train_instance.npy'))\n",
    "# C_hat_train = np.load(os.path.join(PROJECT_ROOT, 'output', 'CUB', 'C_hat_sigmoid_train_instance.npy'))\n",
    "# one_hot_Y_train = np.load(os.path.join(PROJECT_ROOT, 'output', 'CUB', 'Y_train_instance.npy'))\n",
    "\n",
    "# C_test = np.load(os.path.join(PROJECT_ROOT, 'output', 'CUB', 'C_test_instance.npy'))\n",
    "# C_hat_test = np.load(os.path.join(PROJECT_ROOT, 'output', 'CUB', 'C_hat_sigmoid_test_instance.npy'))\n",
    "# one_hot_Y_test = np.load(os.path.join(PROJECT_ROOT, 'output', 'CUB', 'Y_test_instance.npy'))"
   ]
  },
  {
   "cell_type": "code",
   "execution_count": 5,
   "id": "b037fd34",
   "metadata": {},
   "outputs": [],
   "source": [
    "C_hat_train = np.load(os.path.join(DATASET_PATH, 'C_hat_sigmoid_train.npy'))\n",
    "one_hot_Y_train = np.load(os.path.join(DATASET_PATH, 'Y_train.npy'))\n",
    "\n",
    "C_hat_test = np.load(os.path.join(DATASET_PATH, 'C_hat_sigmoid_test.npy'))\n",
    "one_hot_Y_test = np.load(os.path.join(DATASET_PATH, 'Y_test.npy'))\n",
    "\n",
    "if use_dataset == 'Derm7pt':\n",
    "    C_hat_val = np.load(os.path.join(DATASET_PATH, 'C_hat_sigmoid_val.npy'))\n",
    "    one_hot_Y_val = np.load(os.path.join(DATASET_PATH, 'Y_val.npy'))\n",
    "\n",
    "    C_hat_train = np.concatenate((C_hat_train, C_hat_val), axis=0)\n",
    "    one_hot_Y_train = np.concatenate((one_hot_Y_train, one_hot_Y_val), axis=0)\n",
    "\n",
    "class_level_concepts = np.load(os.path.join(DATASET_PATH, 'class_level_concepts.npy'))"
   ]
  },
  {
   "cell_type": "code",
   "execution_count": 6,
   "id": "dc3226bb",
   "metadata": {},
   "outputs": [],
   "source": [
    "Y_train = np.argmax(one_hot_Y_train, axis=1)\n",
    "Y_test = np.argmax(one_hot_Y_test, axis=1)"
   ]
  },
  {
   "cell_type": "code",
   "execution_count": 7,
   "id": "85ad0c07",
   "metadata": {},
   "outputs": [],
   "source": [
    "C_train = []\n",
    "for y in Y_train:\n",
    "    C_train.append(class_level_concepts[y])\n",
    "\n",
    "C_train = np.array(C_train)"
   ]
  },
  {
   "cell_type": "code",
   "execution_count": 8,
   "id": "47193d3a",
   "metadata": {},
   "outputs": [],
   "source": [
    "# from sklearn.utils import shuffle\n",
    "\n",
    "\n",
    "# C_hat_train, C_train, one_hot_Y_train, Y_train = shuffle(C_hat_train, C_train, one_hot_Y_train, Y_train, random_state=42)"
   ]
  },
  {
   "cell_type": "code",
   "execution_count": 9,
   "id": "cae5dd1d",
   "metadata": {},
   "outputs": [],
   "source": [
    "# unique, counts = np.unique(Y_train, return_counts=True)\n",
    "# for label, count in zip(unique, counts):\n",
    "#     print(f\"Label {label}: {count} instances\")"
   ]
  },
  {
   "cell_type": "code",
   "execution_count": 10,
   "id": "3a0a2d1a",
   "metadata": {},
   "outputs": [],
   "source": [
    "# unique, counts = np.unique(Y_test, return_counts=True)\n",
    "# for label, count in zip(unique, counts):\n",
    "#     print(f\"Label {label}: {count} instances\")"
   ]
  },
  {
   "cell_type": "markdown",
   "id": "fb99f9c0",
   "metadata": {},
   "source": [
    "# Classic Models"
   ]
  },
  {
   "cell_type": "markdown",
   "id": "0424779b",
   "metadata": {},
   "source": [
    "## Logistic Regression"
   ]
  },
  {
   "cell_type": "code",
   "execution_count": 11,
   "id": "7a6ed058",
   "metadata": {},
   "outputs": [
    {
     "name": "stdout",
     "output_type": "stream",
     "text": [
      "Logistic Regression Test accuracy: 0.6025316455696202\n"
     ]
    }
   ],
   "source": [
    "from sklearn.linear_model import LogisticRegression\n",
    "\n",
    "model = LogisticRegression(max_iter=1000)\n",
    "model.fit(C_hat_train, Y_train)\n",
    "print(f\"Logistic Regression Test accuracy: {model.score(C_hat_test, Y_test)}\")"
   ]
  },
  {
   "cell_type": "code",
   "execution_count": 12,
   "id": "43484e2a",
   "metadata": {},
   "outputs": [
    {
     "data": {
      "text/plain": [
       "array([1, 2])"
      ]
     },
     "execution_count": 12,
     "metadata": {},
     "output_type": "execute_result"
    }
   ],
   "source": [
    "np.unique(model.predict(C_hat_test))"
   ]
  },
  {
   "cell_type": "markdown",
   "id": "419e627c",
   "metadata": {},
   "source": [
    "## k-NN"
   ]
  },
  {
   "cell_type": "code",
   "execution_count": 13,
   "id": "3ec9af79",
   "metadata": {},
   "outputs": [
    {
     "name": "stdout",
     "output_type": "stream",
     "text": [
      "k-NN Test accuracy: 0.529113924050633\n"
     ]
    }
   ],
   "source": [
    "from sklearn.neighbors import KNeighborsClassifier\n",
    "\n",
    "model = KNeighborsClassifier()\n",
    "model.fit(C_hat_train, Y_train)\n",
    "print(f\"k-NN Test accuracy: {model.score(C_hat_test, Y_test)}\")"
   ]
  },
  {
   "cell_type": "code",
   "execution_count": 14,
   "id": "e442a104",
   "metadata": {},
   "outputs": [
    {
     "data": {
      "text/plain": [
       "array([0, 1, 2, 3])"
      ]
     },
     "execution_count": 14,
     "metadata": {},
     "output_type": "execute_result"
    }
   ],
   "source": [
    "np.unique(model.predict(C_hat_test))"
   ]
  },
  {
   "cell_type": "markdown",
   "id": "3a14b904",
   "metadata": {},
   "source": [
    "## Decision Tree"
   ]
  },
  {
   "cell_type": "code",
   "execution_count": 15,
   "id": "2e8610c3-c78b-4997-9055-10af7ccf5958",
   "metadata": {},
   "outputs": [
    {
     "name": "stdout",
     "output_type": "stream",
     "text": [
      "Decision Tree Test accuracy: 0.4481012658227848\n"
     ]
    }
   ],
   "source": [
    "from sklearn.tree import DecisionTreeClassifier\n",
    "\n",
    "model = DecisionTreeClassifier()\n",
    "model.fit(C_hat_train, Y_train)\n",
    "print(f\"Decision Tree Test accuracy: {model.score(C_hat_test, Y_test)}\")"
   ]
  },
  {
   "cell_type": "code",
   "execution_count": 16,
   "id": "466a67ed",
   "metadata": {},
   "outputs": [
    {
     "data": {
      "text/plain": [
       "array([0, 1, 2, 3, 4])"
      ]
     },
     "execution_count": 16,
     "metadata": {},
     "output_type": "execute_result"
    }
   ],
   "source": [
    "np.unique(model.predict(C_hat_test))"
   ]
  },
  {
   "cell_type": "markdown",
   "id": "5aff22cb",
   "metadata": {},
   "source": [
    "## MLP"
   ]
  },
  {
   "cell_type": "code",
   "execution_count": 17,
   "id": "6f9c3248",
   "metadata": {},
   "outputs": [
    {
     "name": "stdout",
     "output_type": "stream",
     "text": [
      "MLP Test accuracy: 0.5721518987341773\n"
     ]
    }
   ],
   "source": [
    "from sklearn.neural_network import MLPClassifier\n",
    "\n",
    "mlp = MLPClassifier(hidden_layer_sizes=(512,256, 128), max_iter=1000)\n",
    "mlp.fit(C_hat_train, Y_train)\n",
    "print(f\"MLP Test accuracy: {mlp.score(C_hat_test, Y_test)}\")"
   ]
  },
  {
   "cell_type": "code",
   "execution_count": 18,
   "id": "9bd4c37b",
   "metadata": {},
   "outputs": [
    {
     "data": {
      "text/plain": [
       "array([0, 1, 2, 3, 4])"
      ]
     },
     "execution_count": 18,
     "metadata": {},
     "output_type": "execute_result"
    }
   ],
   "source": [
    "np.unique(model.predict(C_hat_test))"
   ]
  },
  {
   "cell_type": "markdown",
   "id": "a5950cfd",
   "metadata": {},
   "source": [
    "# Accuracy Using Class-Level Concepts"
   ]
  },
  {
   "cell_type": "code",
   "execution_count": 19,
   "id": "c5a37c58",
   "metadata": {},
   "outputs": [
    {
     "name": "stdout",
     "output_type": "stream",
     "text": [
      "\n",
      "Overall accuracy using concept-based nearest neighbor: 0.6481\n"
     ]
    }
   ],
   "source": [
    "# Function to find the closest concept vector and predict the label\n",
    "def predict_nearest_concept(instance, reference_concepts, reference_labels):\n",
    "    distances = np.sqrt(np.sum((reference_concepts - instance)**2, axis=1))\n",
    "    min_idx = np.argmin(distances)\n",
    "    return reference_labels[min_idx]\n",
    "\n",
    "# Use C_train as reference concepts and evaluate on C_hat_test\n",
    "correct_predictions = 0\n",
    "total_predictions = len(C_hat_test)\n",
    "\n",
    "for i, test_instance in enumerate(C_hat_test):\n",
    "    predicted_label = predict_nearest_concept(test_instance, C_train, Y_train)\n",
    "    true_label = Y_test[i]\n",
    "\n",
    "    if predicted_label == true_label:\n",
    "        correct_predictions += 1\n",
    "\n",
    "# Calculate and print accuracy\n",
    "accuracy = correct_predictions / total_predictions\n",
    "print(f\"\\nOverall accuracy using concept-based nearest neighbor: {accuracy:.4f}\")"
   ]
  },
  {
   "cell_type": "markdown",
   "id": "9d9dc649-e4d0-40d5-aa23-bd8b5360bea6",
   "metadata": {},
   "source": [
    "# Prototype-Based Model\n"
   ]
  },
  {
   "cell_type": "code",
   "execution_count": 20,
   "id": "d6be3f96",
   "metadata": {},
   "outputs": [],
   "source": [
    "import torch\n",
    "from torch.utils.data import TensorDataset, DataLoader"
   ]
  },
  {
   "cell_type": "code",
   "execution_count": 21,
   "id": "118ea801",
   "metadata": {},
   "outputs": [
    {
     "name": "stdout",
     "output_type": "stream",
     "text": [
      "Using device: mps\n"
     ]
    }
   ],
   "source": [
    "device = torch.device(\"cuda\" if torch.cuda.is_available() else \"mps\" if torch.backends.mps.is_available() else \"cpu\")\n",
    "print(f\"Using device: {device}\")"
   ]
  },
  {
   "cell_type": "markdown",
   "id": "14da7dda",
   "metadata": {},
   "source": [
    "## Create Dataloaders"
   ]
  },
  {
   "cell_type": "code",
   "execution_count": 22,
   "id": "482ea172",
   "metadata": {},
   "outputs": [],
   "source": [
    "val_split_ratio = 0.2\n",
    "random_seed = 42\n",
    "\n",
    "if use_dataset == 'Derm7pt':\n",
    "    X_train = torch.tensor(C_hat_train, dtype=torch.float32)\n",
    "    Y_train = torch.tensor(one_hot_Y_train, dtype=torch.float32)\n",
    "else:\n",
    "    # C_hat_train, C_hat_val, Y_train_np, Y_val_np = train_test_split(C_hat_train, one_hot_Y_train, test_size=val_split_ratio, random_state=random_seed)\n",
    "    X_train = torch.tensor(C_hat_train, dtype=torch.float32)\n",
    "    Y_train = torch.tensor(one_hot_Y_train, dtype=torch.float32)\n",
    "\n",
    "X_test = torch.tensor(C_hat_test, dtype=torch.float32, device=device)\n",
    "Y_test = torch.tensor(one_hot_Y_test, dtype=torch.float32, device=device)\n",
    "\n",
    "# DATALOADERS\n",
    "batch_size = 64\n",
    "train_dataset = TensorDataset(X_train, Y_train)\n",
    "train_loader = DataLoader(train_dataset, batch_size=batch_size, shuffle=True)\n",
    "\n",
    "test_dataset = TensorDataset(X_test, Y_test)\n",
    "test_dataloader = DataLoader(test_dataset, batch_size=batch_size, shuffle=False)"
   ]
  },
  {
   "cell_type": "markdown",
   "id": "497a8c4e",
   "metadata": {},
   "source": [
    "## Learn Prototypes"
   ]
  },
  {
   "cell_type": "code",
   "execution_count": 23,
   "id": "8df979ee",
   "metadata": {},
   "outputs": [],
   "source": [
    "import numpy as np\n",
    "import torch\n",
    "import torch.nn as nn\n",
    "\n",
    "class PrototypeClassifier(nn.Module):\n",
    "    def __init__(self, num_features, num_classes):\n",
    "        super().__init__()\n",
    "        self.protoypes = nn.Parameter(torch.rand(num_classes, num_features))  # initialize the prototype matrix P\n",
    "\n",
    "    def forward(self, x):\n",
    "        # x: (batch_size, num_features)\n",
    "        # L1distance：|x_i - M_m|_1\n",
    "        # (batch_size, num_classes, num_features)\n",
    "        dist = torch.abs(x.unsqueeze(1) - torch.sigmoid(self.protoypes))\n",
    "        dist = dist.sum(dim=2)\n",
    "        return dist  # (batch_size, num_classes)\n",
    "\n",
    "    def binary_regularization(self):\n",
    "        sigmoid_protos = torch.sigmoid(self.protoypes)\n",
    "        return (sigmoid_protos * (1 - sigmoid_protos)).mean()\n",
    "\n",
    "    def sparsity_regularization(self):\n",
    "        return torch.sum(torch.sigmoid(self.protoypes))\n",
    "\n",
    "    def predict(self, x):\n",
    "        with torch.no_grad():\n",
    "            Prototypes = torch.sigmoid(self.protoypes)\n",
    "            Prototypes[Prototypes>=0.5] = 1\n",
    "            Prototypes[Prototypes<0.5]= 0\n",
    "            dists = torch.abs(x.unsqueeze(1) - Prototypes)\n",
    "            dists = dists.sum(dim=2)\n",
    "            predictions = dists.argmin(dim=1)\n",
    "        return predictions\n",
    "\n",
    "    def get_sigmoid_prototypes(self):\n",
    "        return torch.sigmoid(self.protoypes)\n",
    "\n",
    "    def get_binary_prototypes(self):\n",
    "        Prototypes = torch.sigmoid(self.protoypes)\n",
    "        Prototypes[Prototypes>=0.5] = 1\n",
    "        Prototypes[Prototypes<0.5]= 0\n",
    "        return Prototypes\n",
    "\n",
    "    def concept_wise_dist(self, x):\n",
    "        with torch.no_grad():\n",
    "            Prototypes = torch.sigmoid(self.protoypes)\n",
    "            Prototypes[Prototypes>=0.5] = 1\n",
    "            Prototypes[Prototypes<0.5]= 0\n",
    "            dists = x.unsqueeze(1) - Prototypes\n",
    "            # predictions = self.predict(x)\n",
    "            # dists = dists[torch.arange(x.shape[0]), predictions,:]\n",
    "        return dists\n",
    "\n",
    "    def threshold(self, val_x, val_y, percentile=0.98):\n",
    "        self.eval()\n",
    "        with torch.no_grad():\n",
    "            dists = self(val_x)\n",
    "            min_dists = dists.min(dim=1).values.cpu().numpy()\n",
    "\n",
    "            # y_val is one-hot or not ?\n",
    "            if val_y.ndim > 1 and val_y.shape[1] > 1:\n",
    "                real_labels = val_y.argmax(dim=1).cpu()\n",
    "            else:\n",
    "                real_labels = val_y\n",
    "\n",
    "            pred_labels = self.predict(val_x).cpu()\n",
    "            matching_array = (pred_labels == real_labels).numpy()\n",
    "\n",
    "            correct_min_dists = min_dists[matching_array]\n",
    "            correct_min_dists.sort()\n",
    "\n",
    "            self.computed_threshold_ = np.percentile(correct_min_dists, percentile * 100)\n",
    "            print(f\"Threshold computed: {self.computed_threshold_:.4f} using {len(correct_min_dists)} correctly classified validation samples at {percentile*100:.1f}th percentile.\")\n",
    "        return self.computed_threshold_\n",
    "\n",
    "    def outlier_predict(self, x):\n",
    "        self.eval()\n",
    "        with torch.no_grad():\n",
    "            dists_x = self(x)\n",
    "            min_dists_x = dists_x.min(dim=1).values\n",
    "            predictions = self.predict(x)\n",
    "\n",
    "            # Identify inliers\n",
    "            is_inlier = min_dists_x.cpu() <= self.computed_threshold_\n",
    "\n",
    "            # Return predictions, but mark outliers with a -1\n",
    "            conformal_predictions = predictions.clone()\n",
    "            conformal_predictions[~is_inlier.to(predictions.device)] = -1\n",
    "\n",
    "        return conformal_predictions, is_inlier\n",
    "\n",
    "    def conformal_predict(self, x):\n",
    "        pass\n",
    "\n",
    "    def explanation(self, x, y_hat):\n",
    "        pred = self.predict(x.unsqueeze(0))\n",
    "        concept_dists = x - self.get_binary_prototypes()[pred]\n",
    "        return concept_dists\n",
    "        # self.prototypes[y_hat]\n",
    "        # take in c_hat, find relevant prototype from y_hat\n",
    "        # do np.abs(c_hat-prototype)\n",
    "        # to-do: how to do a global explanation from local explanations"
   ]
  },
  {
   "cell_type": "code",
   "execution_count": 24,
   "id": "eb8f8f1d",
   "metadata": {},
   "outputs": [],
   "source": [
    "# from src.models import PrototypeClassifier\n",
    "\n",
    "num_concepts = config_dict['N_TRIMMED_CONCEPTS']\n",
    "num_classes = config_dict['N_CLASSES']\n",
    "\n",
    "model = PrototypeClassifier(num_concepts, num_classes).to(device)\n",
    "optimizer = torch.optim.Adam(model.parameters(), lr=0.01)\n",
    "lambda_binary = 0.01\n",
    "lambda_L1 = 0.001"
   ]
  },
  {
   "cell_type": "code",
   "execution_count": 25,
   "id": "c7f50626",
   "metadata": {},
   "outputs": [
    {
     "name": "stderr",
     "output_type": "stream",
     "text": [
      "Training Prototypes: 100%|██████████| 50/50 [00:04<00:00, 12.37it/s, Train Acc=55.68%, Train Loss=-7.3214]"
     ]
    },
    {
     "name": "stdout",
     "output_type": "stream",
     "text": [
      "Best accuracy of 57.63% achieved at epoch 20\n"
     ]
    },
    {
     "name": "stderr",
     "output_type": "stream",
     "text": [
      "\n"
     ]
    }
   ],
   "source": [
    "# train and test\n",
    "from tqdm import tqdm\n",
    "from src.training import train_epoch\n",
    "\n",
    "num_epochs = 50\n",
    "best_acc, best_epoch = 0, 0\n",
    "\n",
    "tqdm_loader = tqdm(range(num_epochs), desc=\"Training Prototypes\", leave=True)\n",
    "for epoch in tqdm_loader:\n",
    "    train_loss, train_accuracy = train_epoch(model, train_loader, optimizer, lambda_binary, lambda_L1, device=device)\n",
    "    if train_accuracy > best_acc:\n",
    "        best_acc = train_accuracy\n",
    "        best_epoch = epoch\n",
    "    tqdm_loader.set_postfix({\"Train Acc\": f\"{train_accuracy:.2f}%\", \"Train Loss\": f\"{train_loss:.4f}\"})\n",
    "\n",
    "print(f\"Best accuracy of {best_acc:.2f}% achieved at epoch {best_epoch}\")"
   ]
  },
  {
   "cell_type": "code",
   "execution_count": 26,
   "id": "1b82dc36",
   "metadata": {},
   "outputs": [
    {
     "data": {
      "text/plain": [
       "0.6455696202531646"
      ]
     },
     "execution_count": 26,
     "metadata": {},
     "output_type": "execute_result"
    }
   ],
   "source": [
    "real_labels = Y_test.argmax(dim=1)\n",
    "predictions = model.predict(X_test)\n",
    "(predictions == real_labels).sum().item()/len(predictions)"
   ]
  },
  {
   "cell_type": "code",
   "execution_count": 27,
   "id": "fd929598",
   "metadata": {},
   "outputs": [],
   "source": [
    "dists = model.explanation(X_test[0], None)\n",
    "# X_test[0].unsqueeze(1)x/"
   ]
  },
  {
   "cell_type": "code",
   "execution_count": 29,
   "id": "55a82343",
   "metadata": {},
   "outputs": [
    {
     "name": "stdout",
     "output_type": "stream",
     "text": [
      "Top 10 most influential concepts:\n",
      "Concept 9: 0.5964 (Higher than prototype)\n",
      "Concept 11: -0.5318 (Lower than prototype)\n",
      "Concept 14: -0.5159 (Lower than prototype)\n",
      "Concept 3: -0.5080 (Lower than prototype)\n",
      "Concept 17: -0.5041 (Lower than prototype)\n",
      "Concept 12: -0.3454 (Lower than prototype)\n",
      "Concept 1: 0.2683 (Higher than prototype)\n",
      "Concept 2: 0.1434 (Higher than prototype)\n",
      "Concept 16: 0.1175 (Higher than prototype)\n",
      "Concept 15: 0.1152 (Higher than prototype)\n"
     ]
    },
    {
     "data": {
      "image/png": "[encoded data removed]",
      "text/plain": [
       "<Figure size 1000x600 with 1 Axes>"
      ]
     },
     "metadata": {},
     "output_type": "display_data"
    }
   ],
   "source": [
    "import matplotlib.pyplot as plt\n",
    "\n",
    "# Convert tensor to numpy for easier visualization\n",
    "dists_np = dists[0].cpu().detach().numpy()\n",
    "\n",
    "# Sort the data by absolute distance values (largest distances first)\n",
    "sorted_indices = np.argsort(np.abs(dists_np))[::-1]\n",
    "sorted_dists = dists_np[sorted_indices]\n",
    "\n",
    "# Take only the top 10 most important concepts\n",
    "top_k = 10\n",
    "sorted_indices = sorted_indices[:top_k]\n",
    "sorted_dists = sorted_dists[:top_k]\n",
    "\n",
    "# Create concept names\n",
    "sorted_concept_names = [f\"Concept {i+1}\" for i in sorted_indices]\n",
    "\n",
    "# Create a color map (red for negative, blue for positive)\n",
    "colors = ['red' if x < 0 else 'blue' for x in sorted_dists]\n",
    "\n",
    "# Create a bar plot with sorted values\n",
    "plt.figure(figsize=(10, 6))\n",
    "plt.bar(range(len(sorted_dists)), sorted_dists, color=colors)\n",
    "plt.xticks(range(len(sorted_dists)), sorted_concept_names, rotation=45)\n",
    "plt.title(\"Top 10 Most Influential Concepts (By Distance)\")\n",
    "plt.xlabel(\"Concepts\")\n",
    "plt.ylabel(\"Distance\")\n",
    "plt.axhline(y=0, color='black', linestyle='-', alpha=0.3)\n",
    "plt.axhline(y=0.5, color='red', linestyle='--', alpha=0.3, label='False Positive')\n",
    "plt.axhline(y=-0.5, color='red', linestyle='--', alpha=0.3, label='False Negative')\n",
    "plt.tight_layout()\n",
    "\n",
    "# Print the top most influential concepts\n",
    "print(\"Top 10 most influential concepts:\")\n",
    "for i in range(len(sorted_indices)):\n",
    "    idx = sorted_indices[i]\n",
    "    value = dists_np[idx]\n",
    "    direction = \"Higher than prototype\" if value > 0 else \"Lower than prototype\"\n",
    "    print(f\"Concept {idx+1}: {value:.4f} ({direction})\")\n",
    "\n",
    "plt.show()"
   ]
  },
  {
   "cell_type": "code",
   "execution_count": null,
   "id": "6da67ca2",
   "metadata": {},
   "outputs": [],
   "source": []
  },
  {
   "cell_type": "code",
   "execution_count": null,
   "id": "1571db2c",
   "metadata": {},
   "outputs": [],
   "source": []
  }
 ],
 "metadata": {
  "kernelspec": {
   "display_name": "Python 3",
   "language": "python",
   "name": "python3"
  },
  "language_info": {
   "codemirror_mode": {
    "name": "ipython",
    "version": 3
   },
   "file_extension": ".py",
   "mimetype": "text/x-python",
   "name": "python",
   "nbconvert_exporter": "python",
   "pygments_lexer": "ipython3",
   "version": "3.11.9"
  }
 },
 "nbformat": 4,
 "nbformat_minor": 5
}
