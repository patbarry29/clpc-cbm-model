{
 "cells": [
  {
   "cell_type": "code",
   "execution_count": 1,
   "id": "64468ad7",
   "metadata": {},
   "outputs": [],
   "source": [
    "import os\n",
    "import sys\n",
    "\n",
    "notebook_dir = os.getcwd()\n",
    "project_root_path = os.path.dirname(notebook_dir)\n",
    "sys.path.insert(0, project_root_path)\n",
    "\n",
    "from src import ModelXtoC\n",
    "from scripts.run_preprocessing import preprocessing_main\n",
    "from src.utils import *\n",
    "from config import PROJECT_ROOT\n",
    "from src.training import run_epoch_x_to_c\n",
    "\n",
    "from src.utils import find_class_imbalance\n",
    "from config import N_TRIMMED_CONCEPTS, N_CLASSES\n",
    "import torch\n",
    "import torch.nn as nn\n",
    "import torch.optim as optim\n",
    "import numpy as np"
   ]
  },
  {
   "cell_type": "code",
   "execution_count": 2,
   "id": "62f39434-7c40-43b6-bde9-193b7f3b4287",
   "metadata": {},
   "outputs": [],
   "source": [
    "torch.mps.empty_cache()"
   ]
  },
  {
   "cell_type": "code",
   "execution_count": 4,
   "id": "7bff13a6",
   "metadata": {},
   "outputs": [
    {
     "name": "stdout",
     "output_type": "stream",
     "text": [
      "Found 11788 images.\n",
      "Processing in 369 batches of size 32 (for progress reporting)...\n"
     ]
    },
    {
     "name": "stderr",
     "output_type": "stream",
     "text": [
      "Processing batches: 100%|█████████████████████| 369/369 [01:00<00:00,  6.07it/s]\n"
     ]
    },
    {
     "name": "stdout",
     "output_type": "stream",
     "text": [
      "\n",
      "Finished processing.\n",
      "Successfully transformed: 11788 images.\n",
      "Found 11788 unique images.\n",
      "Found 312 unique concepts.\n",
      "Generated concept matrix with shape: (11788, 312)\n",
      "Found 200 classes.\n",
      "Found labels for 11788 images.\n",
      "Generated one-hot matrix with shape: (11788, 200)\n",
      "Split complete: 5994 train images, 5794 test images.\n",
      "Dataset initialized with 5994 pre-sorted items.\n",
      "Dataset initialized with 5794 pre-sorted items.\n"
     ]
    }
   ],
   "source": [
    "concept_labels, train_loader, test_loader = preprocessing_main(class_concepts=False, verbose=True)"
   ]
  },
  {
   "cell_type": "markdown",
   "id": "18e2cf9e",
   "metadata": {},
   "source": [
    "**Find device to run model on (CPU or GPU).**"
   ]
  },
  {
   "cell_type": "code",
   "execution_count": 5,
   "id": "ca5893fb",
   "metadata": {},
   "outputs": [
    {
     "name": "stdout",
     "output_type": "stream",
     "text": [
      "Using device: mps\n"
     ]
    }
   ],
   "source": [
    "device = torch.device(\"cuda\" if torch.cuda.is_available()\n",
    "                    else \"mps\" if torch.backends.mps.is_available()\n",
    "                    else \"cpu\")\n",
    "print(f\"Using device: {device}\")"
   ]
  },
  {
   "cell_type": "markdown",
   "id": "16bc3f7e",
   "metadata": {},
   "source": [
    "### Loss\n"
   ]
  },
  {
   "cell_type": "code",
   "execution_count": 6,
   "id": "2f33d217",
   "metadata": {},
   "outputs": [],
   "source": [
    "use_weighted_loss = True # Set to False for simple unweighted loss\n",
    "\n",
    "if use_weighted_loss:\n",
    "    concept_weights = find_class_imbalance(concept_labels)\n",
    "    attr_criterion = [nn.BCEWithLogitsLoss(weight=torch.tensor([ratio], device=device, dtype=torch.float))\n",
    "                    for ratio in concept_weights]\n",
    "else:\n",
    "    attr_criterion = [nn.BCEWithLogitsLoss() for _ in range(N_TRIMMED_CONCEPTS)]"
   ]
  },
  {
   "cell_type": "markdown",
   "id": "8f7dda06",
   "metadata": {},
   "source": [
    "# Load instance-based model"
   ]
  },
  {
   "cell_type": "code",
   "execution_count": null,
   "id": "61fd0fe6",
   "metadata": {},
   "outputs": [],
   "source": [
    "model = torch.load(os.path.join(PROJECT_ROOT, 'models', 'instance_level_model.pth'), map_location=device, weights_only=False)"
   ]
  },
  {
   "cell_type": "code",
   "execution_count": 10,
   "id": "0856ebd2",
   "metadata": {},
   "outputs": [
    {
     "name": "stderr",
     "output_type": "stream",
     "text": [
      "                                                                                "
     ]
    },
    {
     "name": "stdout",
     "output_type": "stream",
     "text": [
      "Best Model Summary   | Loss: 22.0923 | Acc: 80.318\n"
     ]
    },
    {
     "name": "stderr",
     "output_type": "stream",
     "text": []
    }
   ],
   "source": [
    "if test_loader:\n",
    "    with torch.no_grad():\n",
    "        shuffled_labels = []\n",
    "\n",
    "        # Iterate through all batches\n",
    "        for batch in test_loader:\n",
    "            _, _, image_labels, _ = batch\n",
    "            # Append batch labels to our list\n",
    "            shuffled_labels.append(image_labels)\n",
    "\n",
    "        # Concatenate all batches into a single tensor\n",
    "        shuffled_labels = torch.cat(shuffled_labels, dim=0)\n",
    "\n",
    "        test_loss, test_acc, outputs = run_epoch_x_to_c(model, test_loader, attr_criterion, optimizer=None, n_concepts=N_TRIMMED_CONCEPTS, device=device, return_outputs='sigmoid', verbose=True)\n",
    "\n",
    "# print(f\"Shuffled labels shape: {shuffled_labels.shape}\")\n",
    "np.save(os.path.join(PROJECT_ROOT, 'output', 'Y_test_instance.npy'), shuffled_labels)\n",
    "print(f'Best Model Summary   | Loss: {test_loss:.4f} | Acc: {test_acc:.3f}')"
   ]
  },
  {
   "cell_type": "code",
   "execution_count": 9,
   "id": "edc6726c",
   "metadata": {},
   "outputs": [],
   "source": [
    "def get_outputs_as_array(outputs, n_concepts):\n",
    "    # Initialize an empty list to collect batches\n",
    "    batch_results = []\n",
    "\n",
    "    for i in range(len(outputs)):\n",
    "        batch_size = outputs[i].shape[0]\n",
    "\n",
    "        # Create a batch matrix with N_CONCEPTS number of columns\n",
    "        batch_matrix = np.zeros((batch_size, n_concepts))\n",
    "\n",
    "        num_examples = len(outputs[i])\n",
    "\n",
    "        # Fill the matrix only with the available concept values\n",
    "        concepts_to_process = min(num_examples, n_concepts)\n",
    "\n",
    "        for instance_idx in range(concepts_to_process):\n",
    "            # Extract, convert, and flatten data for the current concept\n",
    "            instance_data = outputs[i][instance_idx].detach().cpu().numpy().flatten()\n",
    "            batch_matrix[instance_idx, :] = instance_data\n",
    "        # Add this consistently shaped batch matrix to our collection\n",
    "        batch_results.append(batch_matrix)\n",
    "\n",
    "    return np.vstack(batch_results)"
   ]
  },
  {
   "cell_type": "code",
   "execution_count": 12,
   "id": "912b1d62",
   "metadata": {},
   "outputs": [
    {
     "name": "stdout",
     "output_type": "stream",
     "text": [
      "Final shape: (5794, 112)\n"
     ]
    }
   ],
   "source": [
    "output_array = get_outputs_as_array(outputs, N_TRIMMED_CONCEPTS)\n",
    "print(f\"Final shape: {output_array.shape}\")\n",
    "\n",
    "np.save(os.path.join(PROJECT_ROOT, 'output', 'C_hat_sigmoid_test_instance.npy'), output_array)"
   ]
  },
  {
   "cell_type": "code",
   "execution_count": 14,
   "id": "0bbd2724-9fa4-4b02-ab44-45cbd4542364",
   "metadata": {},
   "outputs": [
    {
     "data": {
      "text/plain": [
       "array([0.02501685, 0.77495462, 0.0687966 , 0.09519394, 0.14613137,\n",
       "       0.48839876, 0.04856971, 0.16711   , 0.40154633, 0.09964222,\n",
       "       0.14682958, 0.45817006, 0.00804877, 0.09553508, 0.44051   ,\n",
       "       0.09777722, 0.02271112, 0.19730091, 0.03049137, 0.0149068 ,\n",
       "       0.80746418, 0.08676503, 0.70120353, 0.04629159, 0.09214313,\n",
       "       0.06868421, 0.36629257, 0.00633915, 0.05105334, 0.42458305,\n",
       "       0.10001611, 0.14501777, 0.05399945, 0.23676595, 0.12034659,\n",
       "       0.35720539, 0.06929339, 0.04867289, 0.38898978, 0.04295772,\n",
       "       0.20864813, 0.02295152, 0.00910959, 0.70395726, 0.09370021,\n",
       "       0.15618773, 0.0195958 , 0.04778903, 0.79669225, 0.07017403,\n",
       "       0.83380061, 0.79950792, 0.2215552 , 0.02299087, 0.06304066,\n",
       "       0.18589291, 0.00573243, 0.05516048, 0.86759204, 0.02548574,\n",
       "       0.21893778, 0.14737961, 0.37895864, 0.09778561, 0.08328963,\n",
       "       0.15278049, 0.01012357, 0.00627465, 0.76510048, 0.06883164,\n",
       "       0.03448415, 0.13805096, 0.01701255, 0.01841686, 0.69192559,\n",
       "       0.08364785, 0.12680829, 0.11951935, 0.09039748, 0.75618863,\n",
       "       0.04205399, 0.29164296, 0.03241507, 0.21480465, 0.089875  ,\n",
       "       0.19735849, 0.38406676, 0.08836172, 0.15518375, 0.57135218,\n",
       "       0.13576294, 0.38409474, 0.02026214, 0.13303632, 0.67422825,\n",
       "       0.13911816, 0.15771955, 0.06668103, 0.18399116, 0.27420479,\n",
       "       0.13870424, 0.18435788, 0.05217727, 0.07953352, 0.20269406,\n",
       "       0.00740086, 0.04587283, 0.89726871, 0.23932348, 0.02841049,\n",
       "       0.06671409, 0.42637536])"
      ]
     },
     "execution_count": 14,
     "metadata": {},
     "output_type": "execute_result"
    }
   ],
   "source": [
    "output_array[0]"
   ]
  },
  {
   "cell_type": "markdown",
   "id": "20b2583f",
   "metadata": {},
   "source": [
    "# LOAD BEST MODEL FROM CBM PAPER"
   ]
  },
  {
   "cell_type": "code",
   "execution_count": 11,
   "id": "2e7b3c85",
   "metadata": {},
   "outputs": [
    {
     "name": "stdout",
     "output_type": "stream",
     "text": [
      "Best model loaded.\n"
     ]
    },
    {
     "name": "stderr",
     "output_type": "stream",
     "text": [
      "                                                                                "
     ]
    },
    {
     "name": "stdout",
     "output_type": "stream",
     "text": [
      "Best Model Summary   | Loss: 71.3566 | Acc: 82.323\n"
     ]
    },
    {
     "name": "stderr",
     "output_type": "stream",
     "text": []
    }
   ],
   "source": [
    "\n",
    "best_model = os.path.join(PROJECT_ROOT, 'models', 'best_model_1.pth')\n",
    "model = torch.load(best_model, map_location=device, weights_only=False)\n",
    "print(\"Best model loaded.\")\n",
    "\n",
    "if train_loader:\n",
    "    with torch.no_grad():\n",
    "        shuffled_labels = []\n",
    "\n",
    "        # Iterate through all batches\n",
    "        for batch in train_loader:\n",
    "            _, _, image_labels, _ = batch\n",
    "            # Append batch labels to our list\n",
    "            shuffled_labels.append(image_labels)\n",
    "\n",
    "        # Concatenate all batches into a single tensor\n",
    "        shuffled_labels = torch.cat(shuffled_labels, dim=0)\n",
    "\n",
    "        test_loss, test_acc, outputs = run_epoch_x_to_c(\n",
    "            model, train_loader, attr_criterion, optimizer=None, n_concepts=N_TRIMMED_CONCEPTS, device=device,\n",
    "            return_outputs='sigmoid', verbose=True\n",
    "        )\n",
    "\n",
    "# print(f\"Shuffled labels shape: {shuffled_labels.shape}\")\n",
    "np.save(os.path.join(PROJECT_ROOT, 'output', 'Y_train_best_model_instance.npy'), shuffled_labels)\n",
    "print(f'Best Model Summary   | Loss: {test_loss:.4f} | Acc: {test_acc:.3f}')"
   ]
  },
  {
   "cell_type": "code",
   "execution_count": 12,
   "id": "f524e965-29d4-4eab-8903-ba107b4b3397",
   "metadata": {},
   "outputs": [],
   "source": [
    "output_array = get_outputs_as_array(outputs, N_TRIMMED_CONCEPTS)\n",
    "np.save(os.path.join(PROJECT_ROOT, 'output', 'C_hat_sigmoid_train_best_model_instance.npy'), output_array)"
   ]
  },
  {
   "cell_type": "code",
   "execution_count": null,
   "id": "2b2f509f",
   "metadata": {},
   "outputs": [],
   "source": [
    "# best_model = os.path.join(PROJECT_ROOT, 'models', 'best_model_2.pth')\n",
    "# model = torch.load(best_model, map_location=device, weights_only=False)\n",
    "# print(\"Best model loaded.\")\n",
    "\n",
    "# if train_loader:\n",
    "#     with torch.no_grad():\n",
    "#         test_loss, test_acc = run_epoch_x_to_c(model, train_loader, attr_criterion, optimizer, n_concepts=N_TRIMMED_CONCEPTS, device=device)\n",
    "\n",
    "# print(f'Best Model Train Summary   | Loss: {test_loss:.4f} | Acc: {test_acc:.3f}')"
   ]
  },
  {
   "cell_type": "code",
   "execution_count": null,
   "id": "b43d541c-fff5-473f-9857-ab7b6bbcf80e",
   "metadata": {},
   "outputs": [],
   "source": [
    "# if test_loader:\n",
    "#     with torch.no_grad():\n",
    "#         test_loss, test_acc = run_epoch_x_to_c(model, test_loader, attr_criterion, optimizer, n_concepts=N_TRIMMED_CONCEPTS, device=device)\n",
    "\n",
    "# print(f'Best Model Test Summary    | Loss: {test_loss:.4f} | Acc: {test_acc:.3f}')"
   ]
  },
  {
   "cell_type": "code",
   "execution_count": null,
   "id": "274dc49b",
   "metadata": {},
   "outputs": [],
   "source": [
    "# best_model = os.path.join(PROJECT_ROOT, 'models', 'best_model_3.pth')\n",
    "# model = torch.load(best_model, map_location=device, weights_only=False)\n",
    "# print(\"Best model loaded.\")\n",
    "\n",
    "# if train_loader:\n",
    "#     with torch.no_grad():\n",
    "#         test_loss, test_acc = run_epoch_x_to_c(model, train_loader, attr_criterion, optimizer, n_concepts=N_TRIMMED_CONCEPTS, device=device)\n",
    "\n",
    "# print(f'Best Model Train Summary   | Loss: {test_loss:.4f} | Acc: {test_acc:.3f}')"
   ]
  },
  {
   "cell_type": "code",
   "execution_count": null,
   "id": "4289f84d",
   "metadata": {},
   "outputs": [],
   "source": [
    "# if test_loader:\n",
    "#     with torch.no_grad():\n",
    "#         test_loss, test_acc = run_epoch_x_to_c(model, test_loader, attr_criterion, optimizer, n_concepts=N_TRIMMED_CONCEPTS, device=device)\n",
    "\n",
    "# print(f'Best Model Test Summary    | Loss: {test_loss:.4f} | Acc: {test_acc:.3f}')"
   ]
  }
 ],
 "metadata": {
  "kernelspec": {
   "display_name": "Python 3 (ipykernel)",
   "language": "python",
   "name": "python3"
  },
  "language_info": {
   "codemirror_mode": {
    "name": "ipython",
    "version": 3
   },
   "file_extension": ".py",
   "mimetype": "text/x-python",
   "name": "python",
   "nbconvert_exporter": "python",
   "pygments_lexer": "ipython3",
   "version": "3.11.9"
  }
 },
 "nbformat": 4,
 "nbformat_minor": 5
}
