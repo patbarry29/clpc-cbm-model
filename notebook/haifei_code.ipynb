{
 "cells": [
  {
   "cell_type": "code",
   "execution_count": 1,
   "id": "28b3e2b2-3d3e-498f-9a67-02ee4354d3b7",
   "metadata": {},
   "outputs": [],
   "source": [
    "import os\n",
    "import sys\n",
    "\n",
    "notebook_dir = os.getcwd()\n",
    "project_root_path = os.path.dirname(notebook_dir)\n",
    "sys.path.insert(0, project_root_path)\n",
    "\n",
    "from config import PROJECT_ROOT\n",
    "import numpy as np\n",
    "\n",
    "import numpy as np\n",
    "from scipy.special import expit\n",
    "import matplotlib.pyplot as plt\n",
    "from sklearn.tree import DecisionTreeClassifier\n",
    "from sklearn.linear_model import LogisticRegression\n",
    "from sklearn.neural_network import MLPClassifier\n",
    "from sklearn.model_selection import train_test_split\n",
    "from sklearn.preprocessing import StandardScaler\n",
    "from sklearn.metrics import accuracy_score\n",
    "\n",
    "import torch\n",
    "from torch.utils.data import DataLoader, TensorDataset\n",
    "import torch.nn as nn\n",
    "import torch.nn.functional as F"
   ]
  },
  {
   "cell_type": "code",
   "execution_count": 2,
   "id": "64d4bd98-b3ed-448f-a1fa-bec718fc7bea",
   "metadata": {},
   "outputs": [
    {
     "name": "stdout",
     "output_type": "stream",
     "text": [
      "(5994, 112) (5994, 200) (5794, 112) (5794, 200) (200, 112) (11788, 112)\n"
     ]
    }
   ],
   "source": [
    "C_hat_train = np.load(os.path.join(PROJECT_ROOT, 'output', 'C_hat_sigmoid_train.npy'))\n",
    "Y_train = np.load(os.path.join(PROJECT_ROOT, 'output', 'Y_train.npy'))\n",
    "\n",
    "C_hat_test = np.load(os.path.join(PROJECT_ROOT, 'output', 'C_hat_sigmoid_test.npy'))\n",
    "Y_test = np.load(os.path.join(PROJECT_ROOT, 'output', 'Y_test.npy'))\n",
    "\n",
    "class_level_concepts = np.load(os.path.join(PROJECT_ROOT, 'output', 'class_level_concepts.npy'))\n",
    "instance_level_concepts = np.load(os.path.join(PROJECT_ROOT, 'output', 'instance_level_concepts.npy'))\n",
    "\n",
    "print(C_hat_train.shape, Y_train.shape, C_hat_test.shape, Y_test.shape, class_level_concepts.shape, instance_level_concepts.shape)\n",
    "\n",
    "# C_hat_train[C_hat_train<0.5] = 0\n",
    "# C_hat_train[C_hat_train>0.5] = 1\n",
    "# C_hat_test[C_hat_test<0.5] = 0\n",
    "# C_hat_test[C_hat_test>0.5] = 1\n",
    "C_hat_train = C_hat_train.round(2)\n",
    "C_hat_test = C_hat_test.round(2)\n",
    "# C_hat_train[C_hat_train<0.5] = 0\n",
    "# C_hat_test[C_hat_test<0.5] = 0"
   ]
  },
  {
   "cell_type": "markdown",
   "id": "ace261be-8b6e-491c-82a3-3f2d4651b9c2",
   "metadata": {},
   "source": [
    "### Concept accuracy"
   ]
  },
  {
   "cell_type": "code",
   "execution_count": 3,
   "id": "537dc006-840c-4cad-a943-c6d223508f9c",
   "metadata": {},
   "outputs": [
    {
     "data": {
      "text/plain": [
       "array([0.98148148, 0.97797798, 0.92325659, 0.96046046, 0.94294294,\n",
       "       0.93960627, 0.9676343 , 0.90106773, 0.95095095, 0.96279613,\n",
       "       0.96229563, 0.90690691, 0.97180514, 0.91041041, 0.95962629,\n",
       "       0.96229563, 0.97347347, 0.97280614, 0.98448448, 0.94961628,\n",
       "       0.91257925, 0.95111778, 0.94344344, 0.9676343 , 0.95879213,\n",
       "       0.93109776, 0.91307975, 0.98815482, 0.93209877, 0.9711378 ,\n",
       "       0.94794795, 0.81664998, 0.93560227, 0.8983984 , 0.90056723,\n",
       "       0.9676343 , 0.9631298 , 0.98014681, 0.9297631 , 0.97364031,\n",
       "       0.9631298 , 0.98014681, 0.94427761, 0.94778111, 0.95328662,\n",
       "       0.98248248, 0.9954955 , 0.95812479, 0.96146146, 0.97414081,\n",
       "       0.98732065, 0.97414081, 0.97814481, 0.99783116, 0.94744745,\n",
       "       0.97497497, 0.9964965 , 0.92308976, 0.98648649, 0.9317651 ,\n",
       "       0.90423757, 0.92559226, 0.96680013, 0.96796797, 0.95295295,\n",
       "       0.97230564, 0.99282616, 0.96329663, 0.9661328 , 0.94394394,\n",
       "       0.97864531, 0.97297297, 0.97414081, 0.97614281, 0.92559226,\n",
       "       0.94811478, 0.79646313, 0.89005672, 0.89556223, 0.98598599,\n",
       "       0.95462129, 0.98965632, 0.9696363 , 0.91491491, 0.96579913,\n",
       "       0.95812479, 0.85051718, 0.96429763, 0.91841842, 0.95395395,\n",
       "       0.94094094, 0.92425759, 0.9701368 , 0.9342676 , 0.96896897,\n",
       "       0.96730063, 0.91775108, 0.94444444, 0.94678011, 0.94244244,\n",
       "       0.92192192, 0.97781114, 0.997998  , 0.95612279, 0.97147147,\n",
       "       0.997998  , 0.95111778, 0.99215883, 0.94944945, 0.98882216,\n",
       "       0.91875209, 0.94627961])"
      ]
     },
     "execution_count": 3,
     "metadata": {},
     "output_type": "execute_result"
    }
   ],
   "source": [
    "real_concepts_train = np.empty_like(C_hat_train)\n",
    "real_labels_train = Y_train.argmax(axis=1)\n",
    "for i in range(len(Y_train)):\n",
    "    label = real_labels_train[i]\n",
    "    real_concepts_train[i,:] = class_level_concepts[label, :]\n",
    "\n",
    "C_hat_train_ninary = C_hat_train.copy()\n",
    "C_hat_train_ninary[C_hat_train_ninary<0.5] = 0\n",
    "C_hat_train_ninary[C_hat_train_ninary>=0.5] = 1\n",
    "\n",
    "(C_hat_train_ninary==real_concepts_train).mean(axis=0)"
   ]
  },
  {
   "cell_type": "code",
   "execution_count": 4,
   "id": "bb40eb88-52c1-4c42-a23e-a368871ca5d3",
   "metadata": {},
   "outputs": [
    {
     "data": {
      "text/plain": [
       "array([0.96824301, 0.96582672, 0.87763203, 0.92474974, 0.91025198,\n",
       "       0.88539869, 0.95305488, 0.84639282, 0.9099068 , 0.93993787,\n",
       "       0.92544011, 0.85916465, 0.95478081, 0.85916465, 0.93165343,\n",
       "       0.93717639, 0.95806006, 0.95253711, 0.9616845 , 0.9278564 ,\n",
       "       0.83293062, 0.9257853 , 0.88177425, 0.95823265, 0.95063859,\n",
       "       0.90455644, 0.86468761, 0.97393856, 0.89696237, 0.95788747,\n",
       "       0.9256127 , 0.78667587, 0.90645495, 0.86831205, 0.86365205,\n",
       "       0.95150155, 0.94131861, 0.97411115, 0.8986883 , 0.95909562,\n",
       "       0.95253711, 0.95909562, 0.92147049, 0.87625129, 0.92958233,\n",
       "       0.9730756 , 0.97169486, 0.92354159, 0.89782534, 0.95736969,\n",
       "       0.98049707, 0.92423196, 0.92440456, 0.99033483, 0.92440456,\n",
       "       0.94131861, 0.97462893, 0.8671039 , 0.96720746, 0.91646531,\n",
       "       0.87694166, 0.86848464, 0.94615119, 0.94770452, 0.93061788,\n",
       "       0.91905419, 0.97894373, 0.91404902, 0.94183638, 0.92975492,\n",
       "       0.97031412, 0.95806006, 0.95460822, 0.95857784, 0.8469106 ,\n",
       "       0.93130825, 0.75578184, 0.89402831, 0.88022092, 0.95840525,\n",
       "       0.94908526, 0.98550224, 0.94235416, 0.84276838, 0.94356231,\n",
       "       0.9459786 , 0.81032102, 0.95806006, 0.91094235, 0.91059717,\n",
       "       0.91335865, 0.88488091, 0.95201933, 0.91163272, 0.94477045,\n",
       "       0.94477045, 0.8897135 , 0.89230238, 0.91836382, 0.92768381,\n",
       "       0.84742837, 0.96496376, 0.98998964, 0.92837418, 0.93890231,\n",
       "       0.98118744, 0.89489127, 0.97635485, 0.89713497, 0.98705557,\n",
       "       0.8917846 , 0.89040387])"
      ]
     },
     "execution_count": 4,
     "metadata": {},
     "output_type": "execute_result"
    }
   ],
   "source": [
    "real_concepts_test = np.empty_like(C_hat_test)\n",
    "real_labels_test = Y_test.argmax(axis=1)\n",
    "for i in range(len(Y_test)):\n",
    "    label = real_labels_test[i]\n",
    "    real_concepts_test[i,:] = class_level_concepts[label, :]\n",
    "\n",
    "C_hat_test_ninary = C_hat_test.copy()\n",
    "C_hat_test_ninary[C_hat_test_ninary<0.5] = 0\n",
    "C_hat_test_ninary[C_hat_test_ninary>=0.5] = 1\n",
    "\n",
    "(C_hat_test_ninary==real_concepts_test).mean(axis=0)"
   ]
  },
  {
   "cell_type": "code",
   "execution_count": 5,
   "id": "2724bab4-dd49-4afa-82bc-bb6d87b347e5",
   "metadata": {},
   "outputs": [
    {
     "data": {
      "text/plain": [
       "np.float64(0.8835502168835502)"
      ]
     },
     "execution_count": 5,
     "metadata": {},
     "output_type": "execute_result"
    }
   ],
   "source": [
    "# on training set\n",
    "dists = np.sum(np.abs(C_hat_train[:, np.newaxis, :] - class_level_concepts[np.newaxis, :, :]), axis=2)\n",
    "Y_hat = dists.argmin(axis=1)\n",
    "min_dists = dists.min(axis=1)\n",
    "Y_real = np.argmax(Y_train, axis=1)\n",
    "sum(Y_hat==Y_real)/len(Y_real)"
   ]
  },
  {
   "cell_type": "code",
   "execution_count": 6,
   "id": "a8a2f594-5c43-4038-877f-f56a0ceb158a",
   "metadata": {},
   "outputs": [
    {
     "data": {
      "text/plain": [
       "np.float64(0.6151190887124611)"
      ]
     },
     "execution_count": 6,
     "metadata": {},
     "output_type": "execute_result"
    }
   ],
   "source": [
    "# on test set\n",
    "dists = np.sum(np.abs(C_hat_test[:, np.newaxis, :] - class_level_concepts[np.newaxis, :, :]), axis=2)\n",
    "Y_hat = dists.argmin(axis=1)\n",
    "min_dists = dists.min(axis=1)\n",
    "Y_real = np.argmax(Y_test, axis=1)\n",
    "sum(Y_hat==Y_real)/len(Y_real)"
   ]
  },
  {
   "cell_type": "code",
   "execution_count": 7,
   "id": "f0e75c1a-b64f-4058-8a55-548a51148e2c",
   "metadata": {},
   "outputs": [
    {
     "name": "stderr",
     "output_type": "stream",
     "text": [
      "/Users/pb/.pyenv/versions/3.11.9/lib/python3.11/site-packages/sklearn/linear_model/_logistic.py:1247: FutureWarning: 'multi_class' was deprecated in version 1.5 and will be removed in 1.7. From then on, it will always use 'multinomial'. Leave it to its default value to avoid this warning.\n",
      "  warnings.warn(\n"
     ]
    },
    {
     "name": "stdout",
     "output_type": "stream",
     "text": [
      "Test Accuracy: 0.6647\n"
     ]
    }
   ],
   "source": [
    "clf = LogisticRegression(max_iter=1000, multi_class='multinomial', solver='lbfgs')\n",
    "clf.fit(C_hat_train, Y_train.argmax(axis=1))\n",
    "y_pred = clf.predict(C_hat_test)\n",
    "\n",
    "acc = accuracy_score(Y_test.argmax(axis=1), y_pred)\n",
    "print(f\"Test Accuracy: {acc:.4f}\")"
   ]
  },
  {
   "cell_type": "code",
   "execution_count": 8,
   "id": "a53dc089-6ec8-49f1-9161-7cd5d0523680",
   "metadata": {},
   "outputs": [
    {
     "name": "stdout",
     "output_type": "stream",
     "text": [
      "Training Accuracy: 0.9635\n"
     ]
    }
   ],
   "source": [
    "y_pred = clf.predict(C_hat_train)\n",
    "acc = accuracy_score(Y_train.argmax(axis=1), y_pred)\n",
    "print(f\"Training Accuracy: {acc:.4f}\")"
   ]
  },
  {
   "cell_type": "code",
   "execution_count": 9,
   "id": "ffad9101-944d-4826-9e72-8cc0ea2093d5",
   "metadata": {},
   "outputs": [
    {
     "name": "stdout",
     "output_type": "stream",
     "text": [
      "Test Accuracy: 0.6505\n"
     ]
    }
   ],
   "source": [
    "scaler = StandardScaler()\n",
    "X_train = scaler.fit_transform(C_hat_train)\n",
    "X_test = scaler.transform(C_hat_test)\n",
    "\n",
    "clf = MLPClassifier(hidden_layer_sizes=(512, 256, 128),\n",
    "                    activation='relu',\n",
    "                    solver='adam',\n",
    "                    max_iter=200,\n",
    "                    random_state=42)\n",
    "\n",
    "clf.fit(X_train, Y_train.argmax(axis=1))\n",
    "\n",
    "y_pred = clf.predict(X_test)\n",
    "\n",
    "acc = accuracy_score(Y_test.argmax(axis=1), y_pred)\n",
    "print(f\"Test Accuracy: {acc:.4f}\")"
   ]
  },
  {
   "cell_type": "code",
   "execution_count": 10,
   "id": "45980298-eed2-4c8c-ae2d-7ddd6032006d",
   "metadata": {},
   "outputs": [
    {
     "name": "stdout",
     "output_type": "stream",
     "text": [
      "Test Accuracy: 0.6125\n"
     ]
    }
   ],
   "source": [
    "clf = DecisionTreeClassifier(criterion='entropy',\n",
    "                              max_depth=None,\n",
    "                              random_state=None)\n",
    "\n",
    "clf.fit(C_hat_train, Y_train.argmax(axis=1))\n",
    "\n",
    "y_pred = clf.predict(C_hat_test)\n",
    "\n",
    "acc = accuracy_score(Y_test.argmax(axis=1), y_pred)\n",
    "print(f\"Test Accuracy: {acc:.4f}\")"
   ]
  },
  {
   "cell_type": "markdown",
   "id": "963139e9-39f6-4d79-a56b-f1848f0c3cfd",
   "metadata": {},
   "source": [
    "### Our proposed model"
   ]
  },
  {
   "cell_type": "code",
   "execution_count": 11,
   "id": "c532a6eb-1bc5-40e4-9af4-9152774d20f6",
   "metadata": {},
   "outputs": [],
   "source": [
    "C_hat_train, C_hat_val, Y_train, Y_val = train_test_split(C_hat_train, Y_train, test_size=0.2, random_state=None)\n",
    "\n",
    "X_train = torch.tensor(C_hat_train, dtype=torch.float32)\n",
    "Y_train = torch.tensor(Y_train, dtype=torch.float32)\n",
    "train_dataset = TensorDataset(X_train, Y_train)\n",
    "batch_size = 64\n",
    "train_dataloader = DataLoader(train_dataset, batch_size=batch_size, shuffle=True)\n",
    "\n",
    "X_val = torch.tensor(C_hat_val, dtype=torch.float32)\n",
    "Y_val = torch.tensor(Y_val, dtype=torch.float32)\n",
    "val_dataset = TensorDataset(X_val, Y_val)\n",
    "batch_size = 64\n",
    "val_dataloader = DataLoader(val_dataset, batch_size=batch_size, shuffle=True)\n",
    "\n",
    "X_test = torch.tensor(C_hat_test, dtype=torch.float32)\n",
    "Y_test = torch.tensor(Y_test, dtype=torch.float32)\n",
    "test_dataset = TensorDataset(X_test, Y_test)\n",
    "batch_size = 64\n",
    "test_dataloader = DataLoader(test_dataset, batch_size=batch_size, shuffle=False)"
   ]
  },
  {
   "cell_type": "code",
   "execution_count": 12,
   "id": "d1c1ffe3-9594-4d15-90d4-a4fcde44a8c9",
   "metadata": {},
   "outputs": [],
   "source": [
    "class PrototypeClassifier(nn.Module):\n",
    "    def __init__(self, num_features, num_classes):\n",
    "        super().__init__()\n",
    "        self.P = nn.Parameter(torch.rand(num_classes, num_features))  # initialize the protptype matrix P\n",
    "        self.sigmoid = nn.Sigmoid()\n",
    "\n",
    "    def forward(self, x):\n",
    "        # x: (batch_size, num_features)\n",
    "        # L1distance：|x_i - M_m|_1\n",
    "        # (batch_size, num_classes, num_features)\n",
    "        dist = torch.abs(x.unsqueeze(1) - self.sigmoid(self.P))\n",
    "        dist = dist.sum(dim=2)\n",
    "        return dist  # (batch_size, num_classes)\n",
    "\n",
    "    def binary_regularization(self):\n",
    "        return (self.sigmoid(self.P) * (1 - self.sigmoid(self.P))).mean()\n",
    "\n",
    "    def sparsity_regularization(self):\n",
    "        return torch.sum(self.sigmoid(self.P))\n",
    "\n",
    "    def predict(self, x):\n",
    "        with torch.no_grad():\n",
    "            Prototypes = self.sigmoid(self.P)\n",
    "            Prototypes[Prototypes>=0.5] = 1\n",
    "            Prototypes[Prototypes<0.5]= 0\n",
    "            dists = torch.abs(x.unsqueeze(1) - Prototypes)\n",
    "            dists = dists.sum(dim=2)\n",
    "            predictions = dists.argmin(dim=1)\n",
    "        return predictions\n",
    "\n",
    "    def concept_wise_dist(self, x):\n",
    "        with torch.no_grad():\n",
    "            Prototypes = self.sigmoid(self.P)\n",
    "            Prototypes[Prototypes>=0.5] = 1\n",
    "            Prototypes[Prototypes<0.5]= 0\n",
    "            dists = x.unsqueeze(1) - Prototypes\n",
    "            # predictions = self.predict(x)\n",
    "            # dists = dists[torch.arange(x.shape[0]), predictions,:]\n",
    "        return dists\n",
    "\n",
    "    def threshold(self, val_x, val_y):\n",
    "        pass\n",
    "\n",
    "    def conformal_predict(self, x):\n",
    "        pass\n",
    "\n",
    "    def explanation(self, x):\n",
    "        pass"
   ]
  },
  {
   "cell_type": "code",
   "execution_count": 13,
   "id": "4d212495",
   "metadata": {},
   "outputs": [],
   "source": [
    "# Training function\n",
    "def train_epoch(model, train_dataloader, optimizer, lambda_binary, lambda_L1):\n",
    "    model.train()\n",
    "    total_loss = 0.0\n",
    "    correct = 0\n",
    "    total = 0\n",
    "\n",
    "    for x_batch, y_batch in train_dataloader:\n",
    "        dist = model(x_batch)\n",
    "\n",
    "        # label loss\n",
    "        loss_cls = (dist*y_batch).sum(axis=1)\n",
    "        loss_cls = loss_cls.mean()\n",
    "\n",
    "        # regularization loss\n",
    "        loss_binary = model.binary_regularization()\n",
    "        loss_sparsity = model.sparsity_regularization()\n",
    "\n",
    "        # total loss\n",
    "        loss = loss_cls + (lambda_binary * loss_binary) + (lambda_L1 * loss_sparsity)\n",
    "\n",
    "        # back propagation\n",
    "        optimizer.zero_grad()\n",
    "        loss.backward()\n",
    "        optimizer.step()\n",
    "\n",
    "        # accumulative training loss\n",
    "        total_loss += loss.item()\n",
    "\n",
    "        # calculate the prediction accuracy\n",
    "        predicted = dist.argmin(dim=1)\n",
    "        real_labels = y_batch.argmax(dim=1)\n",
    "        correct += (predicted == real_labels).sum().item()\n",
    "        total += x_batch.size(0)\n",
    "\n",
    "    avg_loss = total_loss / len(train_dataloader)\n",
    "    accuracy = correct / total * 100\n",
    "    return avg_loss, accuracy"
   ]
  },
  {
   "cell_type": "code",
   "execution_count": 14,
   "id": "5bea0991",
   "metadata": {},
   "outputs": [],
   "source": [
    "# test function\n",
    "def val_epoch(model, val_dataloader):\n",
    "    model.eval()\n",
    "    correct = 0\n",
    "    total = 0\n",
    "\n",
    "    with torch.no_grad():\n",
    "        for x_batch, y_batch in val_dataloader:\n",
    "            dist = model(x_batch)\n",
    "\n",
    "            predicted = dist.argmin(dim=1)\n",
    "            real_labels = y_batch.argmax(dim=1)\n",
    "            correct += (predicted == real_labels).sum().item()\n",
    "            total += x_batch.size(0)\n",
    "\n",
    "    accuracy = correct / total * 100\n",
    "    return accuracy"
   ]
  },
  {
   "cell_type": "code",
   "execution_count": 15,
   "id": "0716bf19",
   "metadata": {},
   "outputs": [],
   "source": [
    "num_concepts = 112\n",
    "num_classes = 200\n",
    "model = PrototypeClassifier(num_concepts, num_classes)\n",
    "optimizer = torch.optim.Adam(model.parameters(), lr=0.001)\n",
    "lambda_binary = 0.01\n",
    "lambda_L1 = 0.001"
   ]
  },
  {
   "cell_type": "code",
   "execution_count": 16,
   "id": "06ffa55e",
   "metadata": {},
   "outputs": [
    {
     "name": "stdout",
     "output_type": "stream",
     "text": [
      "Epoch [10/200]\n",
      "Train Loss: 65.6139, Train Accuracy: 74.01%, Validation Accuracy: 71.31%\n",
      "Epoch [20/200]\n",
      "Train Loss: 53.6803, Train Accuracy: 87.70%, Validation Accuracy: 86.91%\n",
      "Epoch [30/200]\n",
      "Train Loss: 43.0849, Train Accuracy: 90.49%, Validation Accuracy: 89.49%\n",
      "Epoch [40/200]\n",
      "Train Loss: 34.4428, Train Accuracy: 91.22%, Validation Accuracy: 90.08%\n",
      "Epoch [50/200]\n",
      "Train Loss: 27.7269, Train Accuracy: 92.05%, Validation Accuracy: 90.66%\n",
      "Epoch [60/200]\n",
      "Train Loss: 22.6191, Train Accuracy: 93.03%, Validation Accuracy: 92.08%\n",
      "Epoch [70/200]\n",
      "Train Loss: 18.7610, Train Accuracy: 93.76%, Validation Accuracy: 93.16%\n",
      "Epoch [80/200]\n",
      "Train Loss: 15.8418, Train Accuracy: 94.10%, Validation Accuracy: 93.83%\n",
      "Epoch [90/200]\n",
      "Train Loss: 13.6220, Train Accuracy: 94.22%, Validation Accuracy: 93.83%\n",
      "Epoch [100/200]\n",
      "Train Loss: 11.9235, Train Accuracy: 94.20%, Validation Accuracy: 93.83%\n",
      "Epoch [110/200]\n",
      "Train Loss: 10.6176, Train Accuracy: 94.22%, Validation Accuracy: 93.83%\n",
      "Epoch [120/200]\n",
      "Train Loss: 9.6100, Train Accuracy: 94.24%, Validation Accuracy: 93.83%\n",
      "Epoch [130/200]\n",
      "Train Loss: 8.8282, Train Accuracy: 94.39%, Validation Accuracy: 94.50%\n",
      "Epoch [140/200]\n",
      "Train Loss: 8.2203, Train Accuracy: 94.72%, Validation Accuracy: 95.00%\n",
      "Epoch [150/200]\n",
      "Train Loss: 7.7453, Train Accuracy: 94.72%, Validation Accuracy: 94.91%\n",
      "Epoch [160/200]\n",
      "Train Loss: 7.3744, Train Accuracy: 94.79%, Validation Accuracy: 94.91%\n",
      "Epoch [170/200]\n",
      "Train Loss: 7.0859, Train Accuracy: 94.81%, Validation Accuracy: 94.91%\n",
      "Epoch [180/200]\n",
      "Train Loss: 6.8618, Train Accuracy: 94.81%, Validation Accuracy: 94.91%\n",
      "Epoch [190/200]\n",
      "Train Loss: 6.6857, Train Accuracy: 94.83%, Validation Accuracy: 95.00%\n",
      "Epoch [200/200]\n",
      "Train Loss: 6.5457, Train Accuracy: 94.83%, Validation Accuracy: 95.00%\n"
     ]
    }
   ],
   "source": [
    "# train and test\n",
    "num_epochs = 200\n",
    "for epoch in range(num_epochs):\n",
    "    train_loss, train_accuracy = train_epoch(model, train_dataloader, optimizer, lambda_binary, lambda_L1)\n",
    "    val_accuracy = val_epoch(model, val_dataloader)\n",
    "    if((epoch+1)%10==0):\n",
    "        print(f\"Epoch [{epoch+1}/{num_epochs}]\")\n",
    "        print(f\"Train Loss: {train_loss:.4f}, Train Accuracy: {train_accuracy:.2f}%, Validation Accuracy: {val_accuracy:.2f}%\")"
   ]
  },
  {
   "cell_type": "code",
   "execution_count": 17,
   "id": "d58f8b2c-59a7-4721-9255-5a0c32d38f63",
   "metadata": {},
   "outputs": [
    {
     "data": {
      "text/plain": [
       "0.6577493959268208"
      ]
     },
     "execution_count": 17,
     "metadata": {},
     "output_type": "execute_result"
    }
   ],
   "source": [
    "real_labels = Y_test.argmax(dim=1)\n",
    "predictions = model.predict(X_test)\n",
    "(predictions == real_labels).sum().item()/len(predictions)"
   ]
  },
  {
   "cell_type": "markdown",
   "id": "93179ec5-1296-4c73-b88b-304d24d6e9c8",
   "metadata": {},
   "source": [
    "### Relation between the prediction accuracy and the distance to the closest class"
   ]
  },
  {
   "cell_type": "code",
   "execution_count": 18,
   "id": "f1eae442-973b-4da5-9d7f-d147bf47e87e",
   "metadata": {},
   "outputs": [
    {
     "data": {
      "image/png": "[encoded data removed]",
      "text/plain": [
       "<Figure size 600x400 with 1 Axes>"
      ]
     },
     "metadata": {},
     "output_type": "display_data"
    }
   ],
   "source": [
    "with torch.no_grad():\n",
    "    dists = model(X_test)\n",
    "min_dists = dists.min(dim=1).values.numpy()\n",
    "orders = min_dists.argsort()\n",
    "min_dists.sort()\n",
    "threshold = min_dists[orders[int(0.9*len(min_dists))]]\n",
    "max_min_dist = min_dists.max()\n",
    "\n",
    "real_labels = Y_test.argmax(dim=1)\n",
    "predictions = model.predict(X_test)\n",
    "matching_array = (predictions == real_labels).numpy()\n",
    "matching_array = matching_array[orders]\n",
    "n_bins = int(max_min_dist) + 1\n",
    "bin_acc = np.zeros(n_bins)\n",
    "for i in range(0, n_bins):\n",
    "    index = (min_dists>=i) * (min_dists<=(i+1))\n",
    "    bin_acc[i] = matching_array[index].mean()\n",
    "# plt.plot(range(0, n_bins), bin_acc)\n",
    "bin_edges = np.linspace(0, n_bins, n_bins + 1)\n",
    "bin_centers = 0.5 * (bin_edges[:-1] + bin_edges[1:])\n",
    "plt.figure(figsize=(6, 4))\n",
    "plt.bar(bin_centers, bin_acc, width=bin_edges[1] - bin_edges[0], edgecolor='black')\n",
    "plt.xlabel('Distance to the closest class')\n",
    "plt.ylabel('Accuracy')\n",
    "# plt.title('Distance Distribution')\n",
    "plt.grid(True)\n",
    "plt.show()"
   ]
  },
  {
   "cell_type": "code",
   "execution_count": 19,
   "id": "82d4738e-4987-432b-bf88-c04e0603eb6b",
   "metadata": {},
   "outputs": [
    {
     "name": "stderr",
     "output_type": "stream",
     "text": [
      "/var/folders/_9/4sprgpf55g9fqk73fyc2s_0w0000gn/T/ipykernel_1591/3739147654.py:17: RuntimeWarning: Mean of empty slice.\n",
      "  bin_acc[i] = matching_array[index].mean()\n",
      "/Users/pb/.pyenv/versions/3.11.9/lib/python3.11/site-packages/numpy/_core/_methods.py:145: RuntimeWarning: invalid value encountered in scalar divide\n",
      "  ret = ret.dtype.type(ret / rcount)\n"
     ]
    },
    {
     "data": {
      "image/png": "[encoded data removed]",
      "text/plain": [
       "<Figure size 600x400 with 1 Axes>"
      ]
     },
     "metadata": {},
     "output_type": "display_data"
    }
   ],
   "source": [
    "with torch.no_grad():\n",
    "    dists = model(X_val)\n",
    "min_dists = dists.min(dim=1).values.numpy()\n",
    "orders = min_dists.argsort()\n",
    "min_dists.sort()\n",
    "threshold = min_dists[orders[int(0.9*len(min_dists))]]\n",
    "max_min_dist = min_dists.max()\n",
    "\n",
    "real_labels = Y_val.argmax(dim=1)\n",
    "predictions = model.predict(X_val)\n",
    "matching_array = (predictions == real_labels).numpy()\n",
    "matching_array = matching_array[orders]\n",
    "n_bins = int(max_min_dist) + 1\n",
    "bin_acc = np.zeros(n_bins)\n",
    "for i in range(0, n_bins):\n",
    "    index = (min_dists>=i) * (min_dists<=(i+1))\n",
    "    bin_acc[i] = matching_array[index].mean()\n",
    "# plt.plot(range(0, n_bins), bin_acc)\n",
    "bin_edges = np.linspace(0, n_bins, n_bins + 1)\n",
    "bin_centers = 0.5 * (bin_edges[:-1] + bin_edges[1:])\n",
    "plt.figure(figsize=(6, 4))\n",
    "plt.bar(bin_centers, bin_acc, width=bin_edges[1] - bin_edges[0], edgecolor='black')\n",
    "plt.xlabel('Distance to the closest class')\n",
    "plt.ylabel('Accuracy')\n",
    "# plt.title('Distance Distribution')\n",
    "plt.grid(True)\n",
    "plt.show()"
   ]
  },
  {
   "cell_type": "code",
   "execution_count": 20,
   "id": "770a92c6-90ea-4566-9a7d-e69c0766933a",
   "metadata": {},
   "outputs": [
    {
     "data": {
      "image/png": "[encoded data removed]",
      "text/plain": [
       "<Figure size 800x600 with 1 Axes>"
      ]
     },
     "metadata": {},
     "output_type": "display_data"
    }
   ],
   "source": [
    "with torch.no_grad():\n",
    "    train_dists = model(X_train)\n",
    "    test_dists = model(X_test)\n",
    "train_min_dists = train_dists.min(dim=1).values.numpy()\n",
    "test_min_dists = test_dists.min(dim=1).values.numpy()\n",
    "\n",
    "train_min_dists = np.sort(train_min_dists)\n",
    "test_min_dists = np.sort(test_min_dists)\n",
    "\n",
    "cdf_train = np.arange(1, len(train_min_dists)+1) / len(train_min_dists)\n",
    "cdf_test = np.arange(1, len(test_min_dists)+1) / len(test_min_dists)\n",
    "\n",
    "plt.figure(figsize=(8, 6))\n",
    "plt.plot(train_min_dists, cdf_train, label='Train', color='blue')\n",
    "plt.plot(test_min_dists, cdf_test, label='Test', color='red')\n",
    "plt.xlabel('Distance to the closest class')\n",
    "plt.ylabel('Cumulative Probability')\n",
    "# plt.title('Cumulative Distribution Functions (CDF)')\n",
    "plt.grid(True)\n",
    "plt.legend()\n",
    "plt.show()"
   ]
  },
  {
   "cell_type": "markdown",
   "id": "a5adc01b-cf74-4204-8c4e-9a752f84c6ae",
   "metadata": {},
   "source": [
    "### Relation between the prediction accuracy and the lenght of concept list"
   ]
  },
  {
   "cell_type": "code",
   "execution_count": 21,
   "id": "b4ce572f-898d-4392-a2bd-89f7ec689908",
   "metadata": {
    "scrolled": true
   },
   "outputs": [
    {
     "name": "stdout",
     "output_type": "stream",
     "text": [
      "[0.83333333 0.93333333 0.6        0.73333333 0.5        0.9\n",
      " 0.73333333 0.6        0.63333333 0.63333333 0.56666667 0.77777778\n",
      " 0.86666667 0.8        0.76666667 0.4        0.66666667 0.93333333\n",
      " 0.8        0.5        0.76666667 0.57894737 0.89285714 0.48275862\n",
      " 0.83333333 0.76666667 0.76666667 0.76666667 0.77777778 0.66666667\n",
      " 0.62068966 0.66666667 0.8        0.44827586 0.6        0.76666667\n",
      " 0.76666667 0.66666667 0.66666667 0.8        0.52173913 0.82142857\n",
      " 0.73076923 0.7        0.83333333 0.86666667 0.56666667 0.4\n",
      " 0.76666667 0.78571429 0.86206897 0.66666667 0.43333333 0.63333333\n",
      " 0.4137931  0.37931034 0.8        0.6        0.7        0.43333333\n",
      " 0.4        0.76666667 0.66666667 0.83333333 0.48275862 0.83333333\n",
      " 0.8        0.91304348 0.8        0.68965517 0.73333333 0.43333333\n",
      " 0.7        0.82758621 0.53333333 0.73333333 0.73333333 0.5862069\n",
      " 0.63333333 0.66666667 0.73333333 0.31034483 0.9        0.83333333\n",
      " 0.53333333 0.59090909 0.26666667 0.53333333 0.9047619  0.5\n",
      " 0.3        0.2        0.62068966 0.8        0.44827586 0.73333333\n",
      " 0.56666667 0.6        0.55555556 0.73333333 0.56666667 0.55\n",
      " 0.4        0.6        0.82758621 0.36666667 0.56666667 0.6\n",
      " 0.78571429 0.33333333 0.7        0.76923077 0.93333333 0.43333333\n",
      " 0.48275862 0.16666667 0.66666667 0.33333333 0.36666667 0.7\n",
      " 0.66666667 0.83333333 0.76666667 0.65517241 0.63333333 0.60869565\n",
      " 0.37931034 0.8        0.8        0.9        0.89655172 0.68965517\n",
      " 0.63333333 0.3        0.66666667 0.76666667 0.16666667 0.86666667\n",
      " 0.93333333 0.56666667 0.6        0.7        0.63333333 0.73333333\n",
      " 0.66666667 0.75862069 0.93333333 0.65517241 0.8        0.6\n",
      " 0.85       0.86666667 0.43333333 0.61538462 0.72727273 0.62068966\n",
      " 0.63333333 0.53333333 0.86666667 0.6        0.8        0.3\n",
      " 0.9        0.27586207 0.23333333 0.64285714 0.76666667 0.86206897\n",
      " 0.93333333 0.46666667 0.8        0.75862069 0.56666667 0.2\n",
      " 0.76666667 0.73333333 0.76666667 0.6        0.76666667 0.66666667\n",
      " 0.53333333 0.82758621 0.43333333 0.8        0.63333333 0.93333333\n",
      " 0.63333333 0.56666667 0.66666667 0.9        0.4        0.9\n",
      " 0.8        0.82758621 0.66666667 0.8        0.7        0.48275862\n",
      " 0.73333333 0.65517241]\n"
     ]
    },
    {
     "data": {
      "text/plain": [
       "[<matplotlib.lines.Line2D at 0x16a863910>]"
      ]
     },
     "execution_count": 21,
     "metadata": {},
     "output_type": "execute_result"
    },
    {
     "data": {
      "image/png": "[encoded data removed]",
      "text/plain": [
       "<Figure size 640x480 with 1 Axes>"
      ]
     },
     "metadata": {},
     "output_type": "display_data"
    }
   ],
   "source": [
    "real_labels = Y_test.argmax(dim=1)\n",
    "predictions = model.predict(X_test)\n",
    "matching_array = (predictions == real_labels).numpy()\n",
    "\n",
    "prototypes = expit(model.P.cpu().detach().numpy())\n",
    "prototypes[prototypes<0.5] = 0\n",
    "prototypes[prototypes>0.5] = 1\n",
    "\n",
    "class_n_concetps = prototypes.sum(axis=1)\n",
    "class_order = class_n_concetps.argsort()\n",
    "class_n_concetps.sort()\n",
    "\n",
    "accuracy_list = np.zeros(len(class_n_concetps))\n",
    "\n",
    "for i in range(len(class_n_concetps)):\n",
    "    label = class_order[i]\n",
    "    index = real_labels==label\n",
    "    accuracy_list[i] = matching_array[index].mean()\n",
    "print(accuracy_list)\n",
    "plt.plot(accuracy_list)"
   ]
  },
  {
   "cell_type": "markdown",
   "id": "698d4ace-7487-4152-88ab-36312258333b",
   "metadata": {},
   "source": [
    "### Comparison between prediction and real label\n",
    "CNN会错误激活很多不相关的概念（假阳性）"
   ]
  },
  {
   "cell_type": "code",
   "execution_count": 22,
   "id": "bfdd9210-11ee-4916-a1da-89089f3e2511",
   "metadata": {},
   "outputs": [],
   "source": [
    "prototypes = expit(model.P.cpu().detach().numpy())\n",
    "prototypes[prototypes<0.5] = 0\n",
    "prototypes[prototypes>0.5] = 1"
   ]
  },
  {
   "cell_type": "code",
   "execution_count": 23,
   "id": "519e7f74-515b-4ee5-b6e1-3a57e91b5660",
   "metadata": {},
   "outputs": [
    {
     "name": "stdout",
     "output_type": "stream",
     "text": [
      "6.696923852748361 8.544125063035805\n",
      "3.241668853319339 1.942797166098137\n"
     ]
    }
   ],
   "source": [
    "dists = model.concept_wise_dist(X_test) # [5794, 200, 112]\n",
    "real_labels = Y_test.argmax(dim=1)\n",
    "predictions = model.predict(X_test)\n",
    "\n",
    "# to calculate how many false positive and false negative\n",
    "\n",
    "count_incorrect = 0\n",
    "fp_incorrect = 0\n",
    "fn_incorrect = 0\n",
    "for i in range(len(predictions)):\n",
    "    if real_labels[i] != predictions[i]:\n",
    "        count_incorrect += 1\n",
    "        real_label = real_labels[i]\n",
    "        concept_activation = X_test[i, :]\n",
    "        for k in range(len(concept_activation)):\n",
    "            if concept_activation[k] < 0.5 and class_level_concepts[real_label, k]==1:\n",
    "                fn_incorrect += 1\n",
    "            if concept_activation[k] >= 0.5 and class_level_concepts[real_label, k]==0:\n",
    "                fp_incorrect += 1\n",
    "\n",
    "print(fp_incorrect/count_incorrect, fn_incorrect/count_incorrect)\n",
    "\n",
    "count_correct = 0\n",
    "fp_correct = 0\n",
    "fn_correct = 0\n",
    "for i in range(len(predictions)):\n",
    "    if real_labels[i] == predictions[i]:\n",
    "        count_correct += 1\n",
    "        real_label = real_labels[i]\n",
    "        concept_activation = X_test[i, :]\n",
    "        for k in range(len(concept_activation)):\n",
    "            if concept_activation[k] < 0.5 and class_level_concepts[real_label, k]==1:\n",
    "                fn_correct += 1\n",
    "            if concept_activation[k] >= 0.5 and class_level_concepts[real_label, k]==0:\n",
    "                fp_correct += 1\n",
    "\n",
    "print(fp_correct/count_correct, fn_correct/count_correct)\n",
    "# index 3: 0 -> 1\n",
    "# index 4: 0 -> 2\n",
    "# index 5: 0 -> 1\n",
    "# index = 1\n",
    "\n",
    "# predicted_distance = dists[index, predictions[index],:]\n",
    "# real_label_distance = dists[index, real_labels[index],:]\n",
    "# print(torch.abs(predicted_distance).sum(), torch.abs(real_label_distance).sum())\n"
   ]
  },
  {
   "cell_type": "code",
   "execution_count": 24,
   "id": "9727c961-d6b4-4f5b-b949-0921709f93ff",
   "metadata": {},
   "outputs": [
    {
     "data": {
      "text/plain": [
       "(0.13608079389093006, 0.04628987517337032)"
      ]
     },
     "execution_count": 24,
     "metadata": {},
     "output_type": "execute_result"
    }
   ],
   "source": [
    "(fp_incorrect+fn_incorrect)/(count_incorrect*112), (fp_correct+fn_correct)/(count_correct*112)"
   ]
  },
  {
   "cell_type": "code",
   "execution_count": 25,
   "id": "930c1a02-5bae-49c4-9c76-7ba07771393a",
   "metadata": {},
   "outputs": [
    {
     "data": {
      "text/plain": [
       "0.07702087134474087"
      ]
     },
     "execution_count": 25,
     "metadata": {},
     "output_type": "execute_result"
    }
   ],
   "source": [
    "(fp_incorrect+fn_incorrect+fp_correct+fn_correct)/((count_incorrect+count_correct)*112)"
   ]
  },
  {
   "cell_type": "code",
   "execution_count": 27,
   "id": "469aa363-f26b-4cc3-81c3-86253bccfd23",
   "metadata": {},
   "outputs": [
    {
     "name": "stdout",
     "output_type": "stream",
     "text": [
      "[ 0  0  0 ... 28 28 28]\n"
     ]
    }
   ],
   "source": [
    "predicted_concept_list = np.where(prototypes[predictions[index]]==1)[0]\n",
    "print(predicted_concept_list)\n",
    "# predicted_distance[predicted_concept_list], torch.abs(predicted_distance[predicted_concept_list]).sum()"
   ]
  },
  {
   "cell_type": "code",
   "execution_count": 29,
   "id": "7ab79fb1-7e12-4443-a386-0d3c19637805",
   "metadata": {},
   "outputs": [
    {
     "name": "stdout",
     "output_type": "stream",
     "text": [
      "[ 0  0  0 ... 28 28 28]\n"
     ]
    }
   ],
   "source": [
    "real_label_concept_list = np.where(prototypes[real_labels[index]]==1)[0]\n",
    "print(real_label_concept_list)\n",
    "# real_label_distance[real_label_concept_list], torch.abs(real_label_distance[real_label_concept_list]).sum()"
   ]
  },
  {
   "cell_type": "code",
   "execution_count": 30,
   "id": "bc5b9cf3-9d15-4ffa-830b-fccbd0658861",
   "metadata": {},
   "outputs": [
    {
     "data": {
      "text/plain": [
       "(array([ 0,  0,  0, ..., 28, 28, 28], shape=(1841,)),\n",
       " tensor([0.9500, 0.1300, 0.2200,  ..., 0.9200, 0.0300, 1.0000]))"
      ]
     },
     "execution_count": 30,
     "metadata": {},
     "output_type": "execute_result"
    }
   ],
   "source": [
    "np.where(X_test[index]>0)[0], X_test[index][X_test[index]>0]"
   ]
  },
  {
   "cell_type": "code",
   "execution_count": 31,
   "id": "88f9dfa1-801e-4e5d-9c60-c276c0a3ffd9",
   "metadata": {},
   "outputs": [
    {
     "data": {
      "text/plain": [
       "tensor([[0.0000, 0.0000, 0.9500,  ..., 0.0000, 0.0900, 0.0100],\n",
       "        [0.0000, 0.0000, 0.9500,  ..., 0.0000, 0.0900, 0.0100],\n",
       "        [0.0000, 0.0000, 0.9500,  ..., 0.0000, 0.0900, 0.0100],\n",
       "        ...,\n",
       "        [0.0000, 0.0000, 0.0200,  ..., 0.0000, 1.0000, 0.0000],\n",
       "        [0.0000, 0.0000, 0.0200,  ..., 0.0000, 1.0000, 0.0000],\n",
       "        [0.0000, 0.0000, 0.0200,  ..., 0.0000, 1.0000, 0.0000]])"
      ]
     },
     "execution_count": 31,
     "metadata": {},
     "output_type": "execute_result"
    }
   ],
   "source": [
    "X_test[index][real_label_concept_list]"
   ]
  },
  {
   "cell_type": "code",
   "execution_count": 32,
   "id": "401454d0-35c1-4d6a-a1cd-def196b16786",
   "metadata": {},
   "outputs": [
    {
     "data": {
      "text/plain": [
       "(array([ 0,  0,  0,  0,  0,  0,  0,  0,  0,  0,  0,  0,  0,  0,  0,  0,  0,\n",
       "         0,  0,  0,  0,  0,  0,  0,  0,  0,  0,  0,  0,  1,  1,  1,  1,  1,\n",
       "         1,  1,  1,  1,  1,  1,  1,  1,  1,  1,  1,  1,  1,  1,  1,  1,  1,\n",
       "         1,  1,  1,  1,  1,  1,  1,  2,  2,  2,  2,  2,  2,  2,  2,  2,  2,\n",
       "         2,  2,  2,  2,  2,  2,  2,  2,  2,  2,  2,  2,  2,  2,  2,  2,  2,\n",
       "         2,  2,  3,  3,  3,  3,  3,  3,  3,  3,  3,  3,  3,  3,  3,  3,  3,\n",
       "         3,  3,  3,  3,  3,  3,  3,  3,  3,  3,  3,  3,  3,  3,  4,  4,  4,\n",
       "         4,  4,  4,  4,  4,  4,  4,  4,  4,  4,  4,  4,  4,  4,  4,  4,  4,\n",
       "         4,  4,  4,  4,  4,  4,  4,  4,  4,  5,  5,  5,  5,  5,  5,  5,  5,\n",
       "         5,  5,  5,  5,  5,  5,  5,  5,  5,  5,  5,  5,  5,  5,  5,  5,  5,\n",
       "         5,  5,  5,  5,  6,  6,  6,  6,  6,  6,  6,  6,  6,  6,  6,  6,  6,\n",
       "         6,  6,  6,  6,  6,  6,  6,  6,  6,  6,  6,  6,  6,  6,  6,  6,  7,\n",
       "         7,  7,  7,  7,  7,  7,  7,  7,  7,  7,  7,  7,  7,  7,  7,  7,  7,\n",
       "         7,  7,  7,  7,  7,  7,  7,  7,  7,  7,  7,  8,  8,  8,  8,  8,  8,\n",
       "         8,  8,  8,  8,  8,  8,  8,  8,  8,  8,  8,  8,  8,  8,  8,  8,  8,\n",
       "         8,  8,  8,  8,  8,  8,  9,  9,  9,  9,  9,  9,  9,  9,  9,  9,  9,\n",
       "         9,  9,  9,  9,  9,  9,  9,  9,  9,  9,  9,  9,  9,  9,  9,  9,  9,\n",
       "         9, 10, 10, 10, 10, 10, 10, 10, 10, 10, 10, 10, 10, 10, 10, 10, 10,\n",
       "        10, 10, 10, 10, 10, 10, 10, 10, 10, 10, 10, 10, 10, 11, 11, 11, 11,\n",
       "        11, 11, 11, 11, 11, 11, 11, 11, 11, 11, 11, 11, 11, 11, 11, 11, 11,\n",
       "        11, 11, 11, 11, 11, 11, 11, 11, 12, 12, 12, 12, 12, 12, 12, 12, 12,\n",
       "        12, 12, 12, 12, 12, 12, 12, 12, 12, 12, 12, 12, 12, 12, 12, 12, 12,\n",
       "        12, 12, 12, 13, 13, 13, 13, 13, 13, 13, 13, 13, 13, 13, 13, 13, 13,\n",
       "        13, 13, 13, 13, 13, 13, 13, 13, 13, 13, 13, 13, 13, 13, 13, 14, 14,\n",
       "        14, 14, 14, 14, 14, 14, 14, 14, 14, 14, 14, 14, 14, 14, 14, 14, 14,\n",
       "        14, 14, 14, 14, 14, 14, 14, 14, 14, 14, 15, 15, 15, 15, 15, 15, 15,\n",
       "        15, 15, 15, 15, 15, 15, 15, 15, 15, 15, 15, 15, 15, 15, 15, 15, 15,\n",
       "        15, 15, 15, 15, 15, 16, 16, 16, 16, 16, 16, 16, 16, 16, 16, 16, 16,\n",
       "        16, 16, 16, 16, 16, 16, 16, 16, 16, 16, 16, 16, 16, 16, 16, 16, 16,\n",
       "        17, 17, 17, 17, 17, 17, 17, 17, 17, 17, 17, 17, 17, 17, 17, 17, 17,\n",
       "        17, 17, 17, 17, 17, 17, 17, 17, 17, 17, 17, 17, 18, 18, 18, 18, 18,\n",
       "        18, 18, 18, 18, 18, 18, 18, 18, 18, 18, 18, 18, 18, 18, 18, 18, 18,\n",
       "        18, 18, 18, 18, 18, 18, 18, 19, 19, 19, 19, 19, 19, 19, 19, 19, 19,\n",
       "        19, 19, 19, 19, 19, 19, 19, 19, 19, 19, 19, 19, 19, 19, 19, 19, 19,\n",
       "        19, 19, 20, 20, 20, 20, 20, 20, 20, 20, 20, 20, 20, 20, 20, 20, 20,\n",
       "        20, 20, 20, 20, 20, 20, 20, 20, 20, 20, 20, 20, 20, 20, 21, 21, 21,\n",
       "        21, 21, 21, 21, 21, 21, 21, 21, 21, 21, 21, 21, 21, 21, 21, 21, 21,\n",
       "        21, 21, 21, 21, 21, 21, 21, 21, 21, 22, 22, 22, 22, 22, 22, 22, 22,\n",
       "        22, 22, 22, 22, 22, 22, 22, 22, 22, 22, 22, 22, 22, 22, 22, 22, 22,\n",
       "        22, 22, 22, 22, 23, 23, 23, 23, 23, 23, 23, 23, 23, 23, 23, 23, 23,\n",
       "        23, 23, 23, 23, 23, 23, 23, 23, 23, 23, 23, 23, 23, 23, 23, 23, 24,\n",
       "        24, 24, 24, 24, 24, 24, 24, 24, 24, 24, 24, 24, 24, 24, 24, 24, 24,\n",
       "        24, 24, 24, 24, 24, 24, 24, 24, 24, 24, 24, 25, 25, 25, 25, 25, 25,\n",
       "        25, 25, 25, 25, 25, 25, 25, 25, 25, 25, 25, 25, 25, 25, 25, 25, 25,\n",
       "        25, 25, 25, 25, 25, 25, 26, 26, 26, 26, 26, 26, 26, 26, 26, 26, 26,\n",
       "        26, 26, 26, 26, 26, 26, 26, 26, 26, 26, 26, 26, 26, 26, 26, 26, 26,\n",
       "        26, 27, 27, 27, 27, 27, 27, 27, 27, 27, 27, 27, 27, 27, 27, 27, 27,\n",
       "        27, 27, 27, 27, 27, 27, 27, 27, 27, 27, 27, 27, 27, 28, 28, 28, 28,\n",
       "        28, 28, 28, 28, 28, 28, 28, 28, 28, 28, 28, 28, 28, 28, 28, 28, 28,\n",
       "        28, 28, 28, 28, 28, 28, 28, 28]),\n",
       " tensor([[0.0000, 0.0000, 0.9500,  ..., 0.0000, 0.0900, 0.0100],\n",
       "         [0.0000, 0.0000, 0.9500,  ..., 0.0000, 0.0900, 0.0100],\n",
       "         [0.0000, 0.0000, 0.9500,  ..., 0.0000, 0.0900, 0.0100],\n",
       "         ...,\n",
       "         [0.0000, 0.0000, 0.0200,  ..., 0.0000, 1.0000, 0.0000],\n",
       "         [0.0000, 0.0000, 0.0200,  ..., 0.0000, 1.0000, 0.0000],\n",
       "         [0.0000, 0.0000, 0.0200,  ..., 0.0000, 1.0000, 0.0000]]))"
      ]
     },
     "execution_count": 32,
     "metadata": {},
     "output_type": "execute_result"
    }
   ],
   "source": [
    "np.where(class_level_concepts[real_labels[index]]==1)[0],X_test[index][np.where(class_level_concepts[real_labels[index]]==1)[0]]"
   ]
  },
  {
   "cell_type": "code",
   "execution_count": 33,
   "id": "041ccc78-1f44-4e11-9c0a-573f5667f6cc",
   "metadata": {},
   "outputs": [
    {
     "data": {
      "text/plain": [
       "(array([ 0,  0,  0,  0,  0,  0,  0,  0,  0,  0,  0,  0,  0,  0,  0,  0,  0,\n",
       "         0,  1,  1,  1,  1,  1,  1,  1,  1,  1,  1,  1,  1,  1,  1,  1,  1,\n",
       "         1,  1,  1,  1,  1,  1,  1,  1,  1,  1,  1,  1,  1,  2,  2,  2,  2,\n",
       "         2,  2,  2,  2,  2,  2,  2,  2,  2,  2,  2,  2,  2,  2,  2,  2,  2,\n",
       "         2,  2,  2,  2,  2,  2,  2,  2,  3,  3,  3,  3,  3,  3,  3,  3,  3,\n",
       "         3,  3,  3,  3,  3,  3,  3,  3,  3,  3,  3,  3,  3,  3,  3,  3,  3,\n",
       "         3,  3,  3,  4,  4,  4,  4,  4,  4,  4,  4,  4,  4,  4,  4,  4,  4,\n",
       "         4,  4,  4,  4,  4,  4,  4,  4,  4,  4,  4,  4,  4,  4,  4,  5,  5,\n",
       "         5,  5,  5,  5,  5,  5,  5,  5,  5,  5,  5,  5,  5,  5,  5,  5,  5,\n",
       "         5,  5,  5,  5,  5,  5,  5,  5,  5,  5,  6,  6,  6,  6,  6,  6,  6,\n",
       "         6,  6,  6,  6,  6,  6,  6,  6,  6,  6,  6,  6,  6,  6,  6,  6,  6,\n",
       "         6,  6,  6,  6,  6,  7,  7,  7,  7,  7,  7,  7,  7,  7,  7,  7,  7,\n",
       "         7,  7,  7,  7,  7,  7,  7,  7,  7,  7,  7,  7,  7,  7,  7,  7,  7,\n",
       "         8,  8,  8,  8,  8,  8,  8,  8,  8,  8,  8,  8,  8,  8,  8,  8,  8,\n",
       "         8,  8,  8,  8,  8,  8,  8,  8,  8,  8,  8,  8,  9,  9,  9,  9,  9,\n",
       "         9,  9,  9,  9,  9,  9,  9,  9,  9,  9,  9,  9,  9,  9,  9,  9,  9,\n",
       "         9,  9,  9,  9,  9,  9,  9, 10, 10, 10, 10, 10, 10, 10, 10, 10, 10,\n",
       "        10, 10, 10, 10, 10, 10, 10, 10, 10, 10, 10, 10, 10, 10, 10, 10, 10,\n",
       "        10, 10, 10, 10, 10, 10, 11, 11, 11, 11, 11, 11, 11, 11, 11, 11, 11,\n",
       "        11, 11, 11, 11, 11, 11, 11, 11, 11, 11, 11, 11, 11, 11, 11, 11, 11,\n",
       "        11, 12, 12, 12, 12, 12, 12, 12, 12, 12, 12, 12, 12, 12, 12, 12, 12,\n",
       "        12, 12, 12, 12, 12, 12, 12, 12, 12, 12, 12, 12, 12, 13, 13, 13, 13,\n",
       "        13, 13, 13, 13, 13, 13, 13, 13, 13, 13, 13, 13, 13, 13, 13, 13, 13,\n",
       "        13, 13, 13, 13, 13, 14, 14, 14, 14, 14, 14, 14, 14, 14, 14, 14, 14,\n",
       "        14, 14, 14, 14, 14, 14, 14, 14, 14, 14, 14, 14, 14, 14, 15, 15, 15,\n",
       "        15, 15, 15, 15, 15, 15, 15, 15, 15, 15, 15, 15, 15, 15, 15, 15, 15,\n",
       "        15, 15, 15, 16, 16, 16, 16, 16, 16, 16, 16, 16, 16, 16, 16, 16, 16,\n",
       "        16, 16, 16, 16, 16, 16, 16, 16, 16, 16, 16, 16, 16, 16, 16, 16, 16,\n",
       "        16, 16, 17, 17, 17, 17, 17, 17, 17, 17, 17, 17, 17, 17, 17, 17, 17,\n",
       "        17, 17, 17, 17, 17, 17, 17, 18, 18, 18, 18, 18, 18, 18, 18, 18, 18,\n",
       "        18, 18, 18, 18, 18, 18, 18, 18, 18, 18, 18, 18, 18, 18, 18, 18, 18,\n",
       "        18, 18, 19, 19, 19, 19, 19, 19, 19, 19, 19, 19, 19, 19, 19, 19, 19,\n",
       "        19, 19, 19, 19, 19, 19, 19, 19, 19, 19, 19, 19, 19, 19, 20, 20, 20,\n",
       "        20, 20, 20, 21, 21, 21, 21, 21, 21, 21, 21, 21, 21, 21, 21, 21, 21,\n",
       "        21, 21, 21, 21, 21, 21, 21, 21, 21, 21, 21, 21, 21, 21, 21, 22, 22,\n",
       "        22, 22, 22, 22, 22, 22, 22, 22, 22, 22, 22, 22, 22, 22, 22, 22, 22,\n",
       "        22, 22, 22, 22, 22, 22, 22, 22, 22, 22, 23, 23, 23, 23, 23, 23, 23,\n",
       "        23, 23, 23, 23, 23, 23, 23, 23, 23, 23, 23, 23, 23, 23, 23, 23, 23,\n",
       "        23, 23, 23, 23, 23, 24, 24, 24, 24, 24, 24, 24, 24, 24, 24, 24, 24,\n",
       "        24, 24, 24, 24, 24, 24, 24, 24, 24, 24, 24, 24, 24, 24, 24, 24, 24,\n",
       "        24, 24, 24, 24, 25, 25, 25, 25, 25, 25, 25, 25, 25, 25, 25, 25, 25,\n",
       "        25, 25, 25, 25, 25, 25, 25, 25, 25, 25, 25, 25, 25, 25, 25, 25, 26,\n",
       "        26, 26, 26, 26, 26, 26, 26, 26, 26, 26, 26, 26, 26, 26, 26, 26, 26,\n",
       "        26, 26, 26, 26, 26, 27, 27, 27, 27, 27, 27, 27, 27, 27, 27, 27, 27,\n",
       "        27, 27, 27, 27, 27, 27, 27, 27, 27, 27, 27, 27, 27, 27, 27, 27, 27,\n",
       "        28, 28, 28, 28, 28, 28, 28, 28, 28, 28, 28, 28, 28, 28, 28, 28, 28,\n",
       "        28, 28, 28, 28, 28, 28, 28, 28, 28, 28, 28, 28]),\n",
       " tensor([[0.0000, 0.0000, 0.9500,  ..., 0.0000, 0.0900, 0.0100],\n",
       "         [0.0000, 0.0000, 0.9500,  ..., 0.0000, 0.0900, 0.0100],\n",
       "         [0.0000, 0.0000, 0.9500,  ..., 0.0000, 0.0900, 0.0100],\n",
       "         ...,\n",
       "         [0.0000, 0.0000, 0.0200,  ..., 0.0000, 1.0000, 0.0000],\n",
       "         [0.0000, 0.0000, 0.0200,  ..., 0.0000, 1.0000, 0.0000],\n",
       "         [0.0000, 0.0000, 0.0200,  ..., 0.0000, 1.0000, 0.0000]]))"
      ]
     },
     "execution_count": 33,
     "metadata": {},
     "output_type": "execute_result"
    }
   ],
   "source": [
    "np.where(class_level_concepts[predictions[index]]==1)[0],X_test[index][np.where(class_level_concepts[predictions[index]]==1)[0]]"
   ]
  },
  {
   "cell_type": "code",
   "execution_count": 34,
   "id": "a5d4faf9-8c8c-4f8b-9e0c-3241b55ebb16",
   "metadata": {},
   "outputs": [
    {
     "ename": "TypeError",
     "evalue": "unsupported operand type(s) for -: 'numpy.ndarray' and 'Tensor'",
     "output_type": "error",
     "traceback": [
      "\u001b[31m---------------------------------------------------------------------------\u001b[39m",
      "\u001b[31mTypeError\u001b[39m                                 Traceback (most recent call last)",
      "\u001b[36mCell\u001b[39m\u001b[36m \u001b[39m\u001b[32mIn[34]\u001b[39m\u001b[32m, line 6\u001b[39m\n\u001b[32m      3\u001b[39m prototypes[prototypes<\u001b[32m0.5\u001b[39m] = \u001b[32m0\u001b[39m\n\u001b[32m      4\u001b[39m prototypes[prototypes>\u001b[32m0.5\u001b[39m] = \u001b[32m1\u001b[39m\n\u001b[32m----> \u001b[39m\u001b[32m6\u001b[39m dists = np.sum(np.abs(\u001b[43mclass_level_concepts\u001b[49m\u001b[43m[\u001b[49m\u001b[43mnp\u001b[49m\u001b[43m.\u001b[49m\u001b[43mnewaxis\u001b[49m\u001b[43m,\u001b[49m\u001b[43m \u001b[49m\u001b[43m:\u001b[49m\u001b[43m,\u001b[49m\u001b[43m \u001b[49m\u001b[43m:\u001b[49m\u001b[43m]\u001b[49m\u001b[43m \u001b[49m\u001b[43m-\u001b[49m\u001b[43m \u001b[49m\u001b[43mX_test\u001b[49m\u001b[43m[\u001b[49m\u001b[43m:\u001b[49m\u001b[43m,\u001b[49m\u001b[43m \u001b[49m\u001b[43mnp\u001b[49m\u001b[43m.\u001b[49m\u001b[43mnewaxis\u001b[49m\u001b[43m,\u001b[49m\u001b[43m \u001b[49m\u001b[43m:\u001b[49m\u001b[43m]\u001b[49m), axis=\u001b[32m2\u001b[39m)\n\u001b[32m      7\u001b[39m Y_hat = dists.argmin(axis=\u001b[32m1\u001b[39m)\n\u001b[32m      9\u001b[39m dists = class_level_concepts[np.newaxis, :, :] - X_test[:, np.newaxis, :]\n",
      "\u001b[31mTypeError\u001b[39m: unsupported operand type(s) for -: 'numpy.ndarray' and 'Tensor'"
     ]
    }
   ],
   "source": [
    "M = model.P.cpu().detach().numpy()\n",
    "prototypes = expit(M.copy())\n",
    "prototypes[prototypes<0.5] = 0\n",
    "prototypes[prototypes>0.5] = 1\n",
    "\n",
    "dists = np.sum(np.abs(class_level_concepts[np.newaxis, :, :] - X_test[:, np.newaxis, :]), axis=2)\n",
    "Y_hat = dists.argmin(axis=1)\n",
    "\n",
    "dists = class_level_concepts[np.newaxis, :, :] - X_test[:, np.newaxis, :]\n",
    "dists = dists[np.arange(dists.shape[0]), Y_test, :]\n",
    "dists.shape"
   ]
  },
  {
   "cell_type": "code",
   "execution_count": 35,
   "id": "5c023f3a-d91f-4f8e-ab0d-eb731485c513",
   "metadata": {},
   "outputs": [
    {
     "data": {
      "text/plain": [
       "array([[0.00462862, 0.9958188 , 0.00501173, ..., 0.00347157, 0.00431206,\n",
       "        0.00496754],\n",
       "       [0.00412695, 0.99023366, 0.0048944 , ..., 0.00365641, 0.00582049,\n",
       "        0.00594629],\n",
       "       [0.00555341, 0.9852485 , 0.00587484, ..., 0.00399974, 0.00627695,\n",
       "        0.00492963],\n",
       "       ...,\n",
       "       [0.98844725, 0.00351554, 0.00481203, ..., 0.99152803, 0.00538532,\n",
       "        0.00652476],\n",
       "       [0.0052886 , 0.00589621, 0.9859827 , ..., 0.0055266 , 0.00616012,\n",
       "        0.00402967],\n",
       "       [0.00368708, 0.00320442, 0.99385464, ..., 0.00461174, 0.00339779,\n",
       "        0.00488467]], shape=(200, 112), dtype=float32)"
      ]
     },
     "execution_count": 35,
     "metadata": {},
     "output_type": "execute_result"
    }
   ],
   "source": [
    "M = model.P.cpu().detach().numpy()\n",
    "prototypes = expit(M.copy())\n",
    "prototypes\n",
    "# prototypes[prototypes<0.5] = 0\n",
    "# prototypes[prototypes>0.5] = 1\n",
    "# prototypes.sum(axis=1)"
   ]
  },
  {
   "cell_type": "markdown",
   "id": "10423baa-cfac-438e-a3f9-5a94eeee2635",
   "metadata": {},
   "source": [
    "### Distance to the closest class as confidance"
   ]
  },
  {
   "cell_type": "code",
   "execution_count": 36,
   "id": "ba44afc1-5e6d-46d2-a306-81a88b7da9e5",
   "metadata": {},
   "outputs": [
    {
     "name": "stdout",
     "output_type": "stream",
     "text": [
      "Proportion of inlier instance: 68.59%\n",
      "Inlier Accuracy: 83.79%, outlier Accuracy: 26.43%\n"
     ]
    }
   ],
   "source": [
    "with torch.no_grad():\n",
    "    dists = model(X_val)\n",
    "min_dists = dists.min(dim=1).values.numpy()\n",
    "real_labels = Y_val.argmax(dim=1)\n",
    "predictions = model.predict(X_val)\n",
    "matching_array = (predictions == real_labels).numpy()\n",
    "min_dists = min_dists[matching_array]\n",
    "min_dists.sort()\n",
    "\n",
    "# the threshold to determin \"outliers\"\n",
    "# outlier if its distance to the closest class is larger than 98% of that got on validation set\n",
    "threshold = min_dists[int(0.98*len(min_dists))]\n",
    "\n",
    "with torch.no_grad():\n",
    "    test_dists = model(X_test)\n",
    "test_min_dists = test_dists.min(dim=1).values.numpy()\n",
    "index = test_min_dists <= threshold\n",
    "\n",
    "real_labels = Y_test.argmax(dim=1)\n",
    "predictions = model.predict(X_test)\n",
    "\n",
    "print(f\"Proportion of inlier instance: {100*index.mean():.2f}%\")\n",
    "inlier_acc = 100*(predictions[index]==real_labels[index]).numpy().mean()\n",
    "outlier_acc = 100*(predictions[~index]==real_labels[~index]).numpy().mean()\n",
    "print(f\"Inlier Accuracy: {inlier_acc:.2f}%, outlier Accuracy: {outlier_acc:.2f}%\")"
   ]
  },
  {
   "cell_type": "code",
   "execution_count": 37,
   "id": "ab2b7a7d-361c-49b5-a618-0d5c10f8c1be",
   "metadata": {},
   "outputs": [
    {
     "data": {
      "text/plain": [
       "np.float32(3.5847664)"
      ]
     },
     "execution_count": 37,
     "metadata": {},
     "output_type": "execute_result"
    }
   ],
   "source": [
    "threshold"
   ]
  },
  {
   "cell_type": "code",
   "execution_count": null,
   "id": "38d3149a-41db-4de8-92e6-7069f1273830",
   "metadata": {},
   "outputs": [],
   "source": []
  }
 ],
 "metadata": {
  "kernelspec": {
   "display_name": "Python 3",
   "language": "python",
   "name": "python3"
  },
  "language_info": {
   "codemirror_mode": {
    "name": "ipython",
    "version": 3
   },
   "file_extension": ".py",
   "mimetype": "text/x-python",
   "name": "python",
   "nbconvert_exporter": "python",
   "pygments_lexer": "ipython3",
   "version": "3.11.9"
  }
 },
 "nbformat": 4,
 "nbformat_minor": 5
}
