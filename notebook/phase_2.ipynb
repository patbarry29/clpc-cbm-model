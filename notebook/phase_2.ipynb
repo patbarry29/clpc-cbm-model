{
 "cells": [
  {
   "cell_type": "code",
   "execution_count": 1,
   "id": "c415bffb",
   "metadata": {},
   "outputs": [],
   "source": [
    "import os\n",
    "import sys\n",
    "\n",
    "notebook_dir = os.getcwd()\n",
    "project_root_path = os.path.dirname(notebook_dir)\n",
    "sys.path.insert(0, project_root_path)\n",
    "\n",
    "from config import PROJECT_ROOT\n",
    "import numpy as np"
   ]
  },
  {
   "cell_type": "code",
   "execution_count": 124,
   "id": "c995f4e3",
   "metadata": {},
   "outputs": [],
   "source": [
    "C_hat_train = np.load(os.path.join(PROJECT_ROOT, 'output', 'C_hat_sigmoid_train_instance.npy'))\n",
    "one_hot_Y_train = np.load(os.path.join(PROJECT_ROOT, 'output', 'Y_train_instance.npy'))\n",
    "\n",
    "C_hat_test = np.load(os.path.join(PROJECT_ROOT, 'output', 'C_hat_sigmoid_test_instance.npy'))\n",
    "one_hot_Y_test = np.load(os.path.join(PROJECT_ROOT, 'output', 'Y_test_instance.npy'))\n",
    "\n",
    "C_hat_train = np.load(os.path.join(PROJECT_ROOT, 'output', 'C_hat_sigmoid_train.npy'))\n",
    "one_hot_Y_train = np.load(os.path.join(PROJECT_ROOT, 'output', 'Y_train.npy'))\n",
    "\n",
    "C_hat_test = np.load(os.path.join(PROJECT_ROOT, 'output', 'C_hat_sigmoid_test.npy'))\n",
    "one_hot_Y_test = np.load(os.path.join(PROJECT_ROOT, 'output', 'Y_test.npy'))\n",
    "\n",
    "# C_hat_train = np.load(os.path.join(PROJECT_ROOT, 'output', 'C_hat_sigmoid_train_best_model_instance.npy'))\n",
    "# one_hot_Y_train = np.load(os.path.join(PROJECT_ROOT, 'output', 'Y_train_best_model_instance.npy'))\n",
    "\n",
    "# C_hat_test = np.load(os.path.join(PROJECT_ROOT, 'output', 'C_hat_sigmoid_test_best_model_instance.npy'))\n",
    "# one_hot_Y_test = np.load(os.path.join(PROJECT_ROOT, 'output', 'Y_test_best_model_instance.npy'))\n",
    "\n",
    "class_level_concepts = np.load(os.path.join(PROJECT_ROOT, 'output', 'class_level_concepts.npy'))"
   ]
  },
  {
   "cell_type": "code",
   "execution_count": 125,
   "id": "ab9f675e",
   "metadata": {},
   "outputs": [
    {
     "data": {
      "text/plain": [
       "((5994, 112), (5994, 200), (5794, 112), (5794, 200))"
      ]
     },
     "execution_count": 125,
     "metadata": {},
     "output_type": "execute_result"
    }
   ],
   "source": [
    "C_hat_train.shape, one_hot_Y_train.shape, C_hat_test.shape, one_hot_Y_test.shape"
   ]
  },
  {
   "cell_type": "code",
   "execution_count": 126,
   "id": "22f4a6dd",
   "metadata": {},
   "outputs": [],
   "source": [
    "# C_train = np.zeros(C_hat_train.shape)\n",
    "# C_test = np.zeros(C_hat_test.shape)\n",
    "# for y in range(200):\n",
    "#         choice = one_hot_Y_train[:, y] == 1\n",
    "#         C_train[choice,:] = class_level_concepts[y,:]\n",
    "#         choice = one_hot_Y_test[:, y] == 1\n",
    "#         C_test[choice,:] = class_level_concepts[y,:]\n",
    "\n",
    "# # For per-sample Euclidean distance, then average\n",
    "# distances = np.sqrt(np.sum((C_hat_train - C_train)**2, axis=1))\n",
    "# np.mean(distances)"
   ]
  },
  {
   "cell_type": "code",
   "execution_count": 127,
   "id": "6054b78b-b816-4763-87ff-35034efd2a89",
   "metadata": {},
   "outputs": [],
   "source": [
    "# C_hat_train[C_hat_train > 0.5] = 0\n",
    "# C_hat_test[C_hat_test > 0.5] = 0"
   ]
  },
  {
   "cell_type": "code",
   "execution_count": 128,
   "id": "7323b4a5",
   "metadata": {},
   "outputs": [],
   "source": [
    "from sklearn.preprocessing import StandardScaler\n",
    "scaler = StandardScaler()\n",
    "C_hat_train_scaled = scaler.fit_transform(C_hat_train)\n",
    "C_hat_test_scaled = scaler.transform(C_hat_test)"
   ]
  },
  {
   "cell_type": "code",
   "execution_count": 129,
   "id": "912a08de-47b8-446c-9092-a085061e8eed",
   "metadata": {},
   "outputs": [],
   "source": [
    "Y_train = np.argmax(one_hot_Y_train, axis=1)\n",
    "Y_test = np.argmax(one_hot_Y_test, axis=1)"
   ]
  },
  {
   "cell_type": "code",
   "execution_count": 132,
   "id": "597fa6e8-6135-42ea-8a41-ca66ea9c4f93",
   "metadata": {},
   "outputs": [],
   "source": [
    "# print(\"---TRAIN---\")\n",
    "# threshold = 0.9\n",
    "# diff_concepts_by_label = {}  # Dictionary to track different concepts by label\n",
    "\n",
    "# # Group indices by class label\n",
    "# indices_by_label = {}\n",
    "# for i, y in enumerate(Y_train):\n",
    "#     if y not in indices_by_label:\n",
    "#         indices_by_label[y] = []\n",
    "#     indices_by_label[y].append(i)\n",
    "\n",
    "# # For each class, compare all pairs of instances\n",
    "# for y, indices in indices_by_label.items():\n",
    "#     diff_concepts_by_label[y] = 0\n",
    "    \n",
    "#     # Compare each pair of instances within the same class\n",
    "#     for i in range(len(indices)):\n",
    "#         for j in range(i+1, len(indices)):  # Only compare each pair once\n",
    "#             idx1, idx2 = indices[i], indices[j]\n",
    "#             different_concepts = np.abs(C_hat_train[idx1] - C_hat_train[idx2])\n",
    "#             diff_concepts_by_label[y] += np.sum(different_concepts > threshold)\n",
    "\n",
    "# # Print results for each label\n",
    "# total_diff_concepts = sum(diff_concepts_by_label.values())\n",
    "# # print(f\"Different concepts by label:\")\n",
    "# # for label, count in sorted(diff_concepts_by_label.items()):\n",
    "# #     print(f\"  Label {label}: {count} different concepts\")\n",
    "# print(f\"There are {total_diff_concepts} different concepts in total.\")"
   ]
  },
  {
   "cell_type": "code",
   "execution_count": 133,
   "id": "f15eb2d3-2a21-41c4-92c1-b03c09dd3ec4",
   "metadata": {},
   "outputs": [],
   "source": [
    "# print(\"---TEST---\")\n",
    "# threshold = 0.9\n",
    "# diff_concepts_by_label = {}  # Dictionary to track different concepts by label\n",
    "\n",
    "# # Group indices by class label\n",
    "# indices_by_label = {}\n",
    "# for i, y in enumerate(Y_test):\n",
    "#     if y not in indices_by_label:\n",
    "#         indices_by_label[y] = []\n",
    "#     indices_by_label[y].append(i)\n",
    "\n",
    "# # For each class, compare all pairs of instances\n",
    "# for y, indices in indices_by_label.items():\n",
    "#     diff_concepts_by_label[y] = 0\n",
    "    \n",
    "#     # Compare each pair of instances within the same class\n",
    "#     for i in range(len(indices)):\n",
    "#         for j in range(i+1, len(indices)):  # Only compare each pair once\n",
    "#             idx1, idx2 = indices[i], indices[j]\n",
    "#             different_concepts = np.abs(C_hat_test[idx1] - C_hat_test[idx2])\n",
    "#             diff_concepts_by_label[y] += np.sum(different_concepts > threshold)\n",
    "\n",
    "# # Print results for each label\n",
    "# total_diff_concepts = sum(diff_concepts_by_label.values())\n",
    "# # print(f\"Different concepts by label:\")\n",
    "# # for label, count in sorted(diff_concepts_by_label.items()):\n",
    "# #     print(f\"  Label {label}: {count} different concepts\")\n",
    "# print(f\"There are {total_diff_concepts} different concepts in total.\")"
   ]
  },
  {
   "cell_type": "code",
   "execution_count": 18,
   "id": "7a6ed058",
   "metadata": {},
   "outputs": [
    {
     "name": "stdout",
     "output_type": "stream",
     "text": [
      "Logistic Regression Test accuracy: 0.005522954780807732\n"
     ]
    }
   ],
   "source": [
    "from sklearn.linear_model import LogisticRegression\n",
    "\n",
    "model = LogisticRegression()\n",
    "model.fit(C_hat_train_scaled, Y_train)\n",
    "print(f\"Logistic Regression Test accuracy: {model.score(C_hat_test_scaled, Y_test)}\")"
   ]
  },
  {
   "cell_type": "code",
   "execution_count": 19,
   "id": "3ec9af79",
   "metadata": {},
   "outputs": [
    {
     "name": "stdout",
     "output_type": "stream",
     "text": [
      "k-NN Test accuracy: 0.0060407317915084574\n"
     ]
    }
   ],
   "source": [
    "from sklearn.neighbors import KNeighborsClassifier\n",
    "\n",
    "model = KNeighborsClassifier()\n",
    "model.fit(C_hat_train_scaled, Y_train)\n",
    "print(f\"k-NN Test accuracy: {model.score(C_hat_test_scaled, Y_test)}\")"
   ]
  },
  {
   "cell_type": "code",
   "execution_count": 47,
   "id": "2e8610c3-c78b-4997-9055-10af7ccf5958",
   "metadata": {},
   "outputs": [
    {
     "name": "stdout",
     "output_type": "stream",
     "text": [
      "Decision Tree Test accuracy: 0.5923369002416292\n"
     ]
    }
   ],
   "source": [
    "from sklearn.tree import DecisionTreeClassifier\n",
    "\n",
    "model = DecisionTreeClassifier()\n",
    "model.fit(C_hat_train_scaled, Y_train)\n",
    "print(f\"Decision Tree Test accuracy: {model.score(C_hat_test_scaled, Y_test)}\")"
   ]
  },
  {
   "cell_type": "code",
   "execution_count": 25,
   "id": "6f9c3248",
   "metadata": {},
   "outputs": [
    {
     "name": "stdout",
     "output_type": "stream",
     "text": [
      "MLP Test accuracy: 0.0037970314118053157\n"
     ]
    }
   ],
   "source": [
    "from sklearn.neural_network import MLPClassifier\n",
    "\n",
    "mlp = MLPClassifier(hidden_layer_sizes=(512,256, 128), max_iter=1000)\n",
    "mlp.fit(C_hat_train_scaled, Y_train)\n",
    "print(f\"MLP Test accuracy: {mlp.score(C_hat_test_scaled, Y_test)}\")"
   ]
  },
  {
   "cell_type": "code",
   "execution_count": null,
   "id": "b46619db-52bf-4a94-bf07-daf9f812112d",
   "metadata": {},
   "outputs": [],
   "source": []
  }
 ],
 "metadata": {
  "kernelspec": {
   "display_name": "Python 3 (ipykernel)",
   "language": "python",
   "name": "python3"
  },
  "language_info": {
   "codemirror_mode": {
    "name": "ipython",
    "version": 3
   },
   "file_extension": ".py",
   "mimetype": "text/x-python",
   "name": "python",
   "nbconvert_exporter": "python",
   "pygments_lexer": "ipython3",
   "version": "3.11.9"
  }
 },
 "nbformat": 4,
 "nbformat_minor": 5
}
