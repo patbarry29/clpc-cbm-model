{
 "cells": [
  {
   "cell_type": "code",
   "execution_count": 52,
   "id": "cdbe4197",
   "metadata": {},
   "outputs": [],
   "source": [
    "datasets = ['CUB', 'Derm7pt', 'RIVAL10']\n",
    "use_dataset = datasets[0]"
   ]
  },
  {
   "cell_type": "code",
   "execution_count": 53,
   "id": "c415bffb",
   "metadata": {},
   "outputs": [],
   "source": [
    "import os\n",
    "import sys\n",
    "\n",
    "notebook_dir = os.getcwd()\n",
    "project_root_path = os.path.dirname(notebook_dir)\n",
    "sys.path.insert(0, project_root_path)\n",
    "\n",
    "from src.config import CUB_CONFIG, DERM7PT_CONFIG, RIVAL10_CONFIG  # noqa: E402\n",
    "from src.config import PROJECT_ROOT  # noqa: E402\n",
    "import numpy as np  # noqa: E402"
   ]
  },
  {
   "cell_type": "code",
   "execution_count": 54,
   "id": "cc4dd3dc",
   "metadata": {},
   "outputs": [],
   "source": [
    "if use_dataset == 'CUB':\n",
    "    config_dict = CUB_CONFIG\n",
    "    DATASET_PATH =  os.path.join(PROJECT_ROOT, 'output', 'CUB')\n",
    "elif use_dataset == 'Derm7pt':\n",
    "    config_dict = DERM7PT_CONFIG\n",
    "    DATASET_PATH =  os.path.join(PROJECT_ROOT, 'output', 'Derm7pt')\n",
    "else:\n",
    "    config_dict = RIVAL10_CONFIG\n",
    "    DATASET_PATH =  os.path.join(PROJECT_ROOT, 'output', 'RIVAL10')"
   ]
  },
  {
   "cell_type": "markdown",
   "id": "ffe4b59a",
   "metadata": {},
   "source": [
    "# Load and Transform Data"
   ]
  },
  {
   "cell_type": "code",
   "execution_count": 55,
   "id": "fc1bbd44",
   "metadata": {},
   "outputs": [],
   "source": [
    "# INSTANCE-BASED CUB MODEL\n",
    "\n",
    "# C_train = np.load(os.path.join(PROJECT_ROOT, 'output', 'CUB', 'C_train_instance.npy'))\n",
    "# C_hat_train = np.load(os.path.join(PROJECT_ROOT, 'output', 'CUB', 'C_hat_sigmoid_train_instance.npy'))\n",
    "# one_hot_Y_train = np.load(os.path.join(PROJECT_ROOT, 'output', 'CUB', 'Y_train_instance.npy'))\n",
    "\n",
    "# C_test = np.load(os.path.join(PROJECT_ROOT, 'output', 'CUB', 'C_test_instance.npy'))\n",
    "# C_hat_test = np.load(os.path.join(PROJECT_ROOT, 'output', 'CUB', 'C_hat_sigmoid_test_instance.npy'))\n",
    "# one_hot_Y_test = np.load(os.path.join(PROJECT_ROOT, 'output', 'CUB', 'Y_test_instance.npy'))"
   ]
  },
  {
   "cell_type": "code",
   "execution_count": 56,
   "id": "b037fd34",
   "metadata": {},
   "outputs": [],
   "source": [
    "C_hat_train = np.load(os.path.join(DATASET_PATH, 'C_hat_sigmoid_train.npy'))\n",
    "one_hot_Y_train = np.load(os.path.join(DATASET_PATH, 'Y_train.npy'))\n",
    "\n",
    "C_hat_test = np.load(os.path.join(DATASET_PATH, 'C_hat_sigmoid_test.npy'))\n",
    "one_hot_Y_test = np.load(os.path.join(DATASET_PATH, 'Y_test.npy'))\n",
    "\n",
    "if use_dataset == 'Derm7pt':\n",
    "    C_hat_val = np.load(os.path.join(DATASET_PATH, 'C_hat_sigmoid_val.npy'))\n",
    "    one_hot_Y_val = np.load(os.path.join(DATASET_PATH, 'Y_val.npy'))\n",
    "\n",
    "    C_hat_train = np.concatenate((C_hat_train, C_hat_val), axis=0)\n",
    "    one_hot_Y_train = np.concatenate((one_hot_Y_train, one_hot_Y_val), axis=0)\n",
    "\n",
    "class_level_concepts = np.load(os.path.join(DATASET_PATH, 'class_level_concepts.npy'))"
   ]
  },
  {
   "cell_type": "code",
   "execution_count": 57,
   "id": "dc3226bb",
   "metadata": {},
   "outputs": [],
   "source": [
    "Y_train = np.argmax(one_hot_Y_train, axis=1)\n",
    "Y_test = np.argmax(one_hot_Y_test, axis=1)"
   ]
  },
  {
   "cell_type": "code",
   "execution_count": 58,
   "id": "1929f420",
   "metadata": {},
   "outputs": [
    {
     "data": {
      "text/plain": [
       "array([  0,   0,   0, ..., 199, 199, 199])"
      ]
     },
     "execution_count": 58,
     "metadata": {},
     "output_type": "execute_result"
    }
   ],
   "source": [
    "Y_train"
   ]
  },
  {
   "cell_type": "code",
   "execution_count": 59,
   "id": "85ad0c07",
   "metadata": {},
   "outputs": [],
   "source": [
    "C_train = []\n",
    "for y in Y_train:\n",
    "    C_train.append(class_level_concepts[y])\n",
    "\n",
    "C_train = np.array(C_train)"
   ]
  },
  {
   "cell_type": "code",
   "execution_count": 60,
   "id": "47193d3a",
   "metadata": {},
   "outputs": [],
   "source": [
    "from sklearn.utils import shuffle\n",
    "\n",
    "C_hat_train, C_train, one_hot_Y_train, Y_train = shuffle(C_hat_train, C_train, one_hot_Y_train, Y_train, random_state=42)"
   ]
  },
  {
   "cell_type": "code",
   "execution_count": 61,
   "id": "cae5dd1d",
   "metadata": {},
   "outputs": [],
   "source": [
    "# unique, counts = np.unique(Y_train, return_counts=True)\n",
    "# for label, count in zip(unique, counts):\n",
    "#     print(f\"Label {label}: {count} instances\")"
   ]
  },
  {
   "cell_type": "code",
   "execution_count": 62,
   "id": "3a0a2d1a",
   "metadata": {},
   "outputs": [],
   "source": [
    "# unique, counts = np.unique(Y_test, return_counts=True)\n",
    "# for label, count in zip(unique, counts):\n",
    "#     print(f\"Label {label}: {count} instances\")"
   ]
  },
  {
   "cell_type": "markdown",
   "id": "fb99f9c0",
   "metadata": {},
   "source": [
    "# Classic Models"
   ]
  },
  {
   "cell_type": "markdown",
   "id": "0424779b",
   "metadata": {},
   "source": [
    "## Logistic Regression"
   ]
  },
  {
   "cell_type": "code",
   "execution_count": 63,
   "id": "7a6ed058",
   "metadata": {},
   "outputs": [
    {
     "name": "stdout",
     "output_type": "stream",
     "text": [
      "Logistic Regression Test accuracy: 0.7645840524680704\n"
     ]
    }
   ],
   "source": [
    "from sklearn.linear_model import LogisticRegression\n",
    "\n",
    "lin_model = LogisticRegression(max_iter=1000)\n",
    "lin_model.fit(C_hat_train, Y_train)\n",
    "print(f\"Logistic Regression Test accuracy: {lin_model.score(C_hat_test, Y_test)}\")"
   ]
  },
  {
   "cell_type": "code",
   "execution_count": 64,
   "id": "43484e2a",
   "metadata": {},
   "outputs": [
    {
     "data": {
      "text/plain": [
       "array([  0,   1,   2,   3,   4,   5,   6,   7,   8,   9,  10,  11,  12,\n",
       "        13,  14,  15,  16,  17,  18,  19,  20,  21,  22,  23,  24,  25,\n",
       "        26,  27,  28,  29,  30,  31,  32,  33,  34,  35,  36,  37,  38,\n",
       "        39,  40,  41,  42,  43,  44,  45,  46,  47,  48,  49,  50,  51,\n",
       "        52,  53,  54,  55,  56,  57,  58,  59,  60,  61,  62,  63,  64,\n",
       "        65,  66,  67,  68,  69,  70,  71,  72,  73,  74,  75,  76,  77,\n",
       "        78,  79,  80,  81,  82,  83,  84,  85,  86,  87,  88,  89,  90,\n",
       "        91,  92,  93,  94,  95,  96,  97,  98,  99, 100, 101, 102, 103,\n",
       "       104, 105, 106, 107, 108, 109, 110, 111, 112, 113, 114, 115, 116,\n",
       "       117, 118, 119, 120, 121, 122, 123, 124, 125, 126, 127, 128, 129,\n",
       "       130, 131, 132, 133, 134, 135, 136, 137, 138, 139, 140, 141, 142,\n",
       "       143, 144, 145, 146, 147, 148, 149, 150, 151, 152, 153, 154, 155,\n",
       "       156, 157, 158, 159, 160, 161, 162, 163, 164, 165, 166, 167, 168,\n",
       "       169, 170, 171, 172, 173, 174, 175, 176, 177, 178, 179, 180, 181,\n",
       "       182, 183, 184, 185, 186, 187, 188, 189, 190, 191, 192, 193, 194,\n",
       "       195, 196, 197, 198, 199])"
      ]
     },
     "execution_count": 64,
     "metadata": {},
     "output_type": "execute_result"
    }
   ],
   "source": [
    "np.unique(lin_model.predict(C_hat_test))"
   ]
  },
  {
   "cell_type": "markdown",
   "id": "f0d5bbd2",
   "metadata": {},
   "source": [
    "Save incorrectly classified instances for intervention experiments."
   ]
  },
  {
   "cell_type": "code",
   "execution_count": 65,
   "id": "aa5d5d99",
   "metadata": {},
   "outputs": [
    {
     "name": "stdout",
     "output_type": "stream",
     "text": [
      "(1364, 112)\n",
      "(1364,)\n"
     ]
    }
   ],
   "source": [
    "Y_pred = lin_model.predict(C_hat_test)\n",
    "wrong_indices = np.where(Y_test != Y_pred)[0]\n",
    "\n",
    "C_hat_wrong = C_hat_test[wrong_indices]\n",
    "Y_wrong = Y_test[wrong_indices]\n",
    "\n",
    "print(C_hat_wrong.shape)\n",
    "print(Y_wrong.shape)\n",
    "\n",
    "output_dir = os.path.join(PROJECT_ROOT, 'output', 'intervention', use_dataset)\n",
    "os.makedirs(output_dir, exist_ok=True)\n",
    "np.save(os.path.join(output_dir, 'C_hat_linear.npy'), C_hat_wrong)\n",
    "np.save(os.path.join(output_dir, 'Y_linear.npy'), Y_wrong)"
   ]
  },
  {
   "cell_type": "code",
   "execution_count": 66,
   "id": "d34ca1da",
   "metadata": {},
   "outputs": [
    {
     "data": {
      "text/plain": [
       "['/Users/pb/Documents/career/lab_ujm/hybrid-cbm-prototype-model/output/intervention/CUB/lin_model.joblib']"
      ]
     },
     "execution_count": 66,
     "metadata": {},
     "output_type": "execute_result"
    }
   ],
   "source": [
    "import joblib\n",
    "\n",
    "joblib.dump(lin_model, os.path.join(output_dir, 'lin_model.joblib'))"
   ]
  },
  {
   "cell_type": "markdown",
   "id": "419e627c",
   "metadata": {},
   "source": [
    "## k-NN"
   ]
  },
  {
   "cell_type": "code",
   "execution_count": 67,
   "id": "3ec9af79",
   "metadata": {},
   "outputs": [
    {
     "name": "stdout",
     "output_type": "stream",
     "text": [
      "k-NN Test accuracy: 0.7595788746979634\n"
     ]
    }
   ],
   "source": [
    "from sklearn.neighbors import KNeighborsClassifier\n",
    "\n",
    "model = KNeighborsClassifier()\n",
    "model.fit(C_hat_train, Y_train)\n",
    "print(f\"k-NN Test accuracy: {model.score(C_hat_test, Y_test)}\")"
   ]
  },
  {
   "cell_type": "code",
   "execution_count": 68,
   "id": "e442a104",
   "metadata": {},
   "outputs": [
    {
     "data": {
      "text/plain": [
       "array([  0,   1,   2,   3,   4,   5,   6,   7,   8,   9,  10,  11,  12,\n",
       "        13,  14,  15,  16,  17,  18,  19,  20,  21,  22,  23,  24,  25,\n",
       "        26,  27,  28,  29,  30,  31,  32,  33,  34,  35,  36,  37,  38,\n",
       "        39,  40,  41,  42,  43,  44,  45,  46,  47,  48,  49,  50,  51,\n",
       "        52,  53,  54,  55,  56,  57,  58,  59,  60,  61,  62,  63,  64,\n",
       "        65,  66,  67,  68,  69,  70,  71,  72,  73,  74,  75,  76,  77,\n",
       "        78,  79,  80,  81,  82,  83,  84,  85,  86,  87,  88,  89,  90,\n",
       "        91,  92,  93,  94,  95,  96,  97,  98,  99, 100, 101, 102, 103,\n",
       "       104, 105, 106, 107, 108, 109, 110, 111, 112, 113, 114, 115, 116,\n",
       "       117, 118, 119, 120, 121, 122, 123, 124, 125, 126, 127, 128, 129,\n",
       "       130, 131, 132, 133, 134, 135, 136, 137, 138, 139, 140, 141, 142,\n",
       "       143, 144, 145, 146, 147, 148, 149, 150, 151, 152, 153, 154, 155,\n",
       "       156, 157, 158, 159, 160, 161, 162, 163, 164, 165, 166, 167, 168,\n",
       "       169, 170, 171, 172, 173, 174, 175, 176, 177, 178, 179, 180, 181,\n",
       "       182, 183, 184, 185, 186, 187, 188, 189, 190, 191, 192, 193, 194,\n",
       "       195, 196, 197, 198, 199])"
      ]
     },
     "execution_count": 68,
     "metadata": {},
     "output_type": "execute_result"
    }
   ],
   "source": [
    "np.unique(model.predict(C_hat_test))"
   ]
  },
  {
   "cell_type": "markdown",
   "id": "3a14b904",
   "metadata": {},
   "source": [
    "## Decision Tree"
   ]
  },
  {
   "cell_type": "code",
   "execution_count": 69,
   "id": "2e8610c3-c78b-4997-9055-10af7ccf5958",
   "metadata": {},
   "outputs": [
    {
     "name": "stdout",
     "output_type": "stream",
     "text": [
      "Decision Tree Test accuracy: 0.7129789437348981\n"
     ]
    }
   ],
   "source": [
    "from sklearn.tree import DecisionTreeClassifier\n",
    "\n",
    "model = DecisionTreeClassifier()\n",
    "model.fit(C_hat_train, Y_train)\n",
    "print(f\"Decision Tree Test accuracy: {model.score(C_hat_test, Y_test)}\")"
   ]
  },
  {
   "cell_type": "code",
   "execution_count": 70,
   "id": "466a67ed",
   "metadata": {},
   "outputs": [
    {
     "data": {
      "text/plain": [
       "array([  0,   1,   2,   3,   4,   5,   6,   7,   8,   9,  10,  11,  12,\n",
       "        13,  14,  15,  16,  17,  18,  19,  20,  21,  22,  23,  24,  25,\n",
       "        26,  27,  28,  29,  30,  31,  32,  33,  34,  35,  36,  37,  38,\n",
       "        39,  40,  41,  42,  43,  44,  45,  46,  47,  48,  49,  50,  51,\n",
       "        52,  53,  54,  55,  56,  57,  58,  59,  60,  61,  62,  63,  64,\n",
       "        65,  66,  67,  68,  69,  70,  71,  72,  73,  74,  75,  76,  77,\n",
       "        78,  79,  80,  81,  82,  83,  84,  85,  86,  87,  88,  89,  90,\n",
       "        91,  92,  93,  94,  95,  96,  97,  98,  99, 100, 101, 102, 103,\n",
       "       104, 105, 106, 107, 108, 109, 110, 111, 112, 113, 114, 115, 116,\n",
       "       117, 118, 119, 120, 121, 122, 123, 124, 125, 126, 127, 128, 129,\n",
       "       130, 131, 132, 133, 134, 135, 136, 137, 138, 139, 140, 141, 142,\n",
       "       143, 144, 145, 146, 147, 148, 149, 150, 151, 152, 153, 154, 155,\n",
       "       156, 157, 158, 159, 160, 161, 162, 163, 164, 165, 166, 167, 168,\n",
       "       169, 170, 171, 172, 173, 174, 175, 176, 177, 178, 179, 180, 181,\n",
       "       182, 183, 184, 185, 186, 187, 188, 189, 190, 191, 192, 193, 194,\n",
       "       195, 196, 197, 198, 199])"
      ]
     },
     "execution_count": 70,
     "metadata": {},
     "output_type": "execute_result"
    }
   ],
   "source": [
    "np.unique(model.predict(C_hat_test))"
   ]
  },
  {
   "cell_type": "markdown",
   "id": "5aff22cb",
   "metadata": {},
   "source": [
    "## MLP"
   ]
  },
  {
   "cell_type": "code",
   "execution_count": 71,
   "id": "6f9c3248",
   "metadata": {},
   "outputs": [
    {
     "name": "stdout",
     "output_type": "stream",
     "text": [
      "MLP Test accuracy: 0.7597514670348636\n"
     ]
    }
   ],
   "source": [
    "from sklearn.neural_network import MLPClassifier\n",
    "\n",
    "mlp = MLPClassifier(hidden_layer_sizes=(512,256, 128), max_iter=1000)\n",
    "mlp.fit(C_hat_train, Y_train)\n",
    "print(f\"MLP Test accuracy: {mlp.score(C_hat_test, Y_test)}\")"
   ]
  },
  {
   "cell_type": "code",
   "execution_count": 72,
   "id": "9bd4c37b",
   "metadata": {},
   "outputs": [
    {
     "data": {
      "text/plain": [
       "array([  0,   1,   2,   3,   4,   5,   6,   7,   8,   9,  10,  11,  12,\n",
       "        13,  14,  15,  16,  17,  18,  19,  20,  21,  22,  23,  24,  25,\n",
       "        26,  27,  28,  29,  30,  31,  32,  33,  34,  35,  36,  37,  38,\n",
       "        39,  40,  41,  42,  43,  44,  45,  46,  47,  48,  49,  50,  51,\n",
       "        52,  53,  54,  55,  56,  57,  58,  59,  60,  61,  62,  63,  64,\n",
       "        65,  66,  67,  68,  69,  70,  71,  72,  73,  74,  75,  76,  77,\n",
       "        78,  79,  80,  81,  82,  83,  84,  85,  86,  87,  88,  89,  90,\n",
       "        91,  92,  93,  94,  95,  96,  97,  98,  99, 100, 101, 102, 103,\n",
       "       104, 105, 106, 107, 108, 109, 110, 111, 112, 113, 114, 115, 116,\n",
       "       117, 118, 119, 120, 121, 122, 123, 124, 125, 126, 127, 128, 129,\n",
       "       130, 131, 132, 133, 134, 135, 136, 137, 138, 139, 140, 141, 142,\n",
       "       143, 144, 145, 146, 147, 148, 149, 150, 151, 152, 153, 154, 155,\n",
       "       156, 157, 158, 159, 160, 161, 162, 163, 164, 165, 166, 167, 168,\n",
       "       169, 170, 171, 172, 173, 174, 175, 176, 177, 178, 179, 180, 181,\n",
       "       182, 183, 184, 185, 186, 187, 188, 189, 190, 191, 192, 193, 194,\n",
       "       195, 196, 197, 198, 199])"
      ]
     },
     "execution_count": 72,
     "metadata": {},
     "output_type": "execute_result"
    }
   ],
   "source": [
    "np.unique(model.predict(C_hat_test))"
   ]
  },
  {
   "cell_type": "markdown",
   "id": "a5950cfd",
   "metadata": {},
   "source": [
    "# Accuracy Using Class-Level Concepts"
   ]
  },
  {
   "cell_type": "code",
   "execution_count": 73,
   "id": "ed1991c0",
   "metadata": {},
   "outputs": [
    {
     "name": "stdout",
     "output_type": "stream",
     "text": [
      "Accuracy using absolute difference to class concepts: 0.7489\n"
     ]
    }
   ],
   "source": [
    "# Calculate differences between each test instance and all class-level concepts\n",
    "distances = []\n",
    "\n",
    "for i, test_instance in enumerate(C_hat_test):\n",
    "    # Calculate absolute differences to each class concept\n",
    "    # This gives element-wise differences between probabilities and binary values\n",
    "    instance_diffs = np.abs(test_instance - class_level_concepts)\n",
    "\n",
    "    # Sum the differences along concept dimension to get total deviation for each class\n",
    "    instance_distances = np.sum(instance_diffs, axis=1)\n",
    "\n",
    "    # Find the minimum distance\n",
    "    min_distance = np.min(instance_distances)\n",
    "    # Find which class has the minimum distance\n",
    "    min_class = np.argmin(instance_distances)\n",
    "    distances.append((min_distance, min_class))\n",
    "\n",
    "# Convert to numpy arrays for easier analysis\n",
    "min_distances = np.array([d[0] for d in distances])\n",
    "predicted_classes = np.array([d[1] for d in distances])\n",
    "\n",
    "# Calculate accuracy\n",
    "accuracy = np.mean(predicted_classes == Y_test)\n",
    "print(f\"Accuracy using absolute difference to class concepts: {accuracy:.4f}\")"
   ]
  },
  {
   "cell_type": "markdown",
   "id": "9d9dc649-e4d0-40d5-aa23-bd8b5360bea6",
   "metadata": {},
   "source": [
    "# Prototype-Based Model\n"
   ]
  },
  {
   "cell_type": "code",
   "execution_count": 74,
   "id": "d6be3f96",
   "metadata": {},
   "outputs": [],
   "source": [
    "import torch\n",
    "from torch.utils.data import TensorDataset, DataLoader"
   ]
  },
  {
   "cell_type": "code",
   "execution_count": 75,
   "id": "118ea801",
   "metadata": {},
   "outputs": [
    {
     "name": "stdout",
     "output_type": "stream",
     "text": [
      "Using device: mps\n"
     ]
    }
   ],
   "source": [
    "device = torch.device(\"cuda\" if torch.cuda.is_available() else \"mps\" if torch.backends.mps.is_available() else \"cpu\")\n",
    "print(f\"Using device: {device}\")"
   ]
  },
  {
   "cell_type": "markdown",
   "id": "14da7dda",
   "metadata": {},
   "source": [
    "## Create Dataloaders"
   ]
  },
  {
   "cell_type": "code",
   "execution_count": 76,
   "id": "482ea172",
   "metadata": {},
   "outputs": [],
   "source": [
    "val_split_ratio = 0.2\n",
    "random_seed = 42\n",
    "\n",
    "if use_dataset == 'Derm7pt':\n",
    "    X_train = torch.tensor(C_hat_train, dtype=torch.float32)\n",
    "    Y_train = torch.tensor(one_hot_Y_train, dtype=torch.float32)\n",
    "else:\n",
    "    # C_hat_train, C_hat_val, Y_train_np, Y_val_np = train_test_split(C_hat_train, one_hot_Y_train, test_size=val_split_ratio, random_state=random_seed)\n",
    "    X_train = torch.tensor(C_hat_train, dtype=torch.float32)\n",
    "    Y_train = torch.tensor(one_hot_Y_train, dtype=torch.float32)\n",
    "\n",
    "X_test = torch.tensor(C_hat_test, dtype=torch.float32, device=device)\n",
    "Y_test = torch.tensor(one_hot_Y_test, dtype=torch.float32, device=device)\n",
    "\n",
    "# DATALOADERS\n",
    "batch_size = 64\n",
    "train_dataset = TensorDataset(X_train, Y_train)\n",
    "train_loader = DataLoader(train_dataset, batch_size=batch_size, shuffle=True)\n",
    "\n",
    "test_dataset = TensorDataset(X_test, Y_test)\n",
    "test_dataloader = DataLoader(test_dataset, batch_size=batch_size, shuffle=False)"
   ]
  },
  {
   "cell_type": "markdown",
   "id": "497a8c4e",
   "metadata": {},
   "source": [
    "## Learn Prototypes"
   ]
  },
  {
   "cell_type": "code",
   "execution_count": 77,
   "id": "eb8f8f1d",
   "metadata": {},
   "outputs": [],
   "source": [
    "from src.models import PrototypeClassifier\n",
    "\n",
    "num_concepts = config_dict['N_TRIMMED_CONCEPTS']\n",
    "num_classes = config_dict['N_CLASSES']\n",
    "\n",
    "model = PrototypeClassifier(num_concepts, num_classes).to(device)\n",
    "optimizer = torch.optim.Adam(model.parameters(), lr=0.01)\n",
    "lambda_binary = 0.01\n",
    "lambda_L1 = 0.001"
   ]
  },
  {
   "cell_type": "code",
   "execution_count": 78,
   "id": "c7f50626",
   "metadata": {},
   "outputs": [
    {
     "name": "stderr",
     "output_type": "stream",
     "text": [
      "Training Prototypes:   0%|          | 0/50 [00:00<?, ?it/s]"
     ]
    },
    {
     "name": "stderr",
     "output_type": "stream",
     "text": [
      "Training Prototypes: 100%|██████████| 50/50 [00:25<00:00,  2.00it/s, Train Acc=99.98%, Train Loss=-25.7208]"
     ]
    },
    {
     "name": "stdout",
     "output_type": "stream",
     "text": [
      "Best accuracy of 99.98% achieved at epoch 23\n"
     ]
    },
    {
     "name": "stderr",
     "output_type": "stream",
     "text": [
      "\n"
     ]
    }
   ],
   "source": [
    "# train and test\n",
    "from tqdm import tqdm\n",
    "from src.training import train_epoch\n",
    "\n",
    "num_epochs = 50\n",
    "best_acc, best_epoch = 0, 0\n",
    "\n",
    "tqdm_loader = tqdm(range(num_epochs), desc=\"Training Prototypes\", leave=True)\n",
    "for epoch in tqdm_loader:\n",
    "    train_loss, train_accuracy = train_epoch(model, train_loader, optimizer, lambda_binary, lambda_L1, device=device)\n",
    "    if train_accuracy > best_acc:\n",
    "        best_acc = train_accuracy\n",
    "        best_epoch = epoch\n",
    "    tqdm_loader.set_postfix({\"Train Acc\": f\"{train_accuracy:.2f}%\", \"Train Loss\": f\"{train_loss:.4f}\"})\n",
    "\n",
    "print(f\"Best accuracy of {best_acc:.2f}% achieved at epoch {best_epoch}\")"
   ]
  },
  {
   "cell_type": "code",
   "execution_count": 79,
   "id": "1b82dc36",
   "metadata": {},
   "outputs": [
    {
     "data": {
      "text/plain": [
       "0.7600966517086641"
      ]
     },
     "execution_count": 79,
     "metadata": {},
     "output_type": "execute_result"
    }
   ],
   "source": [
    "real_labels = Y_test.argmax(dim=1)\n",
    "predictions = model.predict(X_test)\n",
    "(predictions == real_labels).sum().item()/len(predictions)"
   ]
  },
  {
   "cell_type": "code",
   "execution_count": 80,
   "id": "c674a5b2",
   "metadata": {},
   "outputs": [
    {
     "name": "stdout",
     "output_type": "stream",
     "text": [
      "torch.Size([1390, 112])\n",
      "torch.Size([1390])\n"
     ]
    }
   ],
   "source": [
    "wrong_indices = (predictions != real_labels).nonzero(as_tuple=True)[0]\n",
    "\n",
    "C_hat_wrong = X_test[wrong_indices]\n",
    "Y_wrong = real_labels[wrong_indices]\n",
    "\n",
    "print(C_hat_wrong.shape)\n",
    "print(Y_wrong.shape)\n",
    "\n",
    "output_dir = os.path.join(PROJECT_ROOT, 'output', 'intervention', use_dataset)\n",
    "\n",
    "torch.save(C_hat_wrong, os.path.join(output_dir, 'C_hat_clc.npy'))\n",
    "torch.save(Y_wrong, os.path.join(output_dir, 'Y_clc.npy'))"
   ]
  },
  {
   "cell_type": "code",
   "execution_count": 81,
   "id": "d9ecabf0",
   "metadata": {},
   "outputs": [],
   "source": [
    "# save the model\n",
    "torch.save(model, os.path.join(output_dir, 'clc_model.pth'))"
   ]
  },
  {
   "cell_type": "code",
   "execution_count": 82,
   "id": "d85fa563",
   "metadata": {},
   "outputs": [],
   "source": [
    "# np.unique(predictions.cpu().numpy())"
   ]
  },
  {
   "cell_type": "code",
   "execution_count": 83,
   "id": "d004525d",
   "metadata": {},
   "outputs": [
    {
     "name": "stdout",
     "output_type": "stream",
     "text": [
      "              precision    recall  f1-score   support\n",
      "\n",
      "           0       0.64      0.70      0.67        30\n",
      "           1       0.84      0.70      0.76        30\n",
      "           2       0.74      0.89      0.81        28\n",
      "           3       0.45      0.67      0.54        30\n",
      "           4       0.92      0.79      0.85        14\n",
      "           5       1.00      0.91      0.95        11\n",
      "           6       1.00      1.00      1.00        23\n",
      "           7       1.00      0.78      0.88        18\n",
      "           8       0.39      0.41      0.40        29\n",
      "           9       0.88      1.00      0.94        30\n",
      "          10       0.88      0.50      0.64        30\n",
      "          11       0.96      0.92      0.94        26\n",
      "          12       1.00      0.83      0.91        30\n",
      "          13       0.90      0.93      0.92        30\n",
      "          14       0.93      0.93      0.93        28\n",
      "          15       0.93      0.89      0.91        28\n",
      "          16       0.74      0.96      0.84        27\n",
      "          17       0.52      0.87      0.65        15\n",
      "          18       1.00      0.79      0.88        29\n",
      "          19       0.90      0.90      0.90        29\n",
      "          20       0.97      0.93      0.95        30\n",
      "          21       0.61      0.73      0.67        26\n",
      "          22       0.49      0.59      0.53        29\n",
      "          23       0.73      0.73      0.73        22\n",
      "          24       0.34      0.50      0.41        30\n",
      "          25       0.82      0.77      0.79        30\n",
      "          26       0.69      0.30      0.42        30\n",
      "          27       1.00      0.79      0.88        29\n",
      "          28       0.33      0.13      0.19        30\n",
      "          29       0.26      0.50      0.34        30\n",
      "          30       0.88      0.77      0.82        30\n",
      "          31       0.69      0.48      0.56        23\n",
      "          32       0.57      0.79      0.67        29\n",
      "          33       0.93      0.86      0.89        29\n",
      "          34       0.62      0.93      0.75        30\n",
      "          35       0.94      0.97      0.95        30\n",
      "          36       0.55      0.59      0.57        29\n",
      "          37       0.83      0.80      0.81        30\n",
      "          38       0.26      0.34      0.30        29\n",
      "          39       0.57      0.57      0.57        30\n",
      "          40       0.93      0.87      0.90        30\n",
      "          41       0.78      0.93      0.85        30\n",
      "          42       0.61      0.48      0.54        29\n",
      "          43       0.86      0.83      0.85        30\n",
      "          44       0.75      0.50      0.60        30\n",
      "          45       0.87      0.87      0.87        30\n",
      "          46       0.96      0.83      0.89        30\n",
      "          47       1.00      0.93      0.97        30\n",
      "          48       0.65      0.50      0.57        30\n",
      "          49       0.96      0.77      0.85        30\n",
      "          50       0.85      0.73      0.79        30\n",
      "          51       0.94      0.97      0.95        30\n",
      "          52       0.97      0.97      0.97        30\n",
      "          53       0.93      0.83      0.88        30\n",
      "          54       0.96      0.90      0.93        30\n",
      "          55       0.85      0.93      0.89        30\n",
      "          56       0.97      0.97      0.97        30\n",
      "          57       0.92      0.82      0.87        28\n",
      "          58       0.25      0.17      0.20        30\n",
      "          59       0.30      0.34      0.32        29\n",
      "          60       0.78      0.83      0.81        30\n",
      "          61       0.34      0.50      0.41        30\n",
      "          62       0.84      0.87      0.85        30\n",
      "          63       0.52      0.43      0.47        30\n",
      "          64       0.82      0.45      0.58        20\n",
      "          65       0.34      0.70      0.46        30\n",
      "          66       0.86      0.63      0.73        30\n",
      "          67       0.59      0.67      0.62        30\n",
      "          68       0.77      0.67      0.71        30\n",
      "          69       0.71      0.90      0.79        30\n",
      "          70       0.41      0.37      0.39        30\n",
      "          71       0.48      0.50      0.49        30\n",
      "          72       1.00      0.83      0.91        30\n",
      "          73       0.91      1.00      0.95        30\n",
      "          74       1.00      1.00      1.00        27\n",
      "          75       0.89      0.80      0.84        30\n",
      "          76       0.76      0.97      0.85        30\n",
      "          77       0.73      0.83      0.77        29\n",
      "          78       0.76      0.87      0.81        30\n",
      "          79       0.77      0.77      0.77        30\n",
      "          80       0.96      0.90      0.93        30\n",
      "          81       0.79      0.73      0.76        30\n",
      "          82       1.00      0.93      0.97        30\n",
      "          83       0.84      0.70      0.76        23\n",
      "          84       0.94      0.97      0.95        30\n",
      "          85       0.85      0.77      0.81        30\n",
      "          86       0.83      0.80      0.81        30\n",
      "          87       1.00      0.87      0.93        30\n",
      "          88       0.92      0.80      0.86        30\n",
      "          89       0.70      0.93      0.80        30\n",
      "          90       0.65      0.73      0.69        30\n",
      "          91       0.96      0.77      0.85        30\n",
      "          92       0.93      0.90      0.92        30\n",
      "          93       0.85      0.93      0.89        30\n",
      "          94       0.93      0.87      0.90        30\n",
      "          95       0.85      0.73      0.79        30\n",
      "          96       0.71      0.76      0.73        29\n",
      "          97       0.96      0.87      0.91        30\n",
      "          98       0.96      0.87      0.91        30\n",
      "          99       0.93      0.90      0.92        30\n",
      "         100       0.74      0.85      0.79        20\n",
      "         101       0.53      0.27      0.36        30\n",
      "         102       0.39      0.70      0.50        30\n",
      "         103       0.71      0.73      0.72        30\n",
      "         104       0.48      0.58      0.52        19\n",
      "         105       0.86      0.80      0.83        30\n",
      "         106       0.41      0.47      0.44        30\n",
      "         107       0.82      0.60      0.69        30\n",
      "         108       0.96      0.87      0.91        30\n",
      "         109       0.88      0.97      0.92        30\n",
      "         110       0.65      0.50      0.57        30\n",
      "         111       0.50      0.73      0.59        30\n",
      "         112       0.82      0.70      0.76        20\n",
      "         113       1.00      0.87      0.93        30\n",
      "         114       0.86      0.62      0.72        29\n",
      "         115       0.74      0.87      0.80        30\n",
      "         116       0.77      0.69      0.73        29\n",
      "         117       0.65      0.73      0.69        30\n",
      "         118       0.73      0.66      0.69        29\n",
      "         119       0.80      0.67      0.73        30\n",
      "         120       0.78      0.60      0.68        30\n",
      "         121       0.86      0.80      0.83        30\n",
      "         122       0.84      0.90      0.87        30\n",
      "         123       0.71      0.93      0.81        29\n",
      "         124       0.95      0.72      0.82        29\n",
      "         125       1.00      0.63      0.78        30\n",
      "         126       0.62      0.67      0.65        30\n",
      "         127       0.58      0.83      0.68        30\n",
      "         128       0.57      0.77      0.66        30\n",
      "         129       0.91      0.70      0.79        30\n",
      "         130       0.60      0.90      0.72        30\n",
      "         131       0.90      0.90      0.90        30\n",
      "         132       0.97      0.93      0.95        30\n",
      "         133       1.00      0.90      0.95        30\n",
      "         134       0.80      0.40      0.53        30\n",
      "         135       0.62      0.53      0.57        30\n",
      "         136       0.68      0.50      0.58        30\n",
      "         137       0.82      0.77      0.79        30\n",
      "         138       0.84      0.90      0.87        30\n",
      "         139       0.90      0.87      0.88        30\n",
      "         140       0.40      0.48      0.44        29\n",
      "         141       0.82      0.47      0.60        30\n",
      "         142       0.36      0.50      0.42        30\n",
      "         143       0.26      0.33      0.29        30\n",
      "         144       0.62      0.33      0.43        30\n",
      "         145       0.24      0.33      0.28        30\n",
      "         146       0.85      0.77      0.81        30\n",
      "         147       0.93      0.90      0.92        30\n",
      "         148       0.97      0.97      0.97        29\n",
      "         149       0.79      0.90      0.84        30\n",
      "         150       0.95      1.00      0.98        21\n",
      "         151       0.78      0.83      0.81        30\n",
      "         152       0.80      0.69      0.74        29\n",
      "         153       0.89      0.83      0.86        30\n",
      "         154       0.81      0.57      0.67        30\n",
      "         155       0.89      0.80      0.84        30\n",
      "         156       0.88      0.52      0.65        29\n",
      "         157       0.94      0.97      0.95        30\n",
      "         158       1.00      0.93      0.97        30\n",
      "         159       0.97      0.97      0.97        29\n",
      "         160       0.74      0.83      0.78        30\n",
      "         161       0.92      0.77      0.84        30\n",
      "         162       0.93      0.93      0.93        30\n",
      "         163       1.00      0.87      0.93        30\n",
      "         164       0.93      0.87      0.90        30\n",
      "         165       0.96      0.86      0.91        29\n",
      "         166       0.91      0.70      0.79        30\n",
      "         167       0.92      0.83      0.87        29\n",
      "         168       0.84      0.90      0.87        29\n",
      "         169       1.00      0.80      0.89        30\n",
      "         170       0.96      0.90      0.93        30\n",
      "         171       0.83      0.80      0.81        30\n",
      "         172       0.50      0.73      0.59        30\n",
      "         173       0.46      0.90      0.61        30\n",
      "         174       0.70      0.70      0.70        30\n",
      "         175       0.79      1.00      0.88        30\n",
      "         176       0.91      1.00      0.95        30\n",
      "         177       0.80      0.77      0.78        26\n",
      "         178       0.55      0.62      0.58        29\n",
      "         179       0.82      0.77      0.79        30\n",
      "         180       0.96      0.83      0.89        29\n",
      "         181       0.72      0.87      0.79        30\n",
      "         182       0.75      0.90      0.82        30\n",
      "         183       0.85      0.77      0.81        30\n",
      "         184       0.91      0.97      0.94        30\n",
      "         185       1.00      0.90      0.95        30\n",
      "         186       0.81      0.85      0.83        20\n",
      "         187       0.97      1.00      0.98        30\n",
      "         188       0.83      0.97      0.89        30\n",
      "         189       0.88      0.97      0.92        29\n",
      "         190       1.00      0.87      0.93        30\n",
      "         191       0.96      0.87      0.91        30\n",
      "         192       0.71      0.80      0.75        30\n",
      "         193       0.96      0.73      0.83        30\n",
      "         194       0.81      0.73      0.77        30\n",
      "         195       0.71      0.57      0.63        30\n",
      "         196       0.95      0.63      0.76        30\n",
      "         197       0.91      0.70      0.79        30\n",
      "         198       0.77      0.77      0.77        30\n",
      "         199       0.74      0.93      0.82        30\n",
      "\n",
      "    accuracy                           0.76      5794\n",
      "   macro avg       0.78      0.76      0.76      5794\n",
      "weighted avg       0.78      0.76      0.76      5794\n",
      "\n"
     ]
    }
   ],
   "source": [
    "from sklearn.metrics import classification_report\n",
    "\n",
    "y_true = real_labels.cpu().numpy()\n",
    "y_pred = predictions.cpu().numpy()\n",
    "\n",
    "print(classification_report(y_true, y_pred))"
   ]
  },
  {
   "cell_type": "code",
   "execution_count": 84,
   "id": "ade5c6e9",
   "metadata": {},
   "outputs": [
    {
     "name": "stdout",
     "output_type": "stream",
     "text": [
      "99.99107360839844% of the values are close to 0 or 1\n"
     ]
    }
   ],
   "source": [
    "close_to_zero = (torch.sum((model.get_sigmoid_prototypes() < 0.1) | (model.get_sigmoid_prototypes() > 0.9)) / (200*112)).cpu().numpy()\n",
    "print(f\"{close_to_zero*100}% of the values are close to 0 or 1\")"
   ]
  },
  {
   "cell_type": "markdown",
   "id": "7f6cf8c9",
   "metadata": {},
   "source": [
    "# Class-level vs Learned"
   ]
  },
  {
   "cell_type": "code",
   "execution_count": 85,
   "id": "e2985a2a",
   "metadata": {},
   "outputs": [
    {
     "name": "stdout",
     "output_type": "stream",
     "text": [
      "Overall sparsity: 0.8001\n"
     ]
    }
   ],
   "source": [
    "# print(class_level_concepts)\n",
    "\n",
    "# Overall sparsity (fraction of zeros)\n",
    "overall_sparsity = np.mean(class_level_concepts == 0)\n",
    "print(f\"Overall sparsity: {overall_sparsity:.4f}\")\n",
    "\n",
    "# # Sparsity per row (fraction of zeros in each row)\n",
    "# row_sparsity = np.mean(class_level_concepts == 0, axis=1)\n",
    "# print(\"Sparsity per row:\", row_sparsity)"
   ]
  },
  {
   "cell_type": "code",
   "execution_count": 86,
   "id": "8c8ae91e",
   "metadata": {},
   "outputs": [
    {
     "name": "stdout",
     "output_type": "stream",
     "text": [
      "Overall sparsity: 0.8038\n"
     ]
    }
   ],
   "source": [
    "Prototypes = model.get_binary_prototypes()\n",
    "Prototypes = Prototypes.cpu().detach().numpy()\n",
    "# print(Prototypes)\n",
    "\n",
    "# Overall sparsity (fraction of zeros)\n",
    "overall_sparsity = np.mean(Prototypes == 0)\n",
    "print(f\"Overall sparsity: {overall_sparsity:.4f}\")\n",
    "\n",
    "# Sparsity per row (fraction of zeros in each row)\n",
    "# row_sparsity = np.mean(Prototypes == 0, axis=1)\n",
    "# print(\"Sparsity per row:\", row_sparsity)"
   ]
  },
  {
   "cell_type": "code",
   "execution_count": 87,
   "id": "d9e88c96",
   "metadata": {},
   "outputs": [],
   "source": [
    "# Prototypes = model.get_sigmoid_prototypes()\n",
    "# Prototypes = Prototypes.cpu().detach().numpy()\n",
    "# print(Prototypes)"
   ]
  },
  {
   "cell_type": "code",
   "execution_count": 88,
   "id": "2a7dc8f1",
   "metadata": {},
   "outputs": [
    {
     "name": "stdout",
     "output_type": "stream",
     "text": [
      "0.0% of the values are close to 0.5\n"
     ]
    }
   ],
   "source": [
    "close_to_half = (torch.sum((model.get_sigmoid_prototypes() > 0.4) & (model.get_sigmoid_prototypes() < 0.6)) / (200*112)).cpu().numpy()\n",
    "print(f\"{close_to_half*100}% of the values are close to 0.5\")"
   ]
  },
  {
   "cell_type": "code",
   "execution_count": 89,
   "id": "38c33e67",
   "metadata": {},
   "outputs": [
    {
     "data": {
      "text/plain": [
       "array([[0, 1, 0, ..., 0, 0, 0],\n",
       "       [0, 1, 0, ..., 0, 0, 0],\n",
       "       [0, 1, 0, ..., 0, 0, 0],\n",
       "       ...,\n",
       "       [1, 0, 0, ..., 1, 0, 0],\n",
       "       [0, 0, 1, ..., 0, 0, 0],\n",
       "       [0, 0, 1, ..., 0, 0, 0]])"
      ]
     },
     "execution_count": 89,
     "metadata": {},
     "output_type": "execute_result"
    }
   ],
   "source": [
    "class_level_concepts"
   ]
  },
  {
   "cell_type": "code",
   "execution_count": 90,
   "id": "658c8f7e",
   "metadata": {},
   "outputs": [
    {
     "name": "stdout",
     "output_type": "stream",
     "text": [
      "[[0. 1. 0. ... 0. 0. 0.]\n",
      " [0. 1. 0. ... 0. 0. 0.]\n",
      " [0. 1. 0. ... 0. 0. 0.]\n",
      " ...\n",
      " [1. 0. 0. ... 1. 0. 0.]\n",
      " [0. 0. 1. ... 0. 0. 0.]\n",
      " [0. 0. 1. ... 0. 0. 0.]]\n"
     ]
    }
   ],
   "source": [
    "print(model.get_binary_prototypes().cpu().detach().numpy())"
   ]
  },
  {
   "cell_type": "code",
   "execution_count": 91,
   "id": "51a31bcd",
   "metadata": {},
   "outputs": [],
   "source": [
    "def inverse_sigmoid(x):\n",
    "    epsilon = 1e-7\n",
    "    x = np.clip(x, epsilon, 1 - epsilon)\n",
    "    return np.log(x / (1 - x))"
   ]
  },
  {
   "cell_type": "code",
   "execution_count": 92,
   "id": "82772330",
   "metadata": {},
   "outputs": [],
   "source": [
    "if use_dataset == 'Derm7pt':\n",
    "    new_prototypes = model.get_sigmoid_prototypes().cpu().detach().numpy()\n",
    "    # Apply inverse sigmoid to convert binary class-level concepts to logits\n",
    "    for i in range(5):\n",
    "        new_prototypes[i] = inverse_sigmoid(class_level_concepts[i])\n",
    "\n",
    "    new_prototypes = torch.tensor(new_prototypes, device=device, dtype=torch.float32)\n",
    "    print(new_prototypes)\n",
    "\n",
    "    model.modify_prototypes(new_prototypes)"
   ]
  },
  {
   "cell_type": "code",
   "execution_count": 93,
   "id": "9c75f75c",
   "metadata": {},
   "outputs": [
    {
     "data": {
      "text/plain": [
       "array([[0., 1., 0., ..., 0., 0., 0.],\n",
       "       [0., 1., 0., ..., 0., 0., 0.],\n",
       "       [0., 1., 0., ..., 0., 0., 0.],\n",
       "       ...,\n",
       "       [1., 0., 0., ..., 1., 0., 0.],\n",
       "       [0., 0., 1., ..., 0., 0., 0.],\n",
       "       [0., 0., 1., ..., 0., 0., 0.]], dtype=float32)"
      ]
     },
     "execution_count": 93,
     "metadata": {},
     "output_type": "execute_result"
    }
   ],
   "source": [
    "model.get_binary_prototypes().cpu().detach().numpy()"
   ]
  },
  {
   "cell_type": "code",
   "execution_count": 94,
   "id": "a47d378c",
   "metadata": {},
   "outputs": [],
   "source": [
    "# save the model\n",
    "torch.save(model, os.path.join(output_dir, 'clc_model.pth'))"
   ]
  },
  {
   "cell_type": "markdown",
   "id": "61b09a36",
   "metadata": {},
   "source": [
    "# MY OLD CODE"
   ]
  },
  {
   "cell_type": "code",
   "execution_count": null,
   "id": "091fbd97",
   "metadata": {},
   "outputs": [],
   "source": []
  },
  {
   "cell_type": "code",
   "execution_count": 95,
   "id": "cfe9091f",
   "metadata": {},
   "outputs": [],
   "source": [
    "# # --- Plotting ---\n",
    "# from matplotlib import pyplot as plt\n",
    "\n",
    "# plt.figure(figsize=(10, 5))\n",
    "# epochs_range = range(1, epochs + 1)\n",
    "# plt.plot(epochs_range, train_losses, label='Training Loss', marker='o', linestyle='-')\n",
    "# plt.plot(epochs_range, val_losses, label='Validation Loss', marker='x', linestyle='--')\n",
    "# plt.title('Training and Validation Loss Over Epochs')\n",
    "# plt.xlabel('Epoch')\n",
    "# plt.ylabel('Average Loss')\n",
    "# plt.legend()\n",
    "# plt.grid(True)\n",
    "# plt.show()\n",
    "\n",
    "# # Optional: Plot validation accuracy as well\n",
    "# plt.figure(figsize=(10, 5))\n",
    "# plt.plot(epochs_range, val_accuracies, label='Validation Accuracy', marker='s', linestyle='-', color='green')\n",
    "# plt.title('Validation Accuracy Over Epochs')\n",
    "# plt.xlabel('Epoch')\n",
    "# plt.ylabel('Accuracy (%)')\n",
    "# plt.legend()\n",
    "# plt.grid(True)\n",
    "# plt.show()"
   ]
  },
  {
   "cell_type": "code",
   "execution_count": 96,
   "id": "0a987f12",
   "metadata": {},
   "outputs": [],
   "source": [
    "# prototypes = []\n",
    "# for y in Y_train:\n",
    "#     prototypes.append(final_binary_prototypes[y])\n",
    "\n",
    "# prototypes = np.array(prototypes)"
   ]
  },
  {
   "cell_type": "code",
   "execution_count": 97,
   "id": "daad5b1b",
   "metadata": {},
   "outputs": [],
   "source": [
    "# # Function to find the closest concept vector and predict the label\n",
    "# def predict_nearest_concept(instance, reference_concepts, reference_labels):\n",
    "#     distances = np.sum(np.abs(reference_concepts - instance), axis=1)\n",
    "#     min_idx = np.argmin(distances)\n",
    "#     return reference_labels[min_idx]\n",
    "\n",
    "# # Use prototypes as reference concepts and evaluate on C_hat_test\n",
    "# correct_predictions = 0\n",
    "# total_predictions = len(C_hat_test)\n",
    "\n",
    "# for i, test_instance in enumerate(C_hat_test):\n",
    "#     predicted_label = predict_nearest_concept(test_instance, prototypes, Y_train)\n",
    "#     true_label = Y_test[i]\n",
    "\n",
    "#     if predicted_label == true_label:\n",
    "#         correct_predictions += 1\n",
    "\n",
    "# # Calculate and print accuracy\n",
    "# accuracy = correct_predictions / total_predictions\n",
    "# print(f\"\\nOverall accuracy using prototype-based nearest neighbor: {accuracy:.4f}\")"
   ]
  },
  {
   "cell_type": "code",
   "execution_count": null,
   "id": "8666fb86",
   "metadata": {},
   "outputs": [],
   "source": []
  }
 ],
 "metadata": {
  "kernelspec": {
   "display_name": "Python 3",
   "language": "python",
   "name": "python3"
  },
  "language_info": {
   "codemirror_mode": {
    "name": "ipython",
    "version": 3
   },
   "file_extension": ".py",
   "mimetype": "text/x-python",
   "name": "python",
   "nbconvert_exporter": "python",
   "pygments_lexer": "ipython3",
   "version": "3.11.9"
  }
 },
 "nbformat": 4,
 "nbformat_minor": 5
}
