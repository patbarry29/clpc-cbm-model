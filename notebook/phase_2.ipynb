{
 "cells": [
  {
   "cell_type": "code",
   "execution_count": 1,
   "id": "cdbe4197",
   "metadata": {},
   "outputs": [],
   "source": [
    "datasets = ['CUB', 'Derm7pt', 'RIVAL10']\n",
    "use_dataset = datasets[2]"
   ]
  },
  {
   "cell_type": "code",
   "execution_count": 2,
   "id": "c415bffb",
   "metadata": {},
   "outputs": [],
   "source": [
    "import os\n",
    "import sys\n",
    "\n",
    "notebook_dir = os.getcwd()\n",
    "project_root_path = os.path.dirname(notebook_dir)\n",
    "sys.path.insert(0, project_root_path)\n",
    "\n",
    "from src.config import CUB_CONFIG, DERM7PT_CONFIG, RIVAL10_CONFIG  # noqa: E402\n",
    "from src.config import PROJECT_ROOT  # noqa: E402\n",
    "import numpy as np  # noqa: E402"
   ]
  },
  {
   "cell_type": "code",
   "execution_count": 3,
   "id": "cc4dd3dc",
   "metadata": {},
   "outputs": [],
   "source": [
    "if use_dataset == 'CUB':\n",
    "    config_dict = CUB_CONFIG\n",
    "    DATASET_PATH =  os.path.join(PROJECT_ROOT, 'output', 'CUB')\n",
    "elif use_dataset == 'Derm7pt':\n",
    "    config_dict = DERM7PT_CONFIG\n",
    "    DATASET_PATH =  os.path.join(PROJECT_ROOT, 'output', 'Derm7pt')\n",
    "else:\n",
    "    config_dict = RIVAL10_CONFIG\n",
    "    DATASET_PATH =  os.path.join(PROJECT_ROOT, 'output', 'RIVAL10')"
   ]
  },
  {
   "cell_type": "markdown",
   "id": "ffe4b59a",
   "metadata": {},
   "source": [
    "# Load and Transform Data"
   ]
  },
  {
   "cell_type": "code",
   "execution_count": 4,
   "id": "fc1bbd44",
   "metadata": {},
   "outputs": [],
   "source": [
    "# INSTANCE-BASED CUB MODEL\n",
    "\n",
    "# C_train = np.load(os.path.join(PROJECT_ROOT, 'output', 'CUB', 'C_train_instance.npy'))\n",
    "# C_hat_train = np.load(os.path.join(PROJECT_ROOT, 'output', 'CUB', 'C_hat_sigmoid_train_instance.npy'))\n",
    "# one_hot_Y_train = np.load(os.path.join(PROJECT_ROOT, 'output', 'CUB', 'Y_train_instance.npy'))\n",
    "\n",
    "# C_test = np.load(os.path.join(PROJECT_ROOT, 'output', 'CUB', 'C_test_instance.npy'))\n",
    "# C_hat_test = np.load(os.path.join(PROJECT_ROOT, 'output', 'CUB', 'C_hat_sigmoid_test_instance.npy'))\n",
    "# one_hot_Y_test = np.load(os.path.join(PROJECT_ROOT, 'output', 'CUB', 'Y_test_instance.npy'))"
   ]
  },
  {
   "cell_type": "code",
   "execution_count": 5,
   "id": "b037fd34",
   "metadata": {},
   "outputs": [],
   "source": [
    "C_hat_train = np.load(os.path.join(DATASET_PATH, 'C_hat_sigmoid_train.npy'))\n",
    "one_hot_Y_train = np.load(os.path.join(DATASET_PATH, 'Y_train.npy'))\n",
    "\n",
    "C_hat_test = np.load(os.path.join(DATASET_PATH, 'C_hat_sigmoid_test.npy'))\n",
    "one_hot_Y_test = np.load(os.path.join(DATASET_PATH, 'Y_test.npy'))\n",
    "\n",
    "if use_dataset == 'Derm7pt':\n",
    "    C_hat_val = np.load(os.path.join(DATASET_PATH, 'C_hat_sigmoid_val.npy'))\n",
    "    one_hot_Y_val = np.load(os.path.join(DATASET_PATH, 'Y_val.npy'))\n",
    "\n",
    "    C_hat_train = np.concatenate((C_hat_train, C_hat_val), axis=0)\n",
    "    one_hot_Y_train = np.concatenate((one_hot_Y_train, one_hot_Y_val), axis=0)\n",
    "\n",
    "class_level_concepts = np.load(os.path.join(DATASET_PATH, 'class_level_concepts.npy'))"
   ]
  },
  {
   "cell_type": "code",
   "execution_count": 6,
   "id": "dc3226bb",
   "metadata": {},
   "outputs": [],
   "source": [
    "Y_train = np.argmax(one_hot_Y_train, axis=1)\n",
    "Y_test = np.argmax(one_hot_Y_test, axis=1)"
   ]
  },
  {
   "cell_type": "code",
   "execution_count": 7,
   "id": "85ad0c07",
   "metadata": {},
   "outputs": [],
   "source": [
    "C_train = []\n",
    "for y in Y_train:\n",
    "    C_train.append(class_level_concepts[y])\n",
    "\n",
    "C_train = np.array(C_train)"
   ]
  },
  {
   "cell_type": "code",
   "execution_count": 8,
   "id": "47193d3a",
   "metadata": {},
   "outputs": [],
   "source": [
    "from sklearn.utils import shuffle\n",
    "\n",
    "\n",
    "C_hat_train, C_train, one_hot_Y_train, Y_train = shuffle(C_hat_train, C_train, one_hot_Y_train, Y_train, random_state=42)"
   ]
  },
  {
   "cell_type": "code",
   "execution_count": 9,
   "id": "cae5dd1d",
   "metadata": {},
   "outputs": [],
   "source": [
    "# unique, counts = np.unique(Y_train, return_counts=True)\n",
    "# for label, count in zip(unique, counts):\n",
    "#     print(f\"Label {label}: {count} instances\")"
   ]
  },
  {
   "cell_type": "code",
   "execution_count": 10,
   "id": "3a0a2d1a",
   "metadata": {},
   "outputs": [],
   "source": [
    "# unique, counts = np.unique(Y_test, return_counts=True)\n",
    "# for label, count in zip(unique, counts):\n",
    "#     print(f\"Label {label}: {count} instances\")"
   ]
  },
  {
   "cell_type": "markdown",
   "id": "fb99f9c0",
   "metadata": {},
   "source": [
    "# Classic Models"
   ]
  },
  {
   "cell_type": "markdown",
   "id": "0424779b",
   "metadata": {},
   "source": [
    "## Logistic Regression"
   ]
  },
  {
   "cell_type": "code",
   "execution_count": 11,
   "id": "7a6ed058",
   "metadata": {},
   "outputs": [
    {
     "name": "stdout",
     "output_type": "stream",
     "text": [
      "Logistic Regression Test accuracy: 0.9916761256148316\n"
     ]
    }
   ],
   "source": [
    "from sklearn.linear_model import LogisticRegression\n",
    "\n",
    "model = LogisticRegression(max_iter=1000)\n",
    "model.fit(C_hat_train, Y_train)\n",
    "print(f\"Logistic Regression Test accuracy: {model.score(C_hat_test, Y_test)}\")"
   ]
  },
  {
   "cell_type": "code",
   "execution_count": 12,
   "id": "43484e2a",
   "metadata": {},
   "outputs": [
    {
     "data": {
      "text/plain": [
       "array([0, 1, 2, 3, 4, 5, 6, 7, 8, 9])"
      ]
     },
     "execution_count": 12,
     "metadata": {},
     "output_type": "execute_result"
    }
   ],
   "source": [
    "np.unique(model.predict(C_hat_test))"
   ]
  },
  {
   "cell_type": "markdown",
   "id": "419e627c",
   "metadata": {},
   "source": [
    "## k-NN"
   ]
  },
  {
   "cell_type": "code",
   "execution_count": 13,
   "id": "3ec9af79",
   "metadata": {},
   "outputs": [
    {
     "name": "stdout",
     "output_type": "stream",
     "text": [
      "k-NN Test accuracy: 0.9903518728717366\n"
     ]
    }
   ],
   "source": [
    "from sklearn.neighbors import KNeighborsClassifier\n",
    "\n",
    "model = KNeighborsClassifier()\n",
    "model.fit(C_hat_train, Y_train)\n",
    "print(f\"k-NN Test accuracy: {model.score(C_hat_test, Y_test)}\")"
   ]
  },
  {
   "cell_type": "code",
   "execution_count": 14,
   "id": "e442a104",
   "metadata": {},
   "outputs": [
    {
     "data": {
      "text/plain": [
       "array([0, 1, 2, 3, 4, 5, 6, 7, 8, 9])"
      ]
     },
     "execution_count": 14,
     "metadata": {},
     "output_type": "execute_result"
    }
   ],
   "source": [
    "np.unique(model.predict(C_hat_test))"
   ]
  },
  {
   "cell_type": "markdown",
   "id": "3a14b904",
   "metadata": {},
   "source": [
    "## Decision Tree"
   ]
  },
  {
   "cell_type": "code",
   "execution_count": 15,
   "id": "2e8610c3-c78b-4997-9055-10af7ccf5958",
   "metadata": {},
   "outputs": [
    {
     "name": "stdout",
     "output_type": "stream",
     "text": [
      "Decision Tree Test accuracy: 0.9858115777525539\n"
     ]
    }
   ],
   "source": [
    "from sklearn.tree import DecisionTreeClassifier\n",
    "\n",
    "model = DecisionTreeClassifier()\n",
    "model.fit(C_hat_train, Y_train)\n",
    "print(f\"Decision Tree Test accuracy: {model.score(C_hat_test, Y_test)}\")"
   ]
  },
  {
   "cell_type": "code",
   "execution_count": 16,
   "id": "466a67ed",
   "metadata": {},
   "outputs": [
    {
     "data": {
      "text/plain": [
       "array([0, 1, 2, 3, 4, 5, 6, 7, 8, 9])"
      ]
     },
     "execution_count": 16,
     "metadata": {},
     "output_type": "execute_result"
    }
   ],
   "source": [
    "np.unique(model.predict(C_hat_test))"
   ]
  },
  {
   "cell_type": "markdown",
   "id": "5aff22cb",
   "metadata": {},
   "source": [
    "## MLP"
   ]
  },
  {
   "cell_type": "code",
   "execution_count": 17,
   "id": "6f9c3248",
   "metadata": {},
   "outputs": [
    {
     "name": "stdout",
     "output_type": "stream",
     "text": [
      "MLP Test accuracy: 0.9884600832387439\n"
     ]
    }
   ],
   "source": [
    "from sklearn.neural_network import MLPClassifier\n",
    "\n",
    "mlp = MLPClassifier(hidden_layer_sizes=(512,256, 128), max_iter=1000)\n",
    "mlp.fit(C_hat_train, Y_train)\n",
    "print(f\"MLP Test accuracy: {mlp.score(C_hat_test, Y_test)}\")"
   ]
  },
  {
   "cell_type": "code",
   "execution_count": 18,
   "id": "9bd4c37b",
   "metadata": {},
   "outputs": [
    {
     "data": {
      "text/plain": [
       "array([0, 1, 2, 3, 4, 5, 6, 7, 8, 9])"
      ]
     },
     "execution_count": 18,
     "metadata": {},
     "output_type": "execute_result"
    }
   ],
   "source": [
    "np.unique(model.predict(C_hat_test))"
   ]
  },
  {
   "cell_type": "markdown",
   "id": "a5950cfd",
   "metadata": {},
   "source": [
    "# Accuracy Using Class-Level Concepts"
   ]
  },
  {
   "cell_type": "code",
   "execution_count": 19,
   "id": "ed1991c0",
   "metadata": {},
   "outputs": [
    {
     "name": "stdout",
     "output_type": "stream",
     "text": [
      "Accuracy using absolute difference to class concepts: 0.9896\n"
     ]
    }
   ],
   "source": [
    "# Calculate differences between each test instance and all class-level concepts\n",
    "distances = []\n",
    "\n",
    "for i, test_instance in enumerate(C_hat_test):\n",
    "    # Calculate absolute differences to each class concept\n",
    "    # This gives element-wise differences between probabilities and binary values\n",
    "    instance_diffs = np.abs(test_instance - class_level_concepts)\n",
    "\n",
    "    # Sum the differences along concept dimension to get total deviation for each class\n",
    "    instance_distances = np.sum(instance_diffs, axis=1)\n",
    "\n",
    "    # Find the minimum distance\n",
    "    min_distance = np.min(instance_distances)\n",
    "    # Find which class has the minimum distance\n",
    "    min_class = np.argmin(instance_distances)\n",
    "    distances.append((min_distance, min_class))\n",
    "\n",
    "# Convert to numpy arrays for easier analysis\n",
    "min_distances = np.array([d[0] for d in distances])\n",
    "predicted_classes = np.array([d[1] for d in distances])\n",
    "\n",
    "# Calculate accuracy\n",
    "accuracy = np.mean(predicted_classes == Y_test)\n",
    "print(f\"Accuracy using absolute difference to class concepts: {accuracy:.4f}\")"
   ]
  },
  {
   "cell_type": "markdown",
   "id": "9d9dc649-e4d0-40d5-aa23-bd8b5360bea6",
   "metadata": {},
   "source": [
    "# Prototype-Based Model\n"
   ]
  },
  {
   "cell_type": "code",
   "execution_count": 20,
   "id": "d6be3f96",
   "metadata": {},
   "outputs": [],
   "source": [
    "import torch\n",
    "from torch.utils.data import TensorDataset, DataLoader"
   ]
  },
  {
   "cell_type": "code",
   "execution_count": 21,
   "id": "118ea801",
   "metadata": {},
   "outputs": [
    {
     "name": "stdout",
     "output_type": "stream",
     "text": [
      "Using device: mps\n"
     ]
    }
   ],
   "source": [
    "device = torch.device(\"cuda\" if torch.cuda.is_available() else \"mps\" if torch.backends.mps.is_available() else \"cpu\")\n",
    "print(f\"Using device: {device}\")"
   ]
  },
  {
   "cell_type": "markdown",
   "id": "14da7dda",
   "metadata": {},
   "source": [
    "## Create Dataloaders"
   ]
  },
  {
   "cell_type": "code",
   "execution_count": 22,
   "id": "482ea172",
   "metadata": {},
   "outputs": [],
   "source": [
    "val_split_ratio = 0.2\n",
    "random_seed = 42\n",
    "\n",
    "if use_dataset == 'Derm7pt':\n",
    "    X_train = torch.tensor(C_hat_train, dtype=torch.float32)\n",
    "    Y_train = torch.tensor(one_hot_Y_train, dtype=torch.float32)\n",
    "else:\n",
    "    # C_hat_train, C_hat_val, Y_train_np, Y_val_np = train_test_split(C_hat_train, one_hot_Y_train, test_size=val_split_ratio, random_state=random_seed)\n",
    "    X_train = torch.tensor(C_hat_train, dtype=torch.float32)\n",
    "    Y_train = torch.tensor(one_hot_Y_train, dtype=torch.float32)\n",
    "\n",
    "X_test = torch.tensor(C_hat_test, dtype=torch.float32, device=device)\n",
    "Y_test = torch.tensor(one_hot_Y_test, dtype=torch.float32, device=device)\n",
    "\n",
    "# DATALOADERS\n",
    "batch_size = 64\n",
    "train_dataset = TensorDataset(X_train, Y_train)\n",
    "train_loader = DataLoader(train_dataset, batch_size=batch_size, shuffle=True)\n",
    "\n",
    "test_dataset = TensorDataset(X_test, Y_test)\n",
    "test_dataloader = DataLoader(test_dataset, batch_size=batch_size, shuffle=False)"
   ]
  },
  {
   "cell_type": "markdown",
   "id": "497a8c4e",
   "metadata": {},
   "source": [
    "## Learn Prototypes"
   ]
  },
  {
   "cell_type": "code",
   "execution_count": 23,
   "id": "eb8f8f1d",
   "metadata": {},
   "outputs": [],
   "source": [
    "from src.models import PrototypeClassifier\n",
    "\n",
    "num_concepts = config_dict['N_TRIMMED_CONCEPTS']\n",
    "num_classes = config_dict['N_CLASSES']\n",
    "\n",
    "model = PrototypeClassifier(num_concepts, num_classes).to(device)\n",
    "optimizer = torch.optim.Adam(model.parameters(), lr=0.01)\n",
    "lambda_binary = 0.01\n",
    "lambda_L1 = 0.001"
   ]
  },
  {
   "cell_type": "code",
   "execution_count": 24,
   "id": "c7f50626",
   "metadata": {},
   "outputs": [
    {
     "name": "stderr",
     "output_type": "stream",
     "text": [
      "Training Prototypes: 100%|██████████| 50/50 [00:49<00:00,  1.02it/s, Train Acc=99.16%, Train Loss=-6.5675]"
     ]
    },
    {
     "name": "stdout",
     "output_type": "stream",
     "text": [
      "Best accuracy of 99.19% achieved at epoch 3\n"
     ]
    },
    {
     "name": "stderr",
     "output_type": "stream",
     "text": [
      "\n"
     ]
    }
   ],
   "source": [
    "# train and test\n",
    "from tqdm import tqdm\n",
    "from src.training import train_epoch\n",
    "\n",
    "num_epochs = 50\n",
    "best_acc, best_epoch = 0, 0\n",
    "\n",
    "tqdm_loader = tqdm(range(num_epochs), desc=\"Training Prototypes\", leave=True)\n",
    "for epoch in tqdm_loader:\n",
    "    train_loss, train_accuracy = train_epoch(model, train_loader, optimizer, lambda_binary, lambda_L1, device=device)\n",
    "    if train_accuracy > best_acc:\n",
    "        best_acc = train_accuracy\n",
    "        best_epoch = epoch\n",
    "    tqdm_loader.set_postfix({\"Train Acc\": f\"{train_accuracy:.2f}%\", \"Train Loss\": f\"{train_loss:.4f}\"})\n",
    "\n",
    "print(f\"Best accuracy of {best_acc:.2f}% achieved at epoch {best_epoch}\")"
   ]
  },
  {
   "cell_type": "code",
   "execution_count": 25,
   "id": "1b82dc36",
   "metadata": {},
   "outputs": [
    {
     "data": {
      "text/plain": [
       "0.9895951570185395"
      ]
     },
     "execution_count": 25,
     "metadata": {},
     "output_type": "execute_result"
    }
   ],
   "source": [
    "real_labels = Y_test.argmax(dim=1)\n",
    "predictions = model.predict(X_test)\n",
    "(predictions == real_labels).sum().item()/len(predictions)"
   ]
  },
  {
   "cell_type": "code",
   "execution_count": 26,
   "id": "d85fa563",
   "metadata": {},
   "outputs": [],
   "source": [
    "# np.unique(predictions.cpu().numpy())"
   ]
  },
  {
   "cell_type": "code",
   "execution_count": 27,
   "id": "d004525d",
   "metadata": {},
   "outputs": [],
   "source": [
    "# from sklearn.metrics import classification_report\n",
    "\n",
    "# y_true = real_labels.cpu().numpy()\n",
    "# y_pred = predictions.cpu().numpy()\n",
    "\n",
    "# print(classification_report(y_true, y_pred))"
   ]
  },
  {
   "cell_type": "code",
   "execution_count": 28,
   "id": "ade5c6e9",
   "metadata": {},
   "outputs": [
    {
     "name": "stdout",
     "output_type": "stream",
     "text": [
      "0.3660714328289032% of the values are close to 0 or 1\n"
     ]
    }
   ],
   "source": [
    "close_to_zero = (torch.sum((model.get_sigmoid_prototypes() < 0.1) | (model.get_sigmoid_prototypes() > 0.9)) / (200*112)).cpu().numpy()\n",
    "print(f\"{close_to_zero*100}% of the values are close to 0 or 1\")"
   ]
  },
  {
   "cell_type": "markdown",
   "id": "7f6cf8c9",
   "metadata": {},
   "source": [
    "# Class-level vs Learned"
   ]
  },
  {
   "cell_type": "code",
   "execution_count": 29,
   "id": "e2985a2a",
   "metadata": {},
   "outputs": [
    {
     "name": "stdout",
     "output_type": "stream",
     "text": [
      "Overall sparsity: 0.6526\n"
     ]
    }
   ],
   "source": [
    "# print(class_level_concepts)\n",
    "\n",
    "# Overall sparsity (fraction of zeros)\n",
    "overall_sparsity = np.mean(class_level_concepts == 0)\n",
    "print(f\"Overall sparsity: {overall_sparsity:.4f}\")\n",
    "\n",
    "# # Sparsity per row (fraction of zeros in each row)\n",
    "# row_sparsity = np.mean(class_level_concepts == 0, axis=1)\n",
    "# print(\"Sparsity per row:\", row_sparsity)"
   ]
  },
  {
   "cell_type": "code",
   "execution_count": null,
   "id": "8c8ae91e",
   "metadata": {},
   "outputs": [],
   "source": [
    "Prototypes = model.get_sigmoid_prototypes()\n",
    "Prototypes = Prototypes.cpu().detach().numpy()\n",
    "Prototypes[Prototypes>=0.5] = 1\n",
    "Prototypes[Prototypes<0.5]= 0\n",
    "# print(Prototypes)\n",
    "\n",
    "# Overall sparsity (fraction of zeros)\n",
    "overall_sparsity = np.mean(Prototypes == 0)\n",
    "print(f\"Overall sparsity: {overall_sparsity:.4f}\")\n",
    "\n",
    "# Sparsity per row (fraction of zeros in each row)\n",
    "# row_sparsity = np.mean(Prototypes == 0, axis=1)\n",
    "# print(\"Sparsity per row:\", row_sparsity)"
   ]
  },
  {
   "cell_type": "code",
   "execution_count": null,
   "id": "d9e88c96",
   "metadata": {},
   "outputs": [],
   "source": [
    "# Prototypes = model.get_sigmoid_prototypes()\n",
    "# Prototypes = Prototypes.cpu().detach().numpy()\n",
    "# print(Prototypes)"
   ]
  },
  {
   "cell_type": "code",
   "execution_count": null,
   "id": "2a7dc8f1",
   "metadata": {},
   "outputs": [],
   "source": [
    "close_to_half = (torch.sum((model.get_sigmoid_prototypes() > 0.4) & (model.get_sigmoid_prototypes() < 0.6)) / (200*112)).cpu().numpy()\n",
    "print(f\"{close_to_half*100}% of the values are close to 0.5\")"
   ]
  },
  {
   "cell_type": "markdown",
   "id": "61b09a36",
   "metadata": {},
   "source": [
    "# MY OLD CODE"
   ]
  },
  {
   "cell_type": "code",
   "execution_count": null,
   "id": "091fbd97",
   "metadata": {},
   "outputs": [],
   "source": []
  },
  {
   "cell_type": "code",
   "execution_count": null,
   "id": "cfe9091f",
   "metadata": {},
   "outputs": [],
   "source": [
    "# # --- Plotting ---\n",
    "# from matplotlib import pyplot as plt\n",
    "\n",
    "# plt.figure(figsize=(10, 5))\n",
    "# epochs_range = range(1, epochs + 1)\n",
    "# plt.plot(epochs_range, train_losses, label='Training Loss', marker='o', linestyle='-')\n",
    "# plt.plot(epochs_range, val_losses, label='Validation Loss', marker='x', linestyle='--')\n",
    "# plt.title('Training and Validation Loss Over Epochs')\n",
    "# plt.xlabel('Epoch')\n",
    "# plt.ylabel('Average Loss')\n",
    "# plt.legend()\n",
    "# plt.grid(True)\n",
    "# plt.show()\n",
    "\n",
    "# # Optional: Plot validation accuracy as well\n",
    "# plt.figure(figsize=(10, 5))\n",
    "# plt.plot(epochs_range, val_accuracies, label='Validation Accuracy', marker='s', linestyle='-', color='green')\n",
    "# plt.title('Validation Accuracy Over Epochs')\n",
    "# plt.xlabel('Epoch')\n",
    "# plt.ylabel('Accuracy (%)')\n",
    "# plt.legend()\n",
    "# plt.grid(True)\n",
    "# plt.show()"
   ]
  },
  {
   "cell_type": "code",
   "execution_count": null,
   "id": "0a987f12",
   "metadata": {},
   "outputs": [],
   "source": [
    "# prototypes = []\n",
    "# for y in Y_train:\n",
    "#     prototypes.append(final_binary_prototypes[y])\n",
    "\n",
    "# prototypes = np.array(prototypes)"
   ]
  },
  {
   "cell_type": "code",
   "execution_count": null,
   "id": "daad5b1b",
   "metadata": {},
   "outputs": [],
   "source": [
    "# # Function to find the closest concept vector and predict the label\n",
    "# def predict_nearest_concept(instance, reference_concepts, reference_labels):\n",
    "#     distances = np.sum(np.abs(reference_concepts - instance), axis=1)\n",
    "#     min_idx = np.argmin(distances)\n",
    "#     return reference_labels[min_idx]\n",
    "\n",
    "# # Use prototypes as reference concepts and evaluate on C_hat_test\n",
    "# correct_predictions = 0\n",
    "# total_predictions = len(C_hat_test)\n",
    "\n",
    "# for i, test_instance in enumerate(C_hat_test):\n",
    "#     predicted_label = predict_nearest_concept(test_instance, prototypes, Y_train)\n",
    "#     true_label = Y_test[i]\n",
    "\n",
    "#     if predicted_label == true_label:\n",
    "#         correct_predictions += 1\n",
    "\n",
    "# # Calculate and print accuracy\n",
    "# accuracy = correct_predictions / total_predictions\n",
    "# print(f\"\\nOverall accuracy using prototype-based nearest neighbor: {accuracy:.4f}\")"
   ]
  },
  {
   "cell_type": "code",
   "execution_count": null,
   "id": "8666fb86",
   "metadata": {},
   "outputs": [],
   "source": []
  }
 ],
 "metadata": {
  "kernelspec": {
   "display_name": "Python 3",
   "language": "python",
   "name": "python3"
  },
  "language_info": {
   "codemirror_mode": {
    "name": "ipython",
    "version": 3
   },
   "file_extension": ".py",
   "mimetype": "text/x-python",
   "name": "python",
   "nbconvert_exporter": "python",
   "pygments_lexer": "ipython3",
   "version": "3.11.9"
  }
 },
 "nbformat": 4,
 "nbformat_minor": 5
}
