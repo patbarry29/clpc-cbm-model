{
 "cells": [
  {
   "cell_type": "code",
   "execution_count": 1,
   "id": "f05fa329",
   "metadata": {},
   "outputs": [],
   "source": [
    "import os\n",
    "import sys\n",
    "\n",
    "notebook_dir = os.getcwd()\n",
    "project_root_path = os.path.dirname(notebook_dir)\n",
    "sys.path.insert(0, project_root_path)\n",
    "\n",
    "from src.models import ModelXtoCResNet\n",
    "from src.preprocessing.RIVAL10 import preprocessing_rival10\n",
    "from src.utils import *\n",
    "from src.training import run_epoch_x_to_c"
   ]
  },
  {
   "cell_type": "code",
   "execution_count": null,
   "id": "9f239f5e",
   "metadata": {},
   "outputs": [
    {
     "name": "stdout",
     "output_type": "stream",
     "text": [
      "Found 26384 unique images.\n",
      "Found 18 unique concepts.\n",
      "Generated one-hot training matrix with shape: (21098, 10)\n",
      "Found 21098 images.\n",
      "Processing in 330 batches of size 64 (for progress reporting)...\n"
     ]
    },
    {
     "name": "stderr",
     "output_type": "stream",
     "text": [
      "Processing batches: 100%|█████████████████████| 330/330 [00:36<00:00,  9.07it/s]\n"
     ]
    },
    {
     "name": "stdout",
     "output_type": "stream",
     "text": [
      "\n",
      "Finished processing.\n",
      "Successfully transformed: 21098 images.\n",
      "Found 5286 images.\n",
      "Processing in 83 batches of size 64 (for progress reporting)...\n"
     ]
    },
    {
     "name": "stderr",
     "output_type": "stream",
     "text": [
      "Processing batches: 100%|███████████████████████| 83/83 [00:13<00:00,  6.31it/s]\n"
     ]
    },
    {
     "name": "stdout",
     "output_type": "stream",
     "text": [
      "\n",
      "Finished processing.\n",
      "Successfully transformed: 5286 images.\n",
      "Dataset initialized with 21098 pre-sorted items.\n",
      "Dataset initialized with 5286 pre-sorted items.\n"
     ]
    }
   ],
   "source": [
    "concept_labels, train_loader, test_loader = preprocessing_rival10(training=True, class_concepts=True, verbose=True)"
   ]
  },
  {
   "cell_type": "markdown",
   "id": "c80140bb",
   "metadata": {},
   "source": [
    "# Training Implementation"
   ]
  },
  {
   "cell_type": "code",
   "execution_count": null,
   "id": "ae643c1a",
   "metadata": {},
   "outputs": [],
   "source": [
    "from src.utils import find_class_imbalance\n",
    "from src.config import RIVAL10_CONFIG as config_dict\n",
    "import torch\n",
    "import torch.nn as nn\n",
    "import torch.optim as optim"
   ]
  },
  {
   "cell_type": "code",
   "execution_count": 4,
   "id": "3d7846bf",
   "metadata": {},
   "outputs": [],
   "source": [
    "N_TRIMMED_CONCEPTS = config_dict['N_TRIMMED_CONCEPTS']\n",
    "N_CLASSES = config_dict['N_CLASSES']"
   ]
  },
  {
   "cell_type": "markdown",
   "id": "aaf19306",
   "metadata": {},
   "source": [
    "**Find device to run model on (CPU or GPU).**"
   ]
  },
  {
   "cell_type": "code",
   "execution_count": 5,
   "id": "5316e340",
   "metadata": {},
   "outputs": [
    {
     "name": "stdout",
     "output_type": "stream",
     "text": [
      "Using device: mps\n"
     ]
    }
   ],
   "source": [
    "device = torch.device(\"cuda\" if torch.cuda.is_available()\n",
    "                    else \"mps\" if torch.backends.mps.is_available()\n",
    "                    else \"cpu\")\n",
    "print(f\"Using device: {device}\")"
   ]
  },
  {
   "cell_type": "markdown",
   "id": "76b5b0a8",
   "metadata": {},
   "source": [
    "**Instantiate the model.**"
   ]
  },
  {
   "cell_type": "code",
   "execution_count": 6,
   "id": "82fc53a2",
   "metadata": {},
   "outputs": [
    {
     "name": "stderr",
     "output_type": "stream",
     "text": [
      "/Users/pb/.pyenv/versions/3.11.9/lib/python3.11/site-packages/torchvision/models/_utils.py:208: UserWarning: The parameter 'pretrained' is deprecated since 0.13 and may be removed in the future, please use 'weights' instead.\n",
      "  warnings.warn(\n",
      "/Users/pb/.pyenv/versions/3.11.9/lib/python3.11/site-packages/torchvision/models/_utils.py:223: UserWarning: Arguments other than a weight enum or `None` for 'weights' are deprecated since 0.13 and may be removed in the future. The current behavior is equivalent to passing `weights=ResNet50_Weights.IMAGENET1K_V1`. You can also use `weights=ResNet50_Weights.DEFAULT` to get the most up-to-date weights.\n",
      "  warnings.warn(msg)\n"
     ]
    },
    {
     "name": "stdout",
     "output_type": "stream",
     "text": [
      "Model Instantiated (X -> C)\n"
     ]
    }
   ],
   "source": [
    "model = ModelXtoCResNet(pretrained=True,\n",
    "                freeze=True,\n",
    "                n_concepts=N_TRIMMED_CONCEPTS)\n",
    "\n",
    "model = model.to(device)\n",
    "print(\"Model Instantiated (X -> C)\")"
   ]
  },
  {
   "cell_type": "markdown",
   "id": "4731e539",
   "metadata": {},
   "source": [
    "### Loss\n",
    "We use weighted loss.\n",
    "\n",
    "`BCEWithLogitsLoss()` performs 2 steps:\n",
    "1. $\\sigma(x)$\n",
    "    - Applies the sigmoid function to the logits to get probabilities.\n",
    "2. $\\text{BCE}(\\sigma(x), y) = y \\cdot \\text{log}(\\sigma(x)) + (1-y) \\cdot (1-\\text{log}(\\sigma(x)))$\n",
    "    - Compute binary cross-entropy between output probabilities ($\\sigma(x)$) and ground truths ($y$)"
   ]
  },
  {
   "cell_type": "code",
   "execution_count": 7,
   "id": "be2ad09f",
   "metadata": {},
   "outputs": [],
   "source": [
    "use_weighted_loss = True # Set to False for simple unweighted loss\n",
    "\n",
    "if use_weighted_loss:\n",
    "    concept_weights = find_class_imbalance(concept_labels)\n",
    "    attr_criterion = [nn.BCEWithLogitsLoss(weight=torch.tensor([ratio], device=device, dtype=torch.float))\n",
    "                    for ratio in concept_weights]\n",
    "else:\n",
    "    attr_criterion = [nn.BCEWithLogitsLoss() for _ in range(N_TRIMMED_CONCEPTS)]"
   ]
  },
  {
   "cell_type": "markdown",
   "id": "936c945c",
   "metadata": {},
   "source": [
    "### Optimiser\n",
    "Use same settings as used in CBM repo."
   ]
  },
  {
   "cell_type": "code",
   "execution_count": 8,
   "id": "b50f189a",
   "metadata": {},
   "outputs": [
    {
     "name": "stdout",
     "output_type": "stream",
     "text": [
      "Optimizer and Scheduler Ready\n"
     ]
    }
   ],
   "source": [
    "lr = 0.01\n",
    "weight_decay = 0.00004 # same as lambda in L2-regularisation\n",
    "\n",
    "optimizer = optim.SGD(filter(lambda p: p.requires_grad, model.parameters()),\n",
    "                    lr=lr,\n",
    "                    momentum=0.9,\n",
    "                    weight_decay=weight_decay)\n",
    "\n",
    "# scheduler_step = n -> decrease the LR every n epochs\n",
    "scheduler_step = 1000\n",
    "scheduler = optim.lr_scheduler.StepLR(optimizer, step_size=scheduler_step, gamma=0.1)\n",
    "\n",
    "print(\"Optimizer and Scheduler Ready\")"
   ]
  },
  {
   "cell_type": "markdown",
   "id": "4e648c53",
   "metadata": {},
   "source": [
    "### Training and Validation Loops"
   ]
  },
  {
   "cell_type": "code",
   "execution_count": 9,
   "id": "5a03d3e2",
   "metadata": {},
   "outputs": [],
   "source": [
    "epochs = 50\n",
    "log_interval = 50\n",
    "\n",
    "best_val_acc = 0.0"
   ]
  },
  {
   "cell_type": "code",
   "execution_count": 10,
   "id": "743f1447",
   "metadata": {},
   "outputs": [
    {
     "name": "stdout",
     "output_type": "stream",
     "text": [
      "--- Epoch 1/50 ---\n"
     ]
    },
    {
     "name": "stderr",
     "output_type": "stream",
     "text": [
      "                                                                                "
     ]
    },
    {
     "name": "stdout",
     "output_type": "stream",
     "text": [
      "Epoch 1 Train Summary | Loss: 0.3839 | Acc: 96.637\n"
     ]
    },
    {
     "name": "stderr",
     "output_type": "stream",
     "text": [
      "Validation:   0%|                                        | 0/83 [00:00<?, ?it/s]python3.11(90369) MallocStackLogging: can't turn off malloc stack logging because it was not enabled.\n",
      "python3.11(90377) MallocStackLogging: can't turn off malloc stack logging because it was not enabled.\n",
      "python3.11(90378) MallocStackLogging: can't turn off malloc stack logging because it was not enabled.\n",
      "python3.11(90379) MallocStackLogging: can't turn off malloc stack logging because it was not enabled.\n",
      "                                                                                "
     ]
    },
    {
     "name": "stdout",
     "output_type": "stream",
     "text": [
      "Epoch 1 Val Summary   | Loss: 0.1848 | Acc: 98.576\n",
      "Validation accuracy improved (0.000 -> 98.576). Saving model...\n",
      "Model saved to x_to_c_best_model.pth\n",
      "Current LR: 0.01\n",
      "--- Epoch 2/50 ---\n"
     ]
    },
    {
     "name": "stderr",
     "output_type": "stream",
     "text": [
      "Training:   0%|                                         | 0/330 [00:00<?, ?it/s]python3.11(90436) MallocStackLogging: can't turn off malloc stack logging because it was not enabled.\n",
      "python3.11(90437) MallocStackLogging: can't turn off malloc stack logging because it was not enabled.\n",
      "python3.11(90438) MallocStackLogging: can't turn off malloc stack logging because it was not enabled.\n",
      "python3.11(90439) MallocStackLogging: can't turn off malloc stack logging because it was not enabled.\n",
      "                                                                                "
     ]
    },
    {
     "name": "stdout",
     "output_type": "stream",
     "text": [
      "Epoch 2 Train Summary | Loss: 0.1876 | Acc: 98.435\n"
     ]
    },
    {
     "name": "stderr",
     "output_type": "stream",
     "text": [
      "Validation:   0%|                                        | 0/83 [00:00<?, ?it/s]python3.11(90565) MallocStackLogging: can't turn off malloc stack logging because it was not enabled.\n",
      "python3.11(90566) MallocStackLogging: can't turn off malloc stack logging because it was not enabled.\n",
      "python3.11(90567) MallocStackLogging: can't turn off malloc stack logging because it was not enabled.\n",
      "python3.11(90569) MallocStackLogging: can't turn off malloc stack logging because it was not enabled.\n",
      "                                                                                "
     ]
    },
    {
     "name": "stdout",
     "output_type": "stream",
     "text": [
      "Epoch 2 Val Summary   | Loss: 0.1527 | Acc: 98.770\n",
      "Validation accuracy improved (98.576 -> 98.770). Saving model...\n",
      "Model saved to x_to_c_best_model.pth\n",
      "Current LR: 0.01\n",
      "--- Epoch 3/50 ---\n"
     ]
    },
    {
     "name": "stderr",
     "output_type": "stream",
     "text": [
      "Training:   0%|                                         | 0/330 [00:00<?, ?it/s]python3.11(90584) MallocStackLogging: can't turn off malloc stack logging because it was not enabled.\n",
      "python3.11(90585) MallocStackLogging: can't turn off malloc stack logging because it was not enabled.\n",
      "python3.11(90586) MallocStackLogging: can't turn off malloc stack logging because it was not enabled.\n",
      "python3.11(90587) MallocStackLogging: can't turn off malloc stack logging because it was not enabled.\n",
      "                                                                                "
     ]
    },
    {
     "name": "stdout",
     "output_type": "stream",
     "text": [
      "Epoch 3 Train Summary | Loss: 0.1654 | Acc: 98.533\n"
     ]
    },
    {
     "name": "stderr",
     "output_type": "stream",
     "text": [
      "Validation:   0%|                                        | 0/83 [00:00<?, ?it/s]python3.11(90723) MallocStackLogging: can't turn off malloc stack logging because it was not enabled.\n",
      "python3.11(90724) MallocStackLogging: can't turn off malloc stack logging because it was not enabled.\n",
      "python3.11(90726) MallocStackLogging: can't turn off malloc stack logging because it was not enabled.\n",
      "python3.11(90727) MallocStackLogging: can't turn off malloc stack logging because it was not enabled.\n",
      "                                                                                "
     ]
    },
    {
     "name": "stdout",
     "output_type": "stream",
     "text": [
      "Epoch 3 Val Summary   | Loss: 0.1453 | Acc: 98.808\n",
      "Validation accuracy improved (98.770 -> 98.808). Saving model...\n",
      "Model saved to x_to_c_best_model.pth\n",
      "Current LR: 0.01\n",
      "--- Epoch 4/50 ---\n"
     ]
    },
    {
     "name": "stderr",
     "output_type": "stream",
     "text": [
      "Training:   0%|                                         | 0/330 [00:00<?, ?it/s]python3.11(90754) MallocStackLogging: can't turn off malloc stack logging because it was not enabled.\n",
      "python3.11(90755) MallocStackLogging: can't turn off malloc stack logging because it was not enabled.\n",
      "python3.11(90766) MallocStackLogging: can't turn off malloc stack logging because it was not enabled.\n",
      "python3.11(90769) MallocStackLogging: can't turn off malloc stack logging because it was not enabled.\n",
      "                                                                                "
     ]
    },
    {
     "name": "stdout",
     "output_type": "stream",
     "text": [
      "Epoch 4 Train Summary | Loss: 0.1536 | Acc: 98.618\n"
     ]
    },
    {
     "name": "stderr",
     "output_type": "stream",
     "text": [
      "Validation:   0%|                                        | 0/83 [00:00<?, ?it/s]python3.11(90924) MallocStackLogging: can't turn off malloc stack logging because it was not enabled.\n",
      "python3.11(90925) MallocStackLogging: can't turn off malloc stack logging because it was not enabled.\n",
      "python3.11(90926) MallocStackLogging: can't turn off malloc stack logging because it was not enabled.\n",
      "python3.11(90927) MallocStackLogging: can't turn off malloc stack logging because it was not enabled.\n",
      "                                                                                "
     ]
    },
    {
     "name": "stdout",
     "output_type": "stream",
     "text": [
      "Epoch 4 Val Summary   | Loss: 0.1373 | Acc: 98.851\n",
      "Validation accuracy improved (98.808 -> 98.851). Saving model...\n",
      "Model saved to x_to_c_best_model.pth\n",
      "Current LR: 0.01\n",
      "--- Epoch 5/50 ---\n"
     ]
    },
    {
     "name": "stderr",
     "output_type": "stream",
     "text": [
      "Training:   0%|                                         | 0/330 [00:00<?, ?it/s]python3.11(90962) MallocStackLogging: can't turn off malloc stack logging because it was not enabled.\n",
      "python3.11(90964) MallocStackLogging: can't turn off malloc stack logging because it was not enabled.\n",
      "python3.11(90965) MallocStackLogging: can't turn off malloc stack logging because it was not enabled.\n",
      "python3.11(90966) MallocStackLogging: can't turn off malloc stack logging because it was not enabled.\n",
      "                                                                                "
     ]
    },
    {
     "name": "stdout",
     "output_type": "stream",
     "text": [
      "Epoch 5 Train Summary | Loss: 0.1474 | Acc: 98.685\n"
     ]
    },
    {
     "name": "stderr",
     "output_type": "stream",
     "text": [
      "Validation:   0%|                                        | 0/83 [00:00<?, ?it/s]python3.11(91023) MallocStackLogging: can't turn off malloc stack logging because it was not enabled.\n",
      "python3.11(91024) MallocStackLogging: can't turn off malloc stack logging because it was not enabled.\n",
      "python3.11(91025) MallocStackLogging: can't turn off malloc stack logging because it was not enabled.\n",
      "python3.11(91027) MallocStackLogging: can't turn off malloc stack logging because it was not enabled.\n",
      "                                                                                "
     ]
    },
    {
     "name": "stdout",
     "output_type": "stream",
     "text": [
      "Epoch 5 Val Summary   | Loss: 0.1328 | Acc: 98.848\n",
      "Current LR: 0.01\n",
      "--- Epoch 6/50 ---\n"
     ]
    },
    {
     "name": "stderr",
     "output_type": "stream",
     "text": [
      "Training:   0%|                                         | 0/330 [00:00<?, ?it/s]python3.11(91038) MallocStackLogging: can't turn off malloc stack logging because it was not enabled.\n",
      "python3.11(91039) MallocStackLogging: can't turn off malloc stack logging because it was not enabled.\n",
      "python3.11(91040) MallocStackLogging: can't turn off malloc stack logging because it was not enabled.\n",
      "python3.11(91041) MallocStackLogging: can't turn off malloc stack logging because it was not enabled.\n",
      "                                                                                "
     ]
    },
    {
     "name": "stdout",
     "output_type": "stream",
     "text": [
      "Epoch 6 Train Summary | Loss: 0.1428 | Acc: 98.684\n"
     ]
    },
    {
     "name": "stderr",
     "output_type": "stream",
     "text": [
      "Validation:   0%|                                        | 0/83 [00:00<?, ?it/s]python3.11(91090) MallocStackLogging: can't turn off malloc stack logging because it was not enabled.\n",
      "python3.11(91091) MallocStackLogging: can't turn off malloc stack logging because it was not enabled.\n",
      "python3.11(91092) MallocStackLogging: can't turn off malloc stack logging because it was not enabled.\n",
      "python3.11(91094) MallocStackLogging: can't turn off malloc stack logging because it was not enabled.\n",
      "                                                                                "
     ]
    },
    {
     "name": "stdout",
     "output_type": "stream",
     "text": [
      "Epoch 6 Val Summary   | Loss: 0.1309 | Acc: 98.896\n",
      "Validation accuracy improved (98.851 -> 98.896). Saving model...\n",
      "Model saved to x_to_c_best_model.pth\n",
      "Current LR: 0.01\n",
      "--- Epoch 7/50 ---\n"
     ]
    },
    {
     "name": "stderr",
     "output_type": "stream",
     "text": [
      "Training:   0%|                                         | 0/330 [00:00<?, ?it/s]python3.11(91097) MallocStackLogging: can't turn off malloc stack logging because it was not enabled.\n",
      "python3.11(91098) MallocStackLogging: can't turn off malloc stack logging because it was not enabled.\n",
      "python3.11(91100) MallocStackLogging: can't turn off malloc stack logging because it was not enabled.\n",
      "python3.11(91101) MallocStackLogging: can't turn off malloc stack logging because it was not enabled.\n",
      "                                                                                "
     ]
    },
    {
     "name": "stdout",
     "output_type": "stream",
     "text": [
      "Epoch 7 Train Summary | Loss: 0.1360 | Acc: 98.731\n"
     ]
    },
    {
     "name": "stderr",
     "output_type": "stream",
     "text": [
      "Validation:   0%|                                        | 0/83 [00:00<?, ?it/s]python3.11(91151) MallocStackLogging: can't turn off malloc stack logging because it was not enabled.\n",
      "python3.11(91152) MallocStackLogging: can't turn off malloc stack logging because it was not enabled.\n",
      "python3.11(91153) MallocStackLogging: can't turn off malloc stack logging because it was not enabled.\n",
      "python3.11(91154) MallocStackLogging: can't turn off malloc stack logging because it was not enabled.\n",
      "                                                                                "
     ]
    },
    {
     "name": "stdout",
     "output_type": "stream",
     "text": [
      "Epoch 7 Val Summary   | Loss: 0.1289 | Acc: 98.899\n",
      "Validation accuracy improved (98.896 -> 98.899). Saving model...\n",
      "Model saved to x_to_c_best_model.pth\n",
      "Current LR: 0.01\n",
      "--- Epoch 8/50 ---\n"
     ]
    },
    {
     "name": "stderr",
     "output_type": "stream",
     "text": [
      "Training:   0%|                                         | 0/330 [00:00<?, ?it/s]python3.11(91165) MallocStackLogging: can't turn off malloc stack logging because it was not enabled.\n",
      "python3.11(91166) MallocStackLogging: can't turn off malloc stack logging because it was not enabled.\n",
      "python3.11(91167) MallocStackLogging: can't turn off malloc stack logging because it was not enabled.\n",
      "python3.11(91168) MallocStackLogging: can't turn off malloc stack logging because it was not enabled.\n",
      "                                                                                "
     ]
    },
    {
     "name": "stdout",
     "output_type": "stream",
     "text": [
      "Epoch 8 Train Summary | Loss: 0.1326 | Acc: 98.759\n"
     ]
    },
    {
     "name": "stderr",
     "output_type": "stream",
     "text": [
      "Validation:   0%|                                        | 0/83 [00:00<?, ?it/s]python3.11(91227) MallocStackLogging: can't turn off malloc stack logging because it was not enabled.\n",
      "python3.11(91228) MallocStackLogging: can't turn off malloc stack logging because it was not enabled.\n",
      "python3.11(91229) MallocStackLogging: can't turn off malloc stack logging because it was not enabled.\n",
      "python3.11(91230) MallocStackLogging: can't turn off malloc stack logging because it was not enabled.\n",
      "                                                                                "
     ]
    },
    {
     "name": "stdout",
     "output_type": "stream",
     "text": [
      "Epoch 8 Val Summary   | Loss: 0.1279 | Acc: 98.924\n",
      "Validation accuracy improved (98.899 -> 98.924). Saving model...\n",
      "Model saved to x_to_c_best_model.pth\n",
      "Current LR: 0.01\n",
      "--- Epoch 9/50 ---\n"
     ]
    },
    {
     "name": "stderr",
     "output_type": "stream",
     "text": [
      "Training:   0%|                                         | 0/330 [00:00<?, ?it/s]python3.11(91235) MallocStackLogging: can't turn off malloc stack logging because it was not enabled.\n",
      "python3.11(91236) MallocStackLogging: can't turn off malloc stack logging because it was not enabled.\n",
      "python3.11(91237) MallocStackLogging: can't turn off malloc stack logging because it was not enabled.\n",
      "python3.11(91238) MallocStackLogging: can't turn off malloc stack logging because it was not enabled.\n",
      "                                                                                "
     ]
    },
    {
     "name": "stdout",
     "output_type": "stream",
     "text": [
      "Epoch 9 Train Summary | Loss: 0.1324 | Acc: 98.736\n"
     ]
    },
    {
     "name": "stderr",
     "output_type": "stream",
     "text": [
      "Validation:   0%|                                        | 0/83 [00:00<?, ?it/s]python3.11(91293) MallocStackLogging: can't turn off malloc stack logging because it was not enabled.\n",
      "python3.11(91294) MallocStackLogging: can't turn off malloc stack logging because it was not enabled.\n",
      "python3.11(91295) MallocStackLogging: can't turn off malloc stack logging because it was not enabled.\n",
      "python3.11(91296) MallocStackLogging: can't turn off malloc stack logging because it was not enabled.\n",
      "                                                                                "
     ]
    },
    {
     "name": "stdout",
     "output_type": "stream",
     "text": [
      "Epoch 9 Val Summary   | Loss: 0.1257 | Acc: 98.910\n",
      "Current LR: 0.01\n",
      "--- Epoch 10/50 ---\n"
     ]
    },
    {
     "name": "stderr",
     "output_type": "stream",
     "text": [
      "Training:   0%|                                         | 0/330 [00:00<?, ?it/s]python3.11(91314) MallocStackLogging: can't turn off malloc stack logging because it was not enabled.\n",
      "python3.11(91316) MallocStackLogging: can't turn off malloc stack logging because it was not enabled.\n",
      "python3.11(91318) MallocStackLogging: can't turn off malloc stack logging because it was not enabled.\n",
      "python3.11(91319) MallocStackLogging: can't turn off malloc stack logging because it was not enabled.\n",
      "                                                                                "
     ]
    },
    {
     "name": "stdout",
     "output_type": "stream",
     "text": [
      "Epoch 10 Train Summary | Loss: 0.1298 | Acc: 98.788\n"
     ]
    },
    {
     "name": "stderr",
     "output_type": "stream",
     "text": [
      "Validation:   0%|                                        | 0/83 [00:00<?, ?it/s]python3.11(91525) MallocStackLogging: can't turn off malloc stack logging because it was not enabled.\n",
      "python3.11(91532) MallocStackLogging: can't turn off malloc stack logging because it was not enabled.\n",
      "python3.11(91533) MallocStackLogging: can't turn off malloc stack logging because it was not enabled.\n",
      "python3.11(91535) MallocStackLogging: can't turn off malloc stack logging because it was not enabled.\n",
      "                                                                                "
     ]
    },
    {
     "name": "stdout",
     "output_type": "stream",
     "text": [
      "Epoch 10 Val Summary   | Loss: 0.1244 | Acc: 98.936\n",
      "Validation accuracy improved (98.924 -> 98.936). Saving model...\n",
      "Model saved to x_to_c_best_model.pth\n",
      "Current LR: 0.01\n",
      "--- Epoch 11/50 ---\n"
     ]
    },
    {
     "name": "stderr",
     "output_type": "stream",
     "text": [
      "Training:   0%|                                         | 0/330 [00:00<?, ?it/s]python3.11(91584) MallocStackLogging: can't turn off malloc stack logging because it was not enabled.\n",
      "python3.11(91585) MallocStackLogging: can't turn off malloc stack logging because it was not enabled.\n",
      "python3.11(91586) MallocStackLogging: can't turn off malloc stack logging because it was not enabled.\n",
      "python3.11(91587) MallocStackLogging: can't turn off malloc stack logging because it was not enabled.\n",
      "                                                                                "
     ]
    },
    {
     "name": "stdout",
     "output_type": "stream",
     "text": [
      "Epoch 11 Train Summary | Loss: 0.1283 | Acc: 98.758\n"
     ]
    },
    {
     "name": "stderr",
     "output_type": "stream",
     "text": [
      "Validation:   0%|                                        | 0/83 [00:00<?, ?it/s]python3.11(91716) MallocStackLogging: can't turn off malloc stack logging because it was not enabled.\n",
      "python3.11(91717) MallocStackLogging: can't turn off malloc stack logging because it was not enabled.\n",
      "python3.11(91718) MallocStackLogging: can't turn off malloc stack logging because it was not enabled.\n",
      "python3.11(91719) MallocStackLogging: can't turn off malloc stack logging because it was not enabled.\n",
      "                                                                                "
     ]
    },
    {
     "name": "stdout",
     "output_type": "stream",
     "text": [
      "Epoch 11 Val Summary   | Loss: 0.1260 | Acc: 98.926\n",
      "Current LR: 0.01\n",
      "--- Epoch 12/50 ---\n"
     ]
    },
    {
     "name": "stderr",
     "output_type": "stream",
     "text": [
      "Training:   0%|                                         | 0/330 [00:00<?, ?it/s]python3.11(91761) MallocStackLogging: can't turn off malloc stack logging because it was not enabled.\n",
      "python3.11(91771) MallocStackLogging: can't turn off malloc stack logging because it was not enabled.\n",
      "python3.11(91772) MallocStackLogging: can't turn off malloc stack logging because it was not enabled.\n",
      "python3.11(91773) MallocStackLogging: can't turn off malloc stack logging because it was not enabled.\n",
      "                                                                                "
     ]
    },
    {
     "name": "stdout",
     "output_type": "stream",
     "text": [
      "Epoch 12 Train Summary | Loss: 0.1244 | Acc: 98.820\n"
     ]
    },
    {
     "name": "stderr",
     "output_type": "stream",
     "text": [
      "Validation:   0%|                                        | 0/83 [00:00<?, ?it/s]python3.11(92100) MallocStackLogging: can't turn off malloc stack logging because it was not enabled.\n",
      "python3.11(92105) MallocStackLogging: can't turn off malloc stack logging because it was not enabled.\n",
      "python3.11(92108) MallocStackLogging: can't turn off malloc stack logging because it was not enabled.\n",
      "python3.11(92109) MallocStackLogging: can't turn off malloc stack logging because it was not enabled.\n",
      "                                                                                "
     ]
    },
    {
     "name": "stdout",
     "output_type": "stream",
     "text": [
      "Epoch 12 Val Summary   | Loss: 0.1253 | Acc: 98.928\n",
      "Current LR: 0.01\n",
      "--- Epoch 13/50 ---\n"
     ]
    },
    {
     "name": "stderr",
     "output_type": "stream",
     "text": [
      "Training:   0%|                                         | 0/330 [00:00<?, ?it/s]python3.11(92158) MallocStackLogging: can't turn off malloc stack logging because it was not enabled.\n",
      "python3.11(92159) MallocStackLogging: can't turn off malloc stack logging because it was not enabled.\n",
      "python3.11(92160) MallocStackLogging: can't turn off malloc stack logging because it was not enabled.\n",
      "python3.11(92161) MallocStackLogging: can't turn off malloc stack logging because it was not enabled.\n",
      "                                                                                "
     ]
    },
    {
     "ename": "KeyboardInterrupt",
     "evalue": "",
     "output_type": "error",
     "traceback": [
      "\u001b[31m---------------------------------------------------------------------------\u001b[39m",
      "\u001b[31mKeyboardInterrupt\u001b[39m                         Traceback (most recent call last)",
      "\u001b[36mCell\u001b[39m\u001b[36m \u001b[39m\u001b[32mIn[10]\u001b[39m\u001b[32m, line 5\u001b[39m\n\u001b[32m      2\u001b[39m \u001b[38;5;28mprint\u001b[39m(\u001b[33mf\u001b[39m\u001b[33m\"\u001b[39m\u001b[33m--- Epoch \u001b[39m\u001b[38;5;132;01m{\u001b[39;00mepoch+\u001b[32m1\u001b[39m\u001b[38;5;132;01m}\u001b[39;00m\u001b[33m/\u001b[39m\u001b[38;5;132;01m{\u001b[39;00mepochs\u001b[38;5;132;01m}\u001b[39;00m\u001b[33m ---\u001b[39m\u001b[33m\"\u001b[39m)\n\u001b[32m      4\u001b[39m \u001b[38;5;66;03m# Train\u001b[39;00m\n\u001b[32m----> \u001b[39m\u001b[32m5\u001b[39m train_loss, train_acc = \u001b[43mrun_epoch_x_to_c\u001b[49m\u001b[43m(\u001b[49m\u001b[43mmodel\u001b[49m\u001b[43m,\u001b[49m\u001b[43m \u001b[49m\u001b[43mtrain_loader\u001b[49m\u001b[43m,\u001b[49m\u001b[43m \u001b[49m\u001b[43mattr_criterion\u001b[49m\u001b[43m,\u001b[49m\u001b[43m \u001b[49m\u001b[43moptimizer\u001b[49m\u001b[43m,\u001b[49m\u001b[43m \u001b[49m\u001b[43mis_training\u001b[49m\u001b[43m=\u001b[49m\u001b[38;5;28;43;01mTrue\u001b[39;49;00m\u001b[43m,\u001b[49m\u001b[43m \u001b[49m\u001b[43muse_aux\u001b[49m\u001b[43m=\u001b[49m\u001b[38;5;28;43;01mTrue\u001b[39;49;00m\u001b[43m,\u001b[49m\u001b[43m \u001b[49m\u001b[43mn_concepts\u001b[49m\u001b[43m=\u001b[49m\u001b[43mN_TRIMMED_CONCEPTS\u001b[49m\u001b[43m,\u001b[49m\u001b[43m \u001b[49m\u001b[43mdevice\u001b[49m\u001b[43m=\u001b[49m\u001b[43mdevice\u001b[49m\u001b[43m,\u001b[49m\u001b[43m \u001b[49m\u001b[43mverbose\u001b[49m\u001b[43m=\u001b[49m\u001b[38;5;28;43;01mTrue\u001b[39;49;00m\u001b[43m)\u001b[49m\n\u001b[32m      6\u001b[39m \u001b[38;5;28mprint\u001b[39m(\u001b[33mf\u001b[39m\u001b[33m'\u001b[39m\u001b[33mEpoch \u001b[39m\u001b[38;5;132;01m{\u001b[39;00mepoch+\u001b[32m1\u001b[39m\u001b[38;5;132;01m}\u001b[39;00m\u001b[33m Train Summary | Loss: \u001b[39m\u001b[38;5;132;01m{\u001b[39;00mtrain_loss\u001b[38;5;132;01m:\u001b[39;00m\u001b[33m.4f\u001b[39m\u001b[38;5;132;01m}\u001b[39;00m\u001b[33m | Acc: \u001b[39m\u001b[38;5;132;01m{\u001b[39;00mtrain_acc\u001b[38;5;132;01m:\u001b[39;00m\u001b[33m.3f\u001b[39m\u001b[38;5;132;01m}\u001b[39;00m\u001b[33m'\u001b[39m)\n\u001b[32m      8\u001b[39m \u001b[38;5;66;03m# Validate\u001b[39;00m\n",
      "\u001b[36mFile \u001b[39m\u001b[32m~/Documents/career/lab_ujm/hybrid-cbm-prototype-model/src/training/phase_1_training.py:89\u001b[39m, in \u001b[36mrun_epoch_x_to_c\u001b[39m\u001b[34m(model, loader, criterion_list, optimizer, n_concepts, is_training, use_aux, device, verbose, return_outputs)\u001b[39m\n\u001b[32m     87\u001b[39m \u001b[38;5;28;01mif\u001b[39;00m return_outputs==\u001b[33m'\u001b[39m\u001b[33msigmoid\u001b[39m\u001b[33m'\u001b[39m:\n\u001b[32m     88\u001b[39m     outputs.append(sigmoid_outputs)\n\u001b[32m---> \u001b[39m\u001b[32m89\u001b[39m acc = \u001b[43mbinary_accuracy\u001b[49m\u001b[43m(\u001b[49m\u001b[43msigmoid_outputs\u001b[49m\u001b[43m,\u001b[49m\u001b[43m \u001b[49m\u001b[43mconcept_labels\u001b[49m\u001b[43m.\u001b[49m\u001b[43mint\u001b[49m\u001b[43m(\u001b[49m\u001b[43m)\u001b[49m\u001b[43m)\u001b[49m\n\u001b[32m     91\u001b[39m \u001b[38;5;66;03m# Update meters\u001b[39;00m\n\u001b[32m     92\u001b[39m loss_meter.update(avg_batch_loss.item(), inputs.size(\u001b[32m0\u001b[39m))\n",
      "\u001b[36mFile \u001b[39m\u001b[32m~/Documents/career/lab_ujm/hybrid-cbm-prototype-model/src/utils/metrics.py:39\u001b[39m, in \u001b[36mbinary_accuracy\u001b[39m\u001b[34m(output, target)\u001b[39m\n\u001b[32m     37\u001b[39m \u001b[38;5;66;03m# Compare predictions with ground truth\u001b[39;00m\n\u001b[32m     38\u001b[39m correct = pred.eq(target_int)\n\u001b[32m---> \u001b[39m\u001b[32m39\u001b[39m correct_sum = \u001b[43mcorrect\u001b[49m\u001b[43m.\u001b[49m\u001b[43msum\u001b[49m\u001b[43m(\u001b[49m\u001b[43m)\u001b[49m\u001b[43m.\u001b[49m\u001b[43mitem\u001b[49m\u001b[43m(\u001b[49m\u001b[43m)\u001b[49m \u001b[38;5;66;03m# .item() convert tensor -> number\u001b[39;00m\n\u001b[32m     41\u001b[39m num_elements = target.numel() \u001b[38;5;66;03m# Total number of predictions\u001b[39;00m\n\u001b[32m     43\u001b[39m \u001b[38;5;66;03m# Calculate accuracy\u001b[39;00m\n",
      "\u001b[31mKeyboardInterrupt\u001b[39m: "
     ]
    }
   ],
   "source": [
    "for epoch in range(epochs):\n",
    "    print(f\"--- Epoch {epoch+1}/{epochs} ---\")\n",
    "\n",
    "    # Train\n",
    "    train_loss, train_acc = run_epoch_x_to_c(model, train_loader, attr_criterion, optimizer, is_training=True, use_aux=True, n_concepts=N_TRIMMED_CONCEPTS, device=device, verbose=True)\n",
    "    print(f'Epoch {epoch+1} Train Summary | Loss: {train_loss:.4f} | Acc: {train_acc:.3f}')\n",
    "\n",
    "    # Validate\n",
    "    if test_loader:\n",
    "        with torch.no_grad():\n",
    "            val_loss, val_acc = run_epoch_x_to_c(model, test_loader, attr_criterion, optimizer, n_concepts=N_TRIMMED_CONCEPTS, device=device, verbose=True)\n",
    "\n",
    "        print(f'Epoch {epoch+1} Val Summary   | Loss: {val_loss:.4f} | Acc: {val_acc:.3f}')\n",
    "\n",
    "        # Save best model based on validation accuracy\n",
    "        if val_acc > best_val_acc:\n",
    "            print(f\"Validation accuracy improved ({best_val_acc:.3f} -> {val_acc:.3f}). Saving model...\")\n",
    "            best_val_acc = val_acc\n",
    "            torch.save(model, 'x_to_c_best_model.pth')\n",
    "            print(\"Model saved to x_to_c_best_model.pth\")\n",
    "\n",
    "    # Scheduler step\n",
    "    scheduler.step()\n",
    "    print(f\"Current LR: {optimizer.param_groups[0]['lr']}\")"
   ]
  },
  {
   "cell_type": "code",
   "execution_count": null,
   "id": "28684261-09da-40ca-bf12-a13f99b29d04",
   "metadata": {},
   "outputs": [],
   "source": [
    "if test_loader:\n",
    "    with torch.no_grad():\n",
    "\n",
    "        test_loss, test_acc, outputs = run_epoch_x_to_c(\n",
    "            model, test_loader, attr_criterion, optimizer=None, n_concepts=N_TRIMMED_CONCEPTS, device=device,\n",
    "            return_outputs='sigmoid', verbose=True\n",
    "        )\n",
    "\n",
    "# print(f\"Shuffled labels shape: {shuffled_img_labels.shape}\")\n",
    "print(f'Best Model Summary   | Loss: {test_loss:.4f} | Acc: {test_acc:.3f}')"
   ]
  }
 ],
 "metadata": {
  "kernelspec": {
   "display_name": "Python 3",
   "language": "python",
   "name": "python3"
  },
  "language_info": {
   "codemirror_mode": {
    "name": "ipython",
    "version": 3
   },
   "file_extension": ".py",
   "mimetype": "text/x-python",
   "name": "python",
   "nbconvert_exporter": "python",
   "pygments_lexer": "ipython3",
   "version": "3.11.9"
  }
 },
 "nbformat": 4,
 "nbformat_minor": 5
}
