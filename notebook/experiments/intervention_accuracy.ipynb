{
 "cells": [
  {
   "cell_type": "code",
   "execution_count": 133,
   "id": "01c94f31",
   "metadata": {},
   "outputs": [],
   "source": [
    "datasets = ['CUB', 'Derm7pt', 'RIVAL10']\n",
    "use_dataset = datasets[2]"
   ]
  },
  {
   "cell_type": "code",
   "execution_count": 134,
   "id": "3bea6c59",
   "metadata": {},
   "outputs": [],
   "source": [
    "import os\n",
    "import sys\n",
    "import torch\n",
    "import joblib\n",
    "\n",
    "notebook_dir = os.getcwd()\n",
    "project_root_path = os.path.dirname(notebook_dir)\n",
    "sys.path.insert(0, project_root_path)\n",
    "\n",
    "from src.config import PROJECT_ROOT, CUB_CONFIG, DERM7PT_CONFIG, RIVAL10_CONFIG  # noqa: E402\n",
    "import numpy as np  # noqa: E402\n",
    "import matplotlib.pyplot as plt  # noqa: E402"
   ]
  },
  {
   "cell_type": "code",
   "execution_count": 135,
   "id": "7845c267",
   "metadata": {},
   "outputs": [],
   "source": [
    "if use_dataset == 'CUB':\n",
    "    config_dict = CUB_CONFIG\n",
    "    DATASET_PATH =  os.path.join(PROJECT_ROOT, 'output', 'intervention', 'CUB')\n",
    "elif use_dataset == 'Derm7pt':\n",
    "    config_dict = DERM7PT_CONFIG\n",
    "    DATASET_PATH =  os.path.join(PROJECT_ROOT, 'output', 'intervention', 'Derm7pt')\n",
    "else:\n",
    "    config_dict = RIVAL10_CONFIG\n",
    "    DATASET_PATH =  os.path.join(PROJECT_ROOT, 'output', 'intervention', 'RIVAL10')"
   ]
  },
  {
   "cell_type": "code",
   "execution_count": 136,
   "id": "600faac0",
   "metadata": {},
   "outputs": [],
   "source": [
    "num_concepts = config_dict['N_TRIMMED_CONCEPTS']\n",
    "num_classes = config_dict['N_CLASSES']"
   ]
  },
  {
   "cell_type": "code",
   "execution_count": 137,
   "id": "3810908f",
   "metadata": {},
   "outputs": [
    {
     "name": "stdout",
     "output_type": "stream",
     "text": [
      "Using device: mps\n"
     ]
    }
   ],
   "source": [
    "device = torch.device(\"cuda\" if torch.cuda.is_available()\n",
    "                    else \"mps\" if torch.backends.mps.is_available()\n",
    "                    else \"cpu\")\n",
    "print(f\"Using device: {device}\")"
   ]
  },
  {
   "cell_type": "markdown",
   "id": "9dd1d270",
   "metadata": {},
   "source": [
    "# Load and Transform Data"
   ]
  },
  {
   "cell_type": "code",
   "execution_count": 138,
   "id": "d572ec27",
   "metadata": {},
   "outputs": [],
   "source": [
    "# Load data for linear model\n",
    "lin_C_hat = np.load(os.path.join(DATASET_PATH, 'C_hat_linear.npy'))\n",
    "lin_Y = np.load(os.path.join(DATASET_PATH, 'Y_linear.npy'))\n",
    "lin_model = joblib.load(os.path.join(DATASET_PATH, 'lin_model.joblib'))\n",
    "\n",
    "# Load data for CLC model\n",
    "clc_C_hat = torch.load(os.path.join(DATASET_PATH, 'C_hat_clc.npy'))\n",
    "clc_Y = torch.load(os.path.join(DATASET_PATH, 'Y_clc.npy'))\n",
    "clc_model = torch.load(os.path.join(DATASET_PATH, 'clc_model.pth'),\n",
    "                    weights_only=False, map_location=device)\n",
    "\n",
    "# # Load class-level concepts\n",
    "# class_level_concepts_path = os.path.join(PROJECT_ROOT, 'output', use_dataset, 'class_level_concepts.npy')\n",
    "# class_level_concepts = np.load(class_level_concepts_path)"
   ]
  },
  {
   "cell_type": "code",
   "execution_count": 139,
   "id": "247e080c",
   "metadata": {},
   "outputs": [],
   "source": [
    "# # Generate class-level concept values for each instance\n",
    "# clc_l_concept_values = []\n",
    "# for y in clc_Y:\n",
    "#     clc_l_concept_values.append(class_level_concepts[y])\n",
    "\n",
    "# clc_l_concept_values = np.array(clc_l_concept_values)\n",
    "# clc_l_concept_values = torch.tensor(clc_l_concept_values, device=device, dtype=torch.float32)"
   ]
  },
  {
   "cell_type": "code",
   "execution_count": 140,
   "id": "d51027e3",
   "metadata": {},
   "outputs": [
    {
     "name": "stdout",
     "output_type": "stream",
     "text": [
      "Linear model accuracy: 0.0000\n",
      "CLC model accuracy: 0.0000\n"
     ]
    }
   ],
   "source": [
    "# Check initial model accuracy\n",
    "print(f\"Linear model accuracy: {lin_model.score(lin_C_hat, lin_Y):.4f}\")\n",
    "\n",
    "with torch.no_grad():\n",
    "    clc_Y_pred = clc_model.predict(clc_C_hat)\n",
    "    clc_accuracy = (clc_Y_pred == clc_Y).sum().item()/len(clc_Y_pred)\n",
    "    print(f\"CLC model accuracy: {clc_accuracy:.4f}\")"
   ]
  },
  {
   "cell_type": "markdown",
   "id": "4b6d7d08",
   "metadata": {},
   "source": [
    "# Intervention Utilities"
   ]
  },
  {
   "cell_type": "code",
   "execution_count": 141,
   "id": "98e8177e",
   "metadata": {},
   "outputs": [],
   "source": [
    "def compute_intervention_matrices_gain(model, C_hat, Y_test):\n",
    "    model_weights = model.coef_\n",
    "\n",
    "    concept_gain_rankings = np.zeros_like(C_hat)\n",
    "    expected_values = np.zeros_like(C_hat)\n",
    "\n",
    "    for instance_idx, concept_vector in enumerate(C_hat):\n",
    "        true_label = Y_test[instance_idx]\n",
    "        class_weights = model_weights[true_label]\n",
    "        concept_gains = np.zeros(len(class_weights))\n",
    "        instance_expected_vals = np.zeros(len(class_weights))\n",
    "\n",
    "        for concept_idx, concept_weight in enumerate(class_weights):\n",
    "            # Binary value based on concept weight direction\n",
    "            expected_concept_value = 1 if concept_weight > 0 else 0\n",
    "            instance_expected_vals[concept_idx] = expected_concept_value\n",
    "\n",
    "            # Calculate gain by comparing expected vs pred label, scaled by weight\n",
    "            concept_gains[concept_idx] = ((expected_concept_value - concept_vector[concept_idx]) * concept_weight)\n",
    "\n",
    "        expected_values[instance_idx] = instance_expected_vals\n",
    "        concept_gain_rankings[instance_idx] = (concept_gains)\n",
    "\n",
    "    concept_indices_by_gain = np.argsort(concept_gain_rankings, axis=1)[:, ::-1]\n",
    "\n",
    "    return concept_indices_by_gain, expected_values"
   ]
  },
  {
   "cell_type": "code",
   "execution_count": 142,
   "id": "e1c3165b",
   "metadata": {},
   "outputs": [],
   "source": [
    "def compute_intervention_matrices_weight(model, C_hat, Y_test):\n",
    "    model_weights = model.coef_\n",
    "    weight_matrix = []\n",
    "\n",
    "    for idx in range(len(C_hat)):\n",
    "        instance_label = Y_test[idx]\n",
    "        weight_matrix.append(model_weights[instance_label])\n",
    "\n",
    "    weight_matrix = np.array(weight_matrix)\n",
    "    weight_indices_sorted = np.argsort(np.abs(weight_matrix), axis=1)[:, ::-1]\n",
    "\n",
    "    return weight_indices_sorted"
   ]
  },
  {
   "cell_type": "code",
   "execution_count": 143,
   "id": "c3656208",
   "metadata": {},
   "outputs": [],
   "source": [
    "def compute_prototype_gain_matrices(model, C_hat, Y_true):\n",
    "    prototypes = model.get_binary_prototypes()\n",
    "\n",
    "    gain_matrix = np.zeros((C_hat.shape[0], C_hat.shape[1]))\n",
    "    expected_values = np.zeros((C_hat.shape[0], C_hat.shape[1]))\n",
    "\n",
    "    for instance_idx, concept_vector in enumerate(C_hat):\n",
    "        pred_label = Y_true[instance_idx]\n",
    "        prototype = prototypes[pred_label].cpu().detach().numpy()\n",
    "        gain_vector = np.abs(prototype-concept_vector.cpu().detach().numpy())\n",
    "        gain_matrix[instance_idx] = gain_vector\n",
    "        expected_values[instance_idx] = prototype\n",
    "\n",
    "    concept_indices_by_gain = np.argsort(gain_matrix, axis=1)[:, ::-1]\n",
    "    expected_values = torch.tensor(expected_values, device=device, dtype=torch.float32)\n",
    "\n",
    "    return concept_indices_by_gain, expected_values"
   ]
  },
  {
   "cell_type": "code",
   "execution_count": 144,
   "id": "1370dea1",
   "metadata": {},
   "outputs": [],
   "source": [
    "# def compute_class_level_gain_matrices(C_hat, Y_true, class_level_concepts):\n",
    "#     gain_matrix = np.zeros((C_hat.shape[0], C_hat.shape[1]))\n",
    "\n",
    "#     for instance_idx, concept_vector in enumerate(C_hat):\n",
    "#         pred_label = Y_true[instance_idx]\n",
    "#         clc = class_level_concepts[pred_label]\n",
    "#         gain_vector = np.abs(clc-concept_vector.cpu().detach().numpy())\n",
    "#         gain_matrix[instance_idx] = gain_vector\n",
    "\n",
    "#     concept_indices_by_gain = np.argsort(gain_matrix, axis=1)[:, ::-1]\n",
    "\n",
    "#     return concept_indices_by_gain"
   ]
  },
  {
   "cell_type": "code",
   "execution_count": 145,
   "id": "2dacf645",
   "metadata": {},
   "outputs": [],
   "source": [
    "def run_numpy_intervention(model, C_hat, Y_true, concept_indices_by_gain, expected_values):\n",
    "    C_hat_intervened = C_hat.copy()\n",
    "\n",
    "    # Calculate initial accuracy\n",
    "    initial_predictions = model.predict(C_hat_intervened)\n",
    "    misclassified_mask = (initial_predictions != Y_true)\n",
    "\n",
    "    accuracy = model.score(C_hat_intervened, Y_true)\n",
    "    accuracies = [accuracy]\n",
    "\n",
    "    # Run intervention steps\n",
    "    intervention_step = 0\n",
    "    while np.any(misclassified_mask) and intervention_step < C_hat.shape[1]:\n",
    "        # Get misclassified indices\n",
    "        indices_to_intervene = np.where(misclassified_mask)[0]\n",
    "\n",
    "        if len(indices_to_intervene) == 0:\n",
    "            break\n",
    "\n",
    "        # Select concepts to change based on ranking\n",
    "        concepts_to_change = concept_indices_by_gain[\n",
    "            indices_to_intervene, intervention_step\n",
    "        ]\n",
    "\n",
    "        # Apply intervention\n",
    "        C_hat_intervened[indices_to_intervene, concepts_to_change] = \\\n",
    "            expected_values[indices_to_intervene, concepts_to_change]\n",
    "\n",
    "        # Re-evaluate\n",
    "        current_predictions = model.predict(C_hat_intervened)\n",
    "        misclassified_mask = (current_predictions != Y_true)\n",
    "        accuracy = model.score(C_hat_intervened, Y_true)\n",
    "        accuracies.append(accuracy)\n",
    "\n",
    "        intervention_step += 1\n",
    "\n",
    "    print(f\"Intervention completed after {intervention_step} steps\")\n",
    "    print(f\"Final accuracy: {accuracies[-1]:.4f}\")\n",
    "\n",
    "    return accuracies"
   ]
  },
  {
   "cell_type": "code",
   "execution_count": 146,
   "id": "4bb64c25",
   "metadata": {},
   "outputs": [],
   "source": [
    "# def predict_nearest_class(C_hat, class_level_concepts):\n",
    "#     # Convert to numpy if needed\n",
    "#     if isinstance(C_hat, torch.Tensor):\n",
    "#         C_hat_numpy = C_hat.cpu().detach().numpy()\n",
    "#     else:\n",
    "#         C_hat_numpy = C_hat\n",
    "\n",
    "#     # Calculate differences between each test instance and all class-level concepts\n",
    "#     predicted_classes = []\n",
    "\n",
    "#     for i, test_instance in enumerate(C_hat_numpy):\n",
    "#         # Calculate absolute differences to each class concept\n",
    "#         instance_diffs = np.abs(test_instance - class_level_concepts)\n",
    "\n",
    "#         # Sum the differences along concept dimension to get total deviation for each class\n",
    "#         instance_distances = np.sum(instance_diffs, axis=1)\n",
    "\n",
    "#         # Find which class has the minimum distance\n",
    "#         min_class = np.argmin(instance_distances)\n",
    "#         predicted_classes.append(min_class)\n",
    "\n",
    "#     return np.array(predicted_classes)\n",
    "\n",
    "\n",
    "def run_torch_intervention(model, C_hat, Y_true, concept_indices_by_gain, expected_values, use_clc_d_accuracy=False, class_level_concepts=None):\n",
    "    # Clone data to avoid modifying originals\n",
    "    C_hat_intervened = C_hat.clone().detach()\n",
    "    Y_true_device = Y_true.to(C_hat_intervened.device)\n",
    "    # Y_true_numpy = Y_true_device.cpu().numpy() if use_clc_d_accuracy else None\n",
    "\n",
    "    # Get initial predictions and accuracy\n",
    "    # if use_clc_d_accuracy and class_level_concepts is not None:\n",
    "    #     # CLC-D specific accuracy calculation using nearest neighbor\n",
    "    #     predicted_classes = predict_nearest_class(C_hat_intervened, class_level_concepts)\n",
    "    #     current_accuracy = np.mean(predicted_classes == Y_true_numpy)\n",
    "\n",
    "    #     # Generate mask for intervention\n",
    "    #     misclassified_mask = torch.tensor(\n",
    "    #         predicted_classes != Y_true_numpy,\n",
    "    #         device=C_hat_intervened.device\n",
    "    #     )\n",
    "    # else:\n",
    "    # Standard accuracy calculation\n",
    "    with torch.no_grad():\n",
    "        initial_predictions = model.predict(C_hat_intervened)\n",
    "    misclassified_mask = (initial_predictions != Y_true_device)\n",
    "    current_accuracy = (~misclassified_mask).float().mean().item()\n",
    "\n",
    "\n",
    "    accuracies = [0]\n",
    "\n",
    "    # Run intervention steps\n",
    "    intervention_step = 0\n",
    "    while misclassified_mask.any() and intervention_step < C_hat.shape[1]:\n",
    "        indices_to_intervene = torch.where(misclassified_mask)[0]\n",
    "\n",
    "        if len(indices_to_intervene) == 0:\n",
    "            break\n",
    "\n",
    "        # Select concepts to change\n",
    "        concepts_to_change = concept_indices_by_gain[\n",
    "            indices_to_intervene.cpu().numpy(), intervention_step\n",
    "        ]\n",
    "\n",
    "        # Apply intervention\n",
    "        C_hat_intervened[indices_to_intervene, concepts_to_change] = \\\n",
    "            expected_values[indices_to_intervene, concepts_to_change]\n",
    "\n",
    "        # Re-evaluate with appropriate accuracy calculation\n",
    "        # if use_clc_d_accuracy and class_level_concepts is not None:\n",
    "        #     # CLC-D specific accuracy calculation using nearest neighbor\n",
    "        #     predicted_classes = predict_nearest_class(C_hat_intervened, class_level_concepts)\n",
    "        #     current_accuracy = np.mean(predicted_classes == Y_true_numpy)\n",
    "\n",
    "        #     # Update mask\n",
    "        #     misclassified_mask = torch.tensor(\n",
    "        #         predicted_classes != Y_true_numpy,\n",
    "        #         device=C_hat_intervened.device\n",
    "        #     )\n",
    "        # else:\n",
    "        # Standard accuracy calculation\n",
    "        with torch.no_grad():\n",
    "            current_predictions = model.predict(C_hat_intervened)\n",
    "        misclassified_mask = (current_predictions != Y_true_device)\n",
    "        current_accuracy = (~misclassified_mask).float().mean().item()\n",
    "\n",
    "\n",
    "        accuracies.append(current_accuracy)\n",
    "        intervention_step += 1\n",
    "\n",
    "    print(f\"Intervention completed after {intervention_step} steps\")\n",
    "    print(f\"Final accuracy: {accuracies[-1]:.4f}\")\n",
    "\n",
    "    return accuracies"
   ]
  },
  {
   "cell_type": "code",
   "execution_count": 147,
   "id": "4722b4c8",
   "metadata": {},
   "outputs": [],
   "source": [
    "def plot_intervention_results(model_results_dict, dataset_name):\n",
    "    plt.figure(figsize=(6,6))\n",
    "\n",
    "    line_styles = {\n",
    "        'LR': '-',\n",
    "        'LR-Weight': '-.',\n",
    "        'CLPC': '--',\n",
    "        'CLC-D': '-.'\n",
    "    }\n",
    "\n",
    "    markers = {\n",
    "        'LR': 'o',\n",
    "        'LR-Weight': '^',\n",
    "        'CLPC': 'D',\n",
    "        'CLC-D': '^',\n",
    "    }\n",
    "\n",
    "    # Find the minimum length to ensure consistency\n",
    "    # max_len = max(len(accs) for accs in model_results_dict.values())\n",
    "\n",
    "    # Plot with distinct styles for each model, trimming to min length\n",
    "    for model_name, accuracies in model_results_dict.items():\n",
    "        plt.plot(np.arange(len(accuracies)), accuracies,\n",
    "                label=model_name,\n",
    "                # color=colors.get(model_name, 'black'),\n",
    "                linestyle=line_styles.get(model_name, '-'),\n",
    "                marker=markers.get(model_name, 'o'),\n",
    "                markersize=7,\n",
    "                linewidth=3)\n",
    "\n",
    "    plt.xlabel(\"Number of Concepts Intervened\", fontsize=16)\n",
    "    plt.ylabel(\"Accuracy\", fontsize=16)\n",
    "    # plt.title(f\"Intervention Efficiency - {dataset_name} Dataset\", fontsize=16)\n",
    "    plt.grid(alpha=0.3)\n",
    "\n",
    "    # Adjust x-ticks based on dataset\n",
    "    # if dataset_name == 'Derm7pt':\n",
    "    #     max_len = max(len(accs) for accs in model_results_dict.values())\n",
    "    #     x_ticks = np.arange(0, max_len, 1)\n",
    "    #     plt.xticks(x_ticks, x_ticks.astype(int), fontsize=16)\n",
    "    # elif dataset_name == 'RIVAL10':\n",
    "    #     max_len = max(len(accs) for accs in model_results_dict.values())\n",
    "    #     x_ticks = np.arange(0, max_len)\n",
    "    #     plt.xticks(x_ticks, x_ticks.astype(int), fontsize=16)\n",
    "    # else:\n",
    "    #     plt.xticks(fontsize=16)\n",
    "\n",
    "    plt.yticks(fontsize=16)\n",
    "\n",
    "    plt.legend(fontsize=16, loc='lower right')\n",
    "    plt.tight_layout()\n",
    "\n",
    "    output_dir = os.path.join(PROJECT_ROOT, 'output', 'plots', 'intervention')\n",
    "    os.makedirs(output_dir, exist_ok=True)\n",
    "    plt.savefig(os.path.join(output_dir, f'{use_dataset}.png'), dpi=600, bbox_inches='tight')\n",
    "    plt.show()"
   ]
  },
  {
   "cell_type": "markdown",
   "id": "581620ea",
   "metadata": {},
   "source": [
    "# Model 1: Logistic Regression Intervention"
   ]
  },
  {
   "cell_type": "code",
   "execution_count": 148,
   "id": "d9d0d581",
   "metadata": {},
   "outputs": [
    {
     "name": "stdout",
     "output_type": "stream",
     "text": [
      "Intervention completed after 3 steps\n",
      "Final accuracy: 1.0000\n",
      "Intervention completed after 8 steps\n",
      "Final accuracy: 1.0000\n"
     ]
    }
   ],
   "source": [
    "# Calculate gain matrices for logistic regression\n",
    "lr_concept_indices_by_gain, lr_expected_values = compute_intervention_matrices_gain(\n",
    "    lin_model, lin_C_hat, lin_Y\n",
    ")\n",
    "\n",
    "# Run logistic regression intervention\n",
    "lr_1_accuracies = run_numpy_intervention(\n",
    "    lin_model, lin_C_hat, lin_Y,\n",
    "    lr_concept_indices_by_gain, lr_expected_values\n",
    ")\n",
    "\n",
    "\n",
    "lr_concept_indices_by_weight = compute_intervention_matrices_weight(\n",
    "    lin_model, lin_C_hat, lin_Y\n",
    ")\n",
    "\n",
    "lr_2_accuracies = run_numpy_intervention(\n",
    "    lin_model, lin_C_hat, lin_Y,\n",
    "    lr_concept_indices_by_weight, lr_expected_values\n",
    ")"
   ]
  },
  {
   "cell_type": "code",
   "execution_count": 149,
   "id": "2b71c2cd",
   "metadata": {},
   "outputs": [
    {
     "data": {
      "text/plain": [
       "(44, 18)"
      ]
     },
     "execution_count": 149,
     "metadata": {},
     "output_type": "execute_result"
    }
   ],
   "source": [
    "(lr_concept_indices_by_weight.shape)"
   ]
  },
  {
   "cell_type": "markdown",
   "id": "4f30eee7",
   "metadata": {},
   "source": [
    "# Model 2: CLC-L (Prototype) Intervention"
   ]
  },
  {
   "cell_type": "code",
   "execution_count": 150,
   "id": "d9f0d85e",
   "metadata": {},
   "outputs": [
    {
     "name": "stdout",
     "output_type": "stream",
     "text": [
      "Intervention completed after 4 steps\n",
      "Final accuracy: 1.0000\n"
     ]
    }
   ],
   "source": [
    "# Calculate gain matrices for prototype model\n",
    "proto_concept_indices_by_gain, proto_expected_values = compute_prototype_gain_matrices(\n",
    "    clc_model, clc_C_hat, clc_Y\n",
    ")\n",
    "\n",
    "# Run prototype model intervention\n",
    "proto_accuracies = run_torch_intervention(\n",
    "    clc_model, clc_C_hat, clc_Y,\n",
    "    proto_concept_indices_by_gain, proto_expected_values\n",
    ")"
   ]
  },
  {
   "cell_type": "markdown",
   "id": "7a44dbb0",
   "metadata": {},
   "source": [
    "# Model 3: CLC-D Intervention"
   ]
  },
  {
   "cell_type": "code",
   "execution_count": 151,
   "id": "a2953f8d",
   "metadata": {},
   "outputs": [],
   "source": [
    "# # Calculate gain matrices for CLC-D (class-level concepts)\n",
    "# clc_d_concept_indices_by_gain = compute_class_level_gain_matrices(\n",
    "#     clc_C_hat, clc_Y, class_level_concepts\n",
    "# )\n",
    "\n",
    "# # Run CLC-D intervention with special accuracy calculation\n",
    "# clc_d_accuracies = run_torch_intervention(\n",
    "#     clc_model, clc_C_hat, clc_Y,\n",
    "#     clc_d_concept_indices_by_gain, clc_l_concept_values,\n",
    "#     use_clc_d_accuracy=True, class_level_concepts=class_level_concepts\n",
    "# )"
   ]
  },
  {
   "cell_type": "markdown",
   "id": "c8e1665a",
   "metadata": {},
   "source": [
    "# Visualization of Results"
   ]
  },
  {
   "cell_type": "code",
   "execution_count": 152,
   "id": "27e0a779",
   "metadata": {},
   "outputs": [
    {
     "data": {
      "image/png": "[encoded data removed]",
      "text/plain": [
       "<Figure size 600x600 with 1 Axes>"
      ]
     },
     "metadata": {},
     "output_type": "display_data"
    }
   ],
   "source": [
    "# Compare all models\n",
    "model_results = {\n",
    "    'LR': lr_1_accuracies,\n",
    "    'LR-Weight': lr_2_accuracies,\n",
    "    'CLPC': proto_accuracies,\n",
    "    # 'CLC-D': clc_d_accuracies\n",
    "}\n",
    "\n",
    "plot_intervention_results(model_results, use_dataset)"
   ]
  },
  {
   "cell_type": "code",
   "execution_count": 153,
   "id": "c52fe06f",
   "metadata": {},
   "outputs": [
    {
     "data": {
      "text/plain": [
       "tensor([[0., 1., 0., 0., 0., 0., 0., 0., 0., 0., 1., 0., 0., 0., 0., 0., 0., 1.],\n",
       "        [0., 0., 1., 0., 0., 0., 0., 0., 0., 0., 0., 0., 1., 1., 0., 0., 0., 0.],\n",
       "        [0., 0., 0., 0., 0., 0., 1., 1., 0., 0., 0., 1., 0., 0., 0., 0., 0., 1.],\n",
       "        [1., 0., 0., 0., 1., 0., 1., 0., 0., 0., 0., 1., 0., 0., 0., 0., 0., 1.],\n",
       "        [1., 0., 0., 0., 0., 1., 1., 0., 0., 0., 0., 1., 0., 0., 0., 0., 0., 0.],\n",
       "        [1., 0., 0., 0., 0., 0., 1., 0., 1., 1., 0., 1., 0., 0., 0., 0., 0., 1.],\n",
       "        [0., 0., 0., 0., 0., 0., 0., 0., 0., 0., 0., 0., 0., 0., 1., 0., 0., 1.],\n",
       "        [0., 1., 1., 1., 0., 0., 0., 0., 0., 0., 0., 0., 1., 0., 0., 1., 1., 1.],\n",
       "        [0., 0., 0., 0., 0., 0., 0., 0., 0., 0., 0., 0., 1., 1., 1., 1., 1., 0.],\n",
       "        [0., 0., 1., 1., 0., 0., 0., 0., 0., 0., 0., 0., 1., 1., 0., 1., 1., 0.]],\n",
       "       device='mps:0', grad_fn=<IndexPutBackward0>)"
      ]
     },
     "execution_count": 153,
     "metadata": {},
     "output_type": "execute_result"
    }
   ],
   "source": [
    "clc_model.get_binary_prototypes()"
   ]
  },
  {
   "cell_type": "markdown",
   "id": "8a648850",
   "metadata": {},
   "source": [
    "# Analysis of Incorrect Classifications\n",
    "This section can be uncommented and used for further analysis of misclassified instances."
   ]
  },
  {
   "cell_type": "code",
   "execution_count": 154,
   "id": "b52b9809",
   "metadata": {},
   "outputs": [],
   "source": [
    "# Additional analysis code can be placed here\n",
    "# For example:\n",
    "#\n",
    "# def analyze_misclassifications(model, C_hat, Y_true, model_name):\n",
    "#     \"\"\"\n",
    "#     Analyze misclassified instances for a given model.\n",
    "#     \"\"\"\n",
    "#     if isinstance(C_hat, torch.Tensor):\n",
    "#         predictions = model.predict(C_hat)\n",
    "#         misclassified = (predictions != Y_true)\n",
    "#         misclassified_indices = torch.where(misclassified)[0].cpu().numpy()\n",
    "#     else:\n",
    "#         predictions = model.predict(C_hat)\n",
    "#         misclassified = (predictions != Y_true)\n",
    "#         misclassified_indices = np.where(misclassified)[0]\n",
    "#\n",
    "#     print(f\"{model_name} - Total misclassified: {len(misclassified_indices)}\")\n",
    "#\n",
    "#     # Further analysis...\n",
    "#\n",
    "#     return misclassified_indices"
   ]
  }
 ],
 "metadata": {
  "kernelspec": {
   "display_name": "Python 3",
   "language": "python",
   "name": "python3"
  },
  "language_info": {
   "codemirror_mode": {
    "name": "ipython",
    "version": 3
   },
   "file_extension": ".py",
   "mimetype": "text/x-python",
   "name": "python",
   "nbconvert_exporter": "python",
   "pygments_lexer": "ipython3",
   "version": "3.11.9"
  }
 },
 "nbformat": 4,
 "nbformat_minor": 5
}
