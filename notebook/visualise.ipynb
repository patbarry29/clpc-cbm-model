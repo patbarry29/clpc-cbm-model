{
 "cells": [
  {
   "cell_type": "code",
   "execution_count": 3,
   "id": "e6968fc2",
   "metadata": {},
   "outputs": [],
   "source": [
    "import os\n",
    "import time\n",
    "import numpy as np\n",
    "import sys\n",
    "from torch.utils.data import DataLoader\n",
    "\n",
    "notebook_dir = os.getcwd()\n",
    "project_root_path = os.path.dirname(notebook_dir)\n",
    "sys.path.insert(0, project_root_path)\n",
    "\n",
    "from config import PROJECT_ROOT\n",
    "\n",
    "from src.preprocessing import *\n",
    "from src.utils import get_filename_to_id_mapping\n",
    "from src.dataset import ImageConceptDataset"
   ]
  },
  {
   "cell_type": "code",
   "execution_count": 4,
   "id": "9a496b8c",
   "metadata": {},
   "outputs": [
    {
     "name": "stdout",
     "output_type": "stream",
     "text": [
      "Using TRAINING transformations:\n",
      "Found 11788 images.\n",
      "Processing in 369 batches of size 32 (for progress reporting)...\n"
     ]
    },
    {
     "name": "stderr",
     "output_type": "stream",
     "text": [
      "Processing batches: 100%|██████████| 369/369 [01:20<00:00,  4.58it/s]"
     ]
    },
    {
     "name": "stdout",
     "output_type": "stream",
     "text": [
      "\n",
      "Finished processing.\n",
      "Successfully transformed: 11788 images.\n"
     ]
    },
    {
     "name": "stderr",
     "output_type": "stream",
     "text": [
      "\n"
     ]
    }
   ],
   "source": [
    "# LOAD AND TRANSFORM IMAGES\n",
    "input_dir = os.path.join(PROJECT_ROOT, 'images')\n",
    "resol = 299\n",
    "training = True\n",
    "images_file = os.path.join(PROJECT_ROOT, 'data', 'images.txt')\n",
    "\n",
    "image_tensors, image_paths = load_and_transform_images(input_dir, images_file, resol, training, batch_size=32, verbose=True, dev=False)"
   ]
  },
  {
   "cell_type": "code",
   "execution_count": null,
   "id": "4395dab6",
   "metadata": {},
   "outputs": [
    {
     "name": "stdout",
     "output_type": "stream",
     "text": [
      "Found 11788 unique images.\n",
      "Found 312 unique concepts.\n",
      "Generated concept matrix with shape: (11788, 312)\n"
     ]
    }
   ],
   "source": [
    "# CREATE CONCEPT LABELS MATRIX\n",
    "concept_labels_file = os.path.join(PROJECT_ROOT, 'data', 'image_concept_labels.txt')\n",
    "\n",
    "concept_labels, uncertainty_matrix = encode_image_concepts(concept_labels_file, verbose=True)"
   ]
  },
  {
   "cell_type": "code",
   "execution_count": 7,
   "id": "6dfd0e43",
   "metadata": {},
   "outputs": [
    {
     "name": "stdout",
     "output_type": "stream",
     "text": [
      "Found 200 classes.\n",
      "Found labels for 11788 images.\n",
      "Generated one-hot matrix with shape: (11788, 200)\n"
     ]
    }
   ],
   "source": [
    "# CREATE IMAGE LABELS MATRIX\n",
    "labels_file = os.path.join(PROJECT_ROOT, 'data', 'image_class_labels.txt')\n",
    "classes_file = os.path.join(PROJECT_ROOT, 'data', 'classes.txt')\n",
    "\n",
    "image_labels = one_hot_encode_labels(labels_file, classes_file, verbose=True)"
   ]
  },
  {
   "cell_type": "code",
   "execution_count": 8,
   "id": "888411bc",
   "metadata": {},
   "outputs": [
    {
     "name": "stdout",
     "output_type": "stream",
     "text": [
      "Split complete: 5994 train images, 5794 test images.\n",
      "Train set size: 5994 tensors, 5994 concepts, 5994 labels\n",
      "Test set size:  5794 tensors, 5794 concepts, 5794 labels\n"
     ]
    }
   ],
   "source": [
    "# CREATE TRAIN TEST SPLIT USING TXT FILE\n",
    "split_file = os.path.join(PROJECT_ROOT, 'data', 'train_test_split.txt')\n",
    "\n",
    "split_data = split_datasets(split_file, concept_labels, image_labels, image_tensors)\n",
    "\n",
    "train_concepts = split_data['train_concepts']\n",
    "test_concepts = split_data['test_concepts']\n",
    "\n",
    "train_img_labels = split_data['train_img_labels']\n",
    "test_img_labels = split_data['test_img_labels']\n",
    "\n",
    "train_tensors = split_data['train_tensors']\n",
    "test_tensors = split_data['test_tensors']\n",
    "\n",
    "print(f\"Train set size: {len(train_tensors)} tensors, {train_concepts.shape[0]} concepts, {train_img_labels.shape[0]} labels\")\n",
    "print(f\"Test set size:  {len(test_tensors)} tensors, {test_concepts.shape[0]} concepts, {test_img_labels.shape[0]} labels\")"
   ]
  },
  {
   "cell_type": "code",
   "execution_count": null,
   "id": "3f167513",
   "metadata": {},
   "outputs": [
    {
     "name": "stdout",
     "output_type": "stream",
     "text": [
      "\n",
      "Analyzing attribute imbalance in the training set...\n",
      "Training set shape: 5994 samples, 312 attributes.\n"
     ]
    }
   ],
   "source": [
    "import numpy as np\n",
    "import matplotlib.pyplot as plt # For plotting histogram\n",
    "\n",
    "# --- Code to Analyze Attribute Imbalance ---\n",
    "\n",
    "print(\"\\nAnalyzing attribute imbalance in the training set...\")\n",
    "\n",
    "# Ensure train_concepts is a NumPy array\n",
    "if not isinstance(train_concepts, np.ndarray):\n",
    "    try:\n",
    "        train_concepts_np = np.array(train_concepts)\n",
    "        print(\"Converted train_concepts to NumPy array.\")\n",
    "    except Exception as e:\n",
    "        print(f\"Error: Could not convert train_concepts to NumPy array. Please ensure it's defined. Details: {e}\")\n",
    "        # Stop execution here or handle appropriately\n",
    "        raise ValueError(\"train_concepts is not a NumPy array or convertible.\")\n",
    "else:\n",
    "    train_concepts_np = train_concepts\n",
    "\n",
    "if train_concepts_np.ndim != 2:\n",
    "     raise ValueError(f\"Expected train_concepts_np to be 2D, but got shape {train_concepts_np.shape}\")\n",
    "\n",
    "num_train_samples, num_attributes = train_concepts_np.shape\n",
    "print(f\"Training set shape: {num_train_samples} samples, {num_attributes} attributes.\")\n",
    "\n",
    "attribute_imbalance_stats = []\n",
    "\n",
    "# --- Optional: Load attribute names for better readability ---"
   ]
  },
  {
   "cell_type": "code",
   "execution_count": null,
   "id": "31faaa03",
   "metadata": {},
   "outputs": [
    {
     "name": "stdout",
     "output_type": "stream",
     "text": [
      "\n",
      "Most Imbalanced Attributes (by % positive deviated from 50%):\n",
      "  Index 137 (has_eye_color::purple): 0.13% Positive (8/5994), Ratio Neg/Pos: 748.25\n",
      "  Index 271 (has_leg_color::green): 0.17% Positive (10/5994), Ratio Neg/Pos: 598.40\n",
      "  Index 142 (has_eye_color::green): 0.20% Positive (12/5994), Ratio Neg/Pos: 498.50\n",
      "  Index 141 (has_eye_color::olive): 0.22% Positive (13/5994), Ratio Neg/Pos: 460.08\n",
      "  Index 286 (has_bill_color::green): 0.23% Positive (14/5994), Ratio Neg/Pos: 427.14\n",
      "  Index 281 (has_bill_color::purple): 0.27% Positive (16/5994), Ratio Neg/Pos: 373.62\n",
      "  Index 108 (has_breast_color::purple): 0.30% Positive (18/5994), Ratio Neg/Pos: 332.00\n",
      "  Index 143 (has_eye_color::pink): 0.32% Positive (19/5994), Ratio Neg/Pos: 314.47\n",
      "  Index 270 (has_leg_color::olive): 0.32% Positive (19/5994), Ratio Neg/Pos: 314.47\n",
      "  Index 200 (has_belly_color::purple): 0.33% Positive (20/5994), Ratio Neg/Pos: 298.70\n"
     ]
    }
   ],
   "source": [
    "attribute_names = []\n",
    "try:\n",
    "    concept_names_path = os.path.join(PROJECT_ROOT, 'data', 'concepts.txt')\n",
    "    with open(concept_names_path, 'r') as f:\n",
    "        attribute_names = [line.strip().split()[-1] for line in f] # Assumes format \"idx name\"\n",
    "    if len(attribute_names) != num_attributes:\n",
    "        print(f\"Warning: Loaded {len(attribute_names)} names, but expected {num_attributes}. Indices will be used.\")\n",
    "        attribute_names = [f\"Attr_{i}\" for i in range(num_attributes)]\n",
    "except NameError:\n",
    "    print(\"Warning: concept_names_path not defined. Using generic attribute indices.\")\n",
    "    attribute_names = [f\"Attr_{i}\" for i in range(num_attributes)]\n",
    "except FileNotFoundError:\n",
    "    print(f\"Warning: Concepts file not found at {concept_names_path}. Using generic attribute indices.\")\n",
    "    attribute_names = [f\"Attr_{i}\" for i in range(num_attributes)]\n",
    "except Exception as e:\n",
    "     print(f\"Warning: Error loading concept names: {e}. Using generic attribute indices.\")\n",
    "     attribute_names = [f\"Attr_{i}\" for i in range(num_attributes)]\n",
    "# --------------------------------------------------------------\n",
    "\n",
    "for i in range(num_attributes):\n",
    "    attribute_column = train_concepts_np[:, i]\n",
    "\n",
    "    # Count occurrences of 0 and 1\n",
    "    counts = np.bincount(attribute_column.astype(int), minlength=2) # Ensures counts for 0 and 1 exist\n",
    "    num_neg = counts[0]\n",
    "    num_pos = counts[1]\n",
    "\n",
    "    # Calculate percentage positive\n",
    "    percent_pos = (num_pos / num_train_samples) * 100 if num_train_samples > 0 else 0\n",
    "\n",
    "    # Calculate ratio (handle division by zero)\n",
    "    ratio_neg_pos = num_neg / num_pos if num_pos > 0 else float('inf') # Negatives per Positive\n",
    "\n",
    "    attribute_imbalance_stats.append({\n",
    "        'index': i,\n",
    "        'name': attribute_names[i],\n",
    "        'num_pos': num_pos,\n",
    "        'num_neg': num_neg,\n",
    "        'percent_pos': percent_pos,\n",
    "        'ratio_neg_pos': ratio_neg_pos\n",
    "    })\n",
    "\n",
    "# --- Summarize the results ---\n",
    "\n",
    "# Sort by percentage positive (most skewed first)\n",
    "attribute_imbalance_stats.sort(key=lambda x: abs(x['percent_pos'] - 50), reverse=True)\n",
    "\n",
    "print(\"\\nMost Imbalanced Attributes (by % positive deviated from 50%):\")\n",
    "for k in range(min(10, num_attributes)): # Print top 10 most skewed\n",
    "    stats = attribute_imbalance_stats[k]\n",
    "    print(f\"  Index {stats['index']:<3d} ({stats['name']}): \"\n",
    "          f\"{stats['percent_pos']:.2f}% Positive ({stats['num_pos']}/{num_train_samples}), \"\n",
    "          f\"Ratio Neg/Pos: {stats['ratio_neg_pos']:.2f}\")\n"
   ]
  },
  {
   "cell_type": "code",
   "execution_count": 12,
   "id": "9b79d280",
   "metadata": {},
   "outputs": [
    {
     "name": "stdout",
     "output_type": "stream",
     "text": [
      "\n",
      "Least Imbalanced Attributes (closest to 50%):\n",
      "  Index 218 (has_size::small_(5_-_9_in)): 51.25% Positive (3072/5994), Ratio Neg/Pos: 0.95\n",
      "  Index 235 (has_shape::perching-like): 48.57% Positive (2911/5994), Ratio Neg/Pos: 1.06\n",
      "  Index 54  (has_breast_pattern::solid): 55.21% Positive (3309/5994), Ratio Neg/Pos: 0.81\n",
      "  Index 289 (has_bill_color::black): 43.93% Positive (2633/5994), Ratio Neg/Pos: 1.28\n",
      "  Index 151 (has_bill_length::shorter_than_head): 56.17% Positive (3367/5994), Ratio Neg/Pos: 0.78\n",
      "  Index 20  (has_wing_color::black): 43.21% Positive (2590/5994), Ratio Neg/Pos: 1.31\n",
      "  Index 244 (has_belly_pattern::solid): 57.37% Positive (3439/5994), Ratio Neg/Pos: 0.74\n",
      "  Index 35  (has_upperparts_color::black): 39.02% Positive (2339/5994), Ratio Neg/Pos: 1.56\n",
      "  Index 51  (has_underparts_color::white): 38.96% Positive (2335/5994), Ratio Neg/Pos: 1.57\n",
      "  Index 6   (has_bill_shape::all-purpose): 38.05% Positive (2281/5994), Ratio Neg/Pos: 1.63\n"
     ]
    }
   ],
   "source": [
    "\n",
    "print(\"\\nLeast Imbalanced Attributes (closest to 50%):\")\n",
    "for k in range(min(10, num_attributes)): # Print top 10 least skewed\n",
    "    stats = attribute_imbalance_stats[-(k+1)]\n",
    "    print(f\"  Index {stats['index']:<3d} ({stats['name']}): \"\n",
    "          f\"{stats['percent_pos']:.2f}% Positive ({stats['num_pos']}/{num_train_samples}), \"\n",
    "          f\"Ratio Neg/Pos: {stats['ratio_neg_pos']:.2f}\")\n"
   ]
  },
  {
   "cell_type": "code",
   "execution_count": 13,
   "id": "dea98dac",
   "metadata": {},
   "outputs": [
    {
     "data": {
      "image/png": "[encoded data removed]",
      "text/plain": [
       "<Figure size 1000x500 with 1 Axes>"
      ]
     },
     "metadata": {},
     "output_type": "display_data"
    },
    {
     "name": "stdout",
     "output_type": "stream",
     "text": [
      "\n",
      "Analysis Complete.\n"
     ]
    }
   ],
   "source": [
    "\n",
    "# --- Plot Histogram of Percentage Positive ---\n",
    "all_percent_pos = [stats['percent_pos'] for stats in attribute_imbalance_stats]\n",
    "\n",
    "plt.figure(figsize=(10, 5))\n",
    "plt.hist(all_percent_pos, bins=20, range=(0, 100), edgecolor='black')\n",
    "plt.title('Distribution of Percentage Positive Labels Across Attributes (Training Set)')\n",
    "plt.xlabel('Percentage of Positive Labels (%)')\n",
    "plt.ylabel('Number of Attributes')\n",
    "plt.grid(axis='y', alpha=0.75)\n",
    "plt.show()\n",
    "\n",
    "print(\"\\nAnalysis Complete.\")\n",
    "# -------------------------------------------"
   ]
  },
  {
   "cell_type": "code",
   "execution_count": null,
   "id": "eb988990",
   "metadata": {},
   "outputs": [],
   "source": []
  }
 ],
 "metadata": {
  "kernelspec": {
   "display_name": "Python 3",
   "language": "python",
   "name": "python3"
  },
  "language_info": {
   "codemirror_mode": {
    "name": "ipython",
    "version": 3
   },
   "file_extension": ".py",
   "mimetype": "text/x-python",
   "name": "python",
   "nbconvert_exporter": "python",
   "pygments_lexer": "ipython3",
   "version": "3.11.9"
  }
 },
 "nbformat": 4,
 "nbformat_minor": 5
}
