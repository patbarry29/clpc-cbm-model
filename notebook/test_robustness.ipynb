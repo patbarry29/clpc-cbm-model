{
 "cells": [
  {
   "cell_type": "code",
   "execution_count": 244,
   "id": "33b1af1b",
   "metadata": {},
   "outputs": [],
   "source": [
    "datasets = ['CUB', 'Derm7pt', 'RIVAL10']\n",
    "use_dataset = datasets[0]"
   ]
  },
  {
   "cell_type": "code",
   "execution_count": 245,
   "id": "02f84d33",
   "metadata": {},
   "outputs": [],
   "source": [
    "import os\n",
    "import sys\n",
    "import torch\n",
    "from tqdm.auto import tqdm\n",
    "from torch.utils.data import DataLoader, TensorDataset\n",
    "\n",
    "notebook_dir = os.getcwd()\n",
    "project_root_path = os.path.dirname(notebook_dir)\n",
    "sys.path.insert(0, project_root_path)\n",
    "\n",
    "from src.config import PROJECT_ROOT, CUB_CONFIG, DERM7PT_CONFIG, RIVAL10_CONFIG  # noqa: E402\n",
    "import numpy as np  # noqa: E402"
   ]
  },
  {
   "cell_type": "code",
   "execution_count": 246,
   "id": "58764a62",
   "metadata": {},
   "outputs": [],
   "source": [
    "if use_dataset == 'CUB':\n",
    "    config_dict = CUB_CONFIG\n",
    "    DATASET_PATH =  os.path.join(PROJECT_ROOT, 'output', 'CUB')\n",
    "elif use_dataset == 'Derm7pt':\n",
    "    config_dict = DERM7PT_CONFIG\n",
    "    DATASET_PATH =  os.path.join(PROJECT_ROOT, 'output', 'Derm7pt')\n",
    "else:\n",
    "    config_dict = RIVAL10_CONFIG\n",
    "    DATASET_PATH =  os.path.join(PROJECT_ROOT, 'output', 'RIVAL10')"
   ]
  },
  {
   "cell_type": "code",
   "execution_count": 247,
   "id": "7b1b97ca",
   "metadata": {},
   "outputs": [],
   "source": [
    "num_concepts = config_dict['N_TRIMMED_CONCEPTS']\n",
    "num_classes = config_dict['N_CLASSES']"
   ]
  },
  {
   "cell_type": "markdown",
   "id": "a7a3a2a2",
   "metadata": {},
   "source": [
    "# Load and Transform Data"
   ]
  },
  {
   "cell_type": "code",
   "execution_count": 248,
   "id": "951320be",
   "metadata": {},
   "outputs": [],
   "source": [
    "C_hat_train = np.load(os.path.join(DATASET_PATH, 'C_hat_sigmoid_train.npy'))\n",
    "one_hot_Y_train = np.load(os.path.join(DATASET_PATH, 'Y_train.npy'))\n",
    "\n",
    "C_hat_test = np.load(os.path.join(DATASET_PATH, 'C_hat_sigmoid_test.npy'))\n",
    "one_hot_Y_test = np.load(os.path.join(DATASET_PATH, 'Y_test.npy'))\n",
    "\n",
    "if use_dataset == 'Derm7pt':\n",
    "    C_hat_val = np.load(os.path.join(DATASET_PATH, 'C_hat_sigmoid_val.npy'))\n",
    "    one_hot_Y_val = np.load(os.path.join(DATASET_PATH, 'Y_val.npy'))\n",
    "\n",
    "    C_hat_train = np.concatenate((C_hat_train, C_hat_val), axis=0)\n",
    "    one_hot_Y_train = np.concatenate((one_hot_Y_train, one_hot_Y_val), axis=0)\n",
    "\n",
    "class_level_concepts = np.load(os.path.join(DATASET_PATH, 'class_level_concepts.npy'))"
   ]
  },
  {
   "cell_type": "code",
   "execution_count": 249,
   "id": "657421ee",
   "metadata": {},
   "outputs": [],
   "source": [
    "Y_train = np.argmax(one_hot_Y_train, axis=1)\n",
    "Y_test = np.argmax(one_hot_Y_test, axis=1)"
   ]
  },
  {
   "cell_type": "code",
   "execution_count": 250,
   "id": "ff09a63a",
   "metadata": {},
   "outputs": [],
   "source": [
    "C_train = []\n",
    "for y in Y_train:\n",
    "    C_train.append(class_level_concepts[y])\n",
    "\n",
    "C_train = np.array(C_train)"
   ]
  },
  {
   "cell_type": "markdown",
   "id": "db9d6744",
   "metadata": {},
   "source": [
    "### Create DataLoaders for Prototypes Model"
   ]
  },
  {
   "cell_type": "code",
   "execution_count": 251,
   "id": "5da141b5",
   "metadata": {},
   "outputs": [
    {
     "name": "stdout",
     "output_type": "stream",
     "text": [
      "Using device: mps\n"
     ]
    }
   ],
   "source": [
    "device = torch.device(\"cuda\" if torch.cuda.is_available() else \"mps\" if torch.backends.mps.is_available() else \"cpu\")\n",
    "print(f\"Using device: {device}\")\n",
    "\n",
    "# Create Dataloaders\n",
    "random_seed = 1\n",
    "\n",
    "def get_loaders(C_hat_train, C_hat_test):\n",
    "    if use_dataset == 'Derm7pt':\n",
    "        X_train = torch.tensor(C_hat_train, dtype=torch.float32)\n",
    "        Y_train = torch.tensor(one_hot_Y_train, dtype=torch.float32)\n",
    "    else:\n",
    "        X_train = torch.tensor(C_hat_train, dtype=torch.float32)\n",
    "        Y_train = torch.tensor(one_hot_Y_train, dtype=torch.float32)\n",
    "\n",
    "    X_test = torch.tensor(C_hat_test, dtype=torch.float32, device=device)\n",
    "    Y_test = torch.tensor(one_hot_Y_test, dtype=torch.float32, device=device)\n",
    "\n",
    "    # DATALOADERS\n",
    "    batch_size = 64\n",
    "    train_dataset = TensorDataset(X_train, Y_train)\n",
    "    train_loader = DataLoader(train_dataset, batch_size=batch_size, shuffle=True)\n",
    "\n",
    "    # test_dataset = TensorDataset(X_test, Y_test)\n",
    "    # test_loader = DataLoader(test_dataset, batch_size=batch_size, shuffle=False)\n",
    "\n",
    "    return train_loader, X_test, Y_test"
   ]
  },
  {
   "cell_type": "markdown",
   "id": "f46d4e63",
   "metadata": {},
   "source": [
    "# Add Noise to Concept Probabilities"
   ]
  },
  {
   "cell_type": "code",
   "execution_count": 252,
   "id": "8fbd4dd6",
   "metadata": {},
   "outputs": [],
   "source": [
    "def add_noise_to_concepts(c_hat, noise_level, random_seed=42):\n",
    "    np.random.seed(random_seed)\n",
    "    c_hat_noisy = c_hat.copy()\n",
    "\n",
    "    total_values = c_hat.size\n",
    "    values_to_modify = int(total_values * noise_level)\n",
    "\n",
    "    # Get flat indices for high and low values\n",
    "    flat_c_hat = c_hat.flatten()\n",
    "    high_indices = np.where(flat_c_hat >= 0.5)[0]\n",
    "    low_indices = np.where(flat_c_hat < 0.5)[0]\n",
    "\n",
    "    # Randomly select indices to modify\n",
    "    high_count = min(values_to_modify // 2, len(high_indices))\n",
    "    low_count = min(values_to_modify - high_count, len(low_indices))\n",
    "\n",
    "    selected_high = np.random.choice(high_indices, high_count, replace=False)\n",
    "    selected_low = np.random.choice(low_indices, low_count, replace=False)\n",
    "\n",
    "    # Apply noise using flat indexing\n",
    "    flat_noisy = c_hat_noisy.flatten()\n",
    "\n",
    "    # Push high values down toward 0.5\n",
    "    # high_values = flat_noisy[selected_high]\n",
    "    # max_decrease = high_values - 0.5\n",
    "    # noise = np.random.uniform(0, 1, len(selected_high)) * max_decrease\n",
    "    # flat_noisy[selected_high] -= noise\n",
    "    # flat_noisy[selected_high] = 0\n",
    "    flat_noisy[selected_high] = np.random.uniform(0, 0.5, len(selected_high))\n",
    "\n",
    "    # Push low values above 0.5\n",
    "    # low_values = flat_noisy[selected_low]\n",
    "    # max_increase = 0.5 - low_values\n",
    "    # noise = np.random.uniform(0, 1, len(selected_low)) * max_increase\n",
    "    # flat_noisy[selected_low] += noise\n",
    "    flat_noisy[selected_low] = np.random.uniform(0.5, 1, len(selected_low))\n",
    "\n",
    "    return flat_noisy.reshape(c_hat.shape)"
   ]
  },
  {
   "cell_type": "code",
   "execution_count": 253,
   "id": "0b930d66",
   "metadata": {},
   "outputs": [],
   "source": [
    "noise_level = 0.1\n",
    "C_hat_test_noisy = add_noise_to_concepts(C_hat_test, noise_level)"
   ]
  },
  {
   "cell_type": "code",
   "execution_count": 254,
   "id": "2d56f7ea",
   "metadata": {},
   "outputs": [
    {
     "name": "stdout",
     "output_type": "stream",
     "text": [
      "0.7805180235711819% of the original values are close to 0.5\n",
      "2.657921988263721% of the original values are close to 0.5\n"
     ]
    }
   ],
   "source": [
    "close_to_half = (np.sum((C_hat_test > 0.4) & (C_hat_test < 0.6)) / C_hat_test.size)\n",
    "close_to_half_noisy = (np.sum((C_hat_test_noisy > 0.4) & (C_hat_test_noisy < 0.6))/ C_hat_test.size)\n",
    "\n",
    "print(f\"{close_to_half*100}% of the original values are close to 0.5\")\n",
    "print(f\"{close_to_half_noisy*100}% of the original values are close to 0.5\")"
   ]
  },
  {
   "cell_type": "markdown",
   "id": "d2fa01de",
   "metadata": {},
   "source": [
    "# Test Phase 2 With Noise"
   ]
  },
  {
   "cell_type": "code",
   "execution_count": 255,
   "id": "7a946430",
   "metadata": {},
   "outputs": [],
   "source": [
    "from sklearn.linear_model import LogisticRegression\n",
    "import os\n",
    "\n",
    "from src.models import PrototypeClassifier\n",
    "from src.training import train_epoch"
   ]
  },
  {
   "cell_type": "code",
   "execution_count": 256,
   "id": "a75b2224",
   "metadata": {},
   "outputs": [],
   "source": [
    "# Global dictionary to store models in memory\n",
    "global_models = {\n",
    "    'logistic_regression': None,\n",
    "    'prototypes': None\n",
    "}"
   ]
  },
  {
   "cell_type": "code",
   "execution_count": 257,
   "id": "2a486b8c",
   "metadata": {},
   "outputs": [],
   "source": [
    "def predict_nearest_concept(instance, reference_concepts, reference_labels):\n",
    "    distances = np.sqrt(np.sum((reference_concepts - instance)**2, axis=1))\n",
    "    min_idx = np.argmin(distances)\n",
    "    return reference_labels[min_idx]"
   ]
  },
  {
   "cell_type": "code",
   "execution_count": 258,
   "id": "4d72a46e",
   "metadata": {},
   "outputs": [],
   "source": [
    "hyperparams = {\n",
    "    \"CUB\": [50, 0.01, 0.01, 0.001],\n",
    "    \"Derm7pt\": [50, 0.01, 0.01, 0.001],\n",
    "    \"RIVAL10\": [50, 0.01, 0.01, 0.001],\n",
    "}"
   ]
  },
  {
   "cell_type": "code",
   "execution_count": null,
   "id": "d49c8b94",
   "metadata": {},
   "outputs": [],
   "source": [
    "noise_levels = np.arange(0, 0.51, 0.05)\n",
    "n_repeats = 5"
   ]
  },
  {
   "cell_type": "code",
   "execution_count": null,
   "id": "e5f5771f",
   "metadata": {},
   "outputs": [
    {
     "name": "stdout",
     "output_type": "stream",
     "text": [
      "Training and storing models in memory for faster testing...\n"
     ]
    },
    {
     "data": {
      "application/vnd.jupyter.widget-view+json": {
       "model_id": "a803f0d941d047e987bff8fadee0e4c4",
       "version_major": 2,
       "version_minor": 0
      },
      "text/plain": [
       "Training Prototypes:   0%|          | 0/50 [00:00<?, ?it/s]"
      ]
     },
     "metadata": {},
     "output_type": "display_data"
    },
    {
     "name": "stdout",
     "output_type": "stream",
     "text": [
      "All models trained and stored in memory\n"
     ]
    }
   ],
   "source": [
    "# Initialize models in memory\n",
    "print(\"Training and storing models in memory for faster testing...\")\n",
    "\n",
    "# Create a dictionary to store all trained models\n",
    "trained_models = {}\n",
    "\n",
    "# Train and store all models\n",
    "lin_model = LogisticRegression(max_iter=1000)\n",
    "lin_model.fit(C_hat_train, Y_train)\n",
    "trained_models['lr'] = lin_model\n",
    "\n",
    "# Train prototype model\n",
    "train_loader, _, _ = get_loaders(C_hat_train, C_hat_test)\n",
    "proto_model = PrototypeClassifier(num_concepts, num_classes).to(device)\n",
    "num_epochs = hyperparams[use_dataset][0]\n",
    "optimizer = torch.optim.Adam(proto_model.parameters(), lr=hyperparams[use_dataset][1])\n",
    "lambda_binary = hyperparams[use_dataset][2]\n",
    "lambda_L1 = hyperparams[use_dataset][3]\n",
    "\n",
    "# Training loop for prototype model\n",
    "tqdm_loader = tqdm(range(num_epochs), desc=\"Training Prototypes\", leave=False)\n",
    "for epoch in tqdm_loader:\n",
    "    _, train_accuracy = train_epoch(proto_model, train_loader, optimizer, lambda_binary, lambda_L1, device=device)\n",
    "    tqdm_loader.set_postfix({\"Train Acc\": f\"{train_accuracy:.2f}%\"})\n",
    "\n",
    "trained_models['proto'] = proto_model\n",
    "print(\"All models trained and stored in memory\")\n",
    "\n",
    "# Create a fast evaluation function that uses the in-memory models\n",
    "def test_with_in_memory_models(C_hat_test, Y_test):\n",
    "    # Use the pre-trained models\n",
    "    results = {}\n",
    "\n",
    "    # Logistic Regression\n",
    "    results['lr'] = trained_models['lr'].score(C_hat_test, Y_test)\n",
    "\n",
    "    # Class-level concept nearest neighbor\n",
    "    # if C_train is not None:\n",
    "    #     correct_predictions = 0\n",
    "    #     for i, test_instance in enumerate(C_hat_test):\n",
    "    #         predicted_label = predict_nearest_concept(test_instance, C_train, Y_train)\n",
    "    #         true_label = Y_test[i]\n",
    "    #         if predicted_label == true_label:\n",
    "    #             correct_predictions += 1\n",
    "    #     results['class'] = correct_predictions / len(C_hat_test)\n",
    "\n",
    "    # Prototype model\n",
    "    proto_model = trained_models['proto']\n",
    "    proto_model.eval()\n",
    "    with torch.no_grad():\n",
    "        X_test = torch.tensor(C_hat_test, dtype=torch.float32, device=device)\n",
    "        Y_test_torch = torch.tensor(one_hot_Y_test, dtype=torch.float32, device=device)\n",
    "        real_labels = Y_test_torch.argmax(dim=1)\n",
    "        predictions = proto_model.predict(X_test)\n",
    "        results['proto'] = (predictions == real_labels).sum().item()/len(predictions)\n",
    "\n",
    "    return results"
   ]
  },
  {
   "cell_type": "code",
   "execution_count": null,
   "id": "73ab2283",
   "metadata": {},
   "outputs": [],
   "source": [
    "# lr_results = []\n",
    "# class_results = []\n",
    "# proto_results = []\n",
    "\n",
    "# for nl in noise_levels:\n",
    "#     print(f\"Testing noise of {nl*100:.0f}%\")\n",
    "#     lr_acc, class_acc, proto_acc = [], [], []\n",
    "#     for repeat in range(n_repeats):\n",
    "#         C_hat_test_noisy = add_noise_to_concepts(C_hat_test, nl, random_seed=random_seed + repeat)\n",
    "#         results = test_phase_2_algs(C_hat_train, Y_train, C_hat_test_noisy, Y_test, C_train)\n",
    "#         lr_acc.append(results[\"lr\"])\n",
    "#         class_acc.append(results[\"class\"])\n",
    "#         proto_acc.append(results[\"proto\"])\n",
    "#     lr_results.append(np.mean(lr_acc))\n",
    "#     class_results.append(np.mean(class_acc))\n",
    "#     proto_results.append(np.mean(proto_acc))"
   ]
  },
  {
   "cell_type": "code",
   "execution_count": 268,
   "id": "0e45297d",
   "metadata": {},
   "outputs": [
    {
     "data": {
      "application/vnd.jupyter.widget-view+json": {
       "model_id": "20a7c09a967446dfa70f90875d0cc334",
       "version_major": 2,
       "version_minor": 0
      },
      "text/plain": [
       "Testing noise levels:   0%|          | 0/11 [00:00<?, ?it/s]"
      ]
     },
     "metadata": {},
     "output_type": "display_data"
    },
    {
     "name": "stdout",
     "output_type": "stream",
     "text": [
      "Testing noise of 0%\n"
     ]
    },
    {
     "data": {
      "application/vnd.jupyter.widget-view+json": {
       "model_id": "312e676bb7134170a4a2e1dbfa36f9d5",
       "version_major": 2,
       "version_minor": 0
      },
      "text/plain": [
       "Noise 0%:   0%|          | 0/5 [00:00<?, ?it/s]"
      ]
     },
     "metadata": {},
     "output_type": "display_data"
    },
    {
     "ename": "KeyboardInterrupt",
     "evalue": "",
     "output_type": "error",
     "traceback": [
      "\u001b[0;31m---------------------------------------------------------------------------\u001b[0m",
      "\u001b[0;31mKeyboardInterrupt\u001b[0m                         Traceback (most recent call last)",
      "Cell \u001b[0;32mIn[268], line 58\u001b[0m\n\u001b[1;32m     56\u001b[0m C_hat_test_noisy \u001b[38;5;241m=\u001b[39m add_noise_to_concepts(C_hat_test, nl, random_seed\u001b[38;5;241m=\u001b[39mrandom_seed \u001b[38;5;241m+\u001b[39m repeat)\n\u001b[1;32m     57\u001b[0m \u001b[38;5;66;03m# Use the in-memory models instead of reloading from disk\u001b[39;00m\n\u001b[0;32m---> 58\u001b[0m results \u001b[38;5;241m=\u001b[39m \u001b[43mtest_with_in_memory_models\u001b[49m\u001b[43m(\u001b[49m\u001b[43mC_hat_test_noisy\u001b[49m\u001b[43m,\u001b[49m\u001b[43m \u001b[49m\u001b[43mY_test\u001b[49m\u001b[43m)\u001b[49m\n\u001b[1;32m     59\u001b[0m lr_acc\u001b[38;5;241m.\u001b[39mappend(results[\u001b[38;5;124m\"\u001b[39m\u001b[38;5;124mlr\u001b[39m\u001b[38;5;124m\"\u001b[39m])\n\u001b[1;32m     60\u001b[0m class_acc\u001b[38;5;241m.\u001b[39mappend(results[\u001b[38;5;124m\"\u001b[39m\u001b[38;5;124mclass\u001b[39m\u001b[38;5;124m\"\u001b[39m])\n",
      "Cell \u001b[0;32mIn[264], line 41\u001b[0m, in \u001b[0;36mtest_with_in_memory_models\u001b[0;34m(C_hat_test, Y_test)\u001b[0m\n\u001b[1;32m     39\u001b[0m correct_predictions \u001b[38;5;241m=\u001b[39m \u001b[38;5;241m0\u001b[39m\n\u001b[1;32m     40\u001b[0m \u001b[38;5;28;01mfor\u001b[39;00m i, test_instance \u001b[38;5;129;01min\u001b[39;00m \u001b[38;5;28menumerate\u001b[39m(C_hat_test):\n\u001b[0;32m---> 41\u001b[0m     predicted_label \u001b[38;5;241m=\u001b[39m \u001b[43mpredict_nearest_concept\u001b[49m\u001b[43m(\u001b[49m\u001b[43mtest_instance\u001b[49m\u001b[43m,\u001b[49m\u001b[43m \u001b[49m\u001b[43mC_train\u001b[49m\u001b[43m,\u001b[49m\u001b[43m \u001b[49m\u001b[43mY_train\u001b[49m\u001b[43m)\u001b[49m\n\u001b[1;32m     42\u001b[0m     true_label \u001b[38;5;241m=\u001b[39m Y_test[i]\n\u001b[1;32m     43\u001b[0m     \u001b[38;5;28;01mif\u001b[39;00m predicted_label \u001b[38;5;241m==\u001b[39m true_label:\n",
      "Cell \u001b[0;32mIn[257], line 2\u001b[0m, in \u001b[0;36mpredict_nearest_concept\u001b[0;34m(instance, reference_concepts, reference_labels)\u001b[0m\n\u001b[1;32m      1\u001b[0m \u001b[38;5;28;01mdef\u001b[39;00m\u001b[38;5;250m \u001b[39m\u001b[38;5;21mpredict_nearest_concept\u001b[39m(instance, reference_concepts, reference_labels):\n\u001b[0;32m----> 2\u001b[0m     distances \u001b[38;5;241m=\u001b[39m \u001b[43mnp\u001b[49m\u001b[38;5;241;43m.\u001b[39;49m\u001b[43msqrt\u001b[49m\u001b[43m(\u001b[49m\u001b[43mnp\u001b[49m\u001b[38;5;241;43m.\u001b[39;49m\u001b[43msum\u001b[49m\u001b[43m(\u001b[49m\u001b[43m(\u001b[49m\u001b[43mreference_concepts\u001b[49m\u001b[43m \u001b[49m\u001b[38;5;241;43m-\u001b[39;49m\u001b[43m \u001b[49m\u001b[43minstance\u001b[49m\u001b[43m)\u001b[49m\u001b[38;5;241;43m*\u001b[39;49m\u001b[38;5;241;43m*\u001b[39;49m\u001b[38;5;241;43m2\u001b[39;49m\u001b[43m,\u001b[49m\u001b[43m \u001b[49m\u001b[43maxis\u001b[49m\u001b[38;5;241;43m=\u001b[39;49m\u001b[38;5;241;43m1\u001b[39;49m\u001b[43m)\u001b[49m\u001b[43m)\u001b[49m\n\u001b[1;32m      3\u001b[0m     min_idx \u001b[38;5;241m=\u001b[39m np\u001b[38;5;241m.\u001b[39margmin(distances)\n\u001b[1;32m      4\u001b[0m     \u001b[38;5;28;01mreturn\u001b[39;00m reference_labels[min_idx]\n",
      "\u001b[0;31mKeyboardInterrupt\u001b[0m: "
     ]
    }
   ],
   "source": [
    "# import matplotlib.pyplot as plt\n",
    "import time\n",
    "from tqdm.auto import tqdm\n",
    "# import os\n",
    "\n",
    "# # Assuming other necessary parts of the code, like function definitions and data loading, are above this cell\n",
    "\n",
    "# # Create a figure with appropriate size\n",
    "# plt.figure(figsize=(12, 8))\n",
    "\n",
    "# # Plot each algorithm's results\n",
    "# plt.plot(noise_levels, lr_results, marker='o', linestyle='--', label='LR', linewidth=3, markersize=10)\n",
    "# # plt.plot(noise_levels, knn_results, marker='s', label='K-Nearest Neighbors')\n",
    "# # plt.plot(noise_levels, dt_results, marker='^', label='Decision Tree')\n",
    "# # plt.plot(noise_levels, mlp_results, marker='*', label='MLP')\n",
    "# # plt.plot(noise_levels, class_results, marker='D', linestyle='--', label='CLC-D')\n",
    "# plt.plot(noise_levels, proto_results, marker='D', linestyle='-', label='CLPC', linewidth=3, markersize=10)\n",
    "\n",
    "# plt.grid(True, alpha=0.3)\n",
    "# plt.xlabel(f'Noise Level in Concept Prediction (Dataset: {use_dataset})', fontsize=18)\n",
    "# plt.ylabel('Accuracy', fontsize=18)\n",
    "# # plt.title(f'Model Performance vs. Noise Level ({use_dataset} Dataset)', fontsize=16)\n",
    "\n",
    "# # Set y-axis limits from 0 to 1\n",
    "# # plt.ylim(0, 0.7)\n",
    "\n",
    "# # Format x-axis ticks as percentages\n",
    "# plt.xticks(noise_levels, [f'{nl*100:.0f}%' for nl in noise_levels], fontsize=14)\n",
    "# plt.yticks(fontsize=14)\n",
    "\n",
    "# # Add a horizontal line for random chance accuracy (1/num_classes)\n",
    "# # random_chance = 1/num_classes\n",
    "# # plt.axhline(y=random_chance, color='r', linestyle='--', alpha=0.7,\n",
    "# #             label=f'Random Chance ({random_chance:.3f})')\n",
    "# plt.legend(fontsize=18)\n",
    "\n",
    "# plt.tight_layout()\n",
    "# output_dir = os.path.join(PROJECT_ROOT, 'output', 'plots')\n",
    "# os.makedirs(output_dir, exist_ok=True)\n",
    "# plt.savefig(os.path.join(output_dir, f'{use_dataset}_noise.png'), dpi=600, bbox_inches='tight')\n",
    "# plt.show()\n",
    "\n",
    "lr_results = []\n",
    "class_results = []\n",
    "proto_results = []\n",
    "\n",
    "# Run the noise level experiment with in-memory models\n",
    "start_time = time.time()\n",
    "\n",
    "for nl in tqdm(noise_levels, desc=\"Testing noise levels\"):\n",
    "    print(f\"Testing noise of {nl*100:.0f}%\")\n",
    "    lr_acc, class_acc, proto_acc = [], [], []\n",
    "\n",
    "    # Create a progress bar for the repeats\n",
    "    for repeat in tqdm(range(n_repeats), desc=f\"Noise {nl*100:.0f}%\", leave=False):\n",
    "        C_hat_test_noisy = add_noise_to_concepts(C_hat_test, nl, random_seed=random_seed + repeat)\n",
    "        # Use the in-memory models instead of reloading from disk\n",
    "        results = test_with_in_memory_models(C_hat_test_noisy, Y_test)\n",
    "        lr_acc.append(results[\"lr\"])\n",
    "        class_acc.append(results[\"class\"])\n",
    "        proto_acc.append(results[\"proto\"])\n",
    "    lr_results.append(np.mean(lr_acc))\n",
    "    class_results.append(np.mean(class_acc))\n",
    "    proto_results.append(np.mean(proto_acc))\n",
    "\n",
    "end_time = time.time()\n",
    "print(f\"\\nTotal time for all noise levels: {end_time - start_time:.2f} seconds\")\n",
    "print(f\"Average time per noise level: {(end_time - start_time)/len(noise_levels):.2f} seconds\")"
   ]
  },
  {
   "cell_type": "code",
   "execution_count": null,
   "id": "b0c29737",
   "metadata": {},
   "outputs": [
    {
     "name": "stdout",
     "output_type": "stream",
     "text": [
      "Results saved to: /Users/pb/Documents/career/lab_ujm/hybrid-cbm-prototype-model/output/noise_results/Derm7pt_noise_experiment_results.csv\n"
     ]
    }
   ],
   "source": [
    "import pandas as pd\n",
    "import os\n",
    "\n",
    "# Create a DataFrame with the noise level and results from each algorithm\n",
    "results_df = pd.DataFrame({\n",
    "    'Noise_Level': noise_levels,\n",
    "    'Logistic_Regression': lr_results,\n",
    "    'Concept_Based_NN': class_results,\n",
    "    'Prototype': proto_results\n",
    "})\n",
    "\n",
    "# Format the DataFrame for better readability\n",
    "results_df['Noise_Level'] = results_df['Noise_Level'].apply(lambda x: f\"{x:.1f}\")\n",
    "\n",
    "# Define the output path\n",
    "output_dir = os.path.join(PROJECT_ROOT, 'output', 'noise_results')\n",
    "os.makedirs(output_dir, exist_ok=True)\n",
    "output_path = os.path.join(output_dir, f'{use_dataset}_noise_experiment_results.csv')\n",
    "\n",
    "# Save the results to CSV\n",
    "results_df.to_csv(output_path, index=False)\n",
    "\n",
    "print(f\"Results saved to: {output_path}\")"
   ]
  },
  {
   "cell_type": "code",
   "execution_count": null,
   "id": "8ef5d859",
   "metadata": {},
   "outputs": [
    {
     "data": {
      "text/plain": [
       "[np.float64(0.6481012658227848),\n",
       " np.float64(0.6465822784810127),\n",
       " np.float64(0.6486075949367088),\n",
       " np.float64(0.6445569620253164),\n",
       " np.float64(0.6349367088607595),\n",
       " np.float64(0.6268354430379747),\n",
       " np.float64(0.6040506329113924),\n",
       " np.float64(0.5777215189873417),\n",
       " np.float64(0.5458227848101266),\n",
       " np.float64(0.5007594936708861),\n",
       " np.float64(0.44658227848101273)]"
      ]
     },
     "execution_count": 223,
     "metadata": {},
     "output_type": "execute_result"
    }
   ],
   "source": [
    "proto_results"
   ]
  }
 ],
 "metadata": {
  "kernelspec": {
   "display_name": "Python 3",
   "language": "python",
   "name": "python3"
  },
  "language_info": {
   "codemirror_mode": {
    "name": "ipython",
    "version": 3
   },
   "file_extension": ".py",
   "mimetype": "text/x-python",
   "name": "python",
   "nbconvert_exporter": "python",
   "pygments_lexer": "ipython3",
   "version": "3.11.9"
  }
 },
 "nbformat": 4,
 "nbformat_minor": 5
}
