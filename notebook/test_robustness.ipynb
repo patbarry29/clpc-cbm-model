{
 "cells": [
  {
   "cell_type": "code",
   "execution_count": 30,
   "id": "33b1af1b",
   "metadata": {},
   "outputs": [],
   "source": [
    "datasets = ['CUB', 'Derm7pt', 'RIVAL10']\n",
    "use_dataset = datasets[1]"
   ]
  },
  {
   "cell_type": "code",
   "execution_count": 31,
   "id": "02f84d33",
   "metadata": {},
   "outputs": [],
   "source": [
    "import os\n",
    "import sys\n",
    "import torch\n",
    "from tqdm.auto import tqdm\n",
    "from torch.utils.data import DataLoader, TensorDataset\n",
    "\n",
    "notebook_dir = os.getcwd()\n",
    "project_root_path = os.path.dirname(notebook_dir)\n",
    "sys.path.insert(0, project_root_path)\n",
    "\n",
    "from src.config import PROJECT_ROOT, CUB_CONFIG, DERM7PT_CONFIG, RIVAL10_CONFIG  # noqa: E402\n",
    "import numpy as np  # noqa: E402"
   ]
  },
  {
   "cell_type": "code",
   "execution_count": 32,
   "id": "58764a62",
   "metadata": {},
   "outputs": [],
   "source": [
    "if use_dataset == 'CUB':\n",
    "    config_dict = CUB_CONFIG\n",
    "    DATASET_PATH =  os.path.join(PROJECT_ROOT, 'output', 'CUB')\n",
    "elif use_dataset == 'Derm7pt':\n",
    "    config_dict = DERM7PT_CONFIG\n",
    "    DATASET_PATH =  os.path.join(PROJECT_ROOT, 'output', 'Derm7pt')\n",
    "else:\n",
    "    config_dict = RIVAL10_CONFIG\n",
    "    DATASET_PATH =  os.path.join(PROJECT_ROOT, 'output', 'RIVAL10')"
   ]
  },
  {
   "cell_type": "code",
   "execution_count": 33,
   "id": "7b1b97ca",
   "metadata": {},
   "outputs": [],
   "source": [
    "num_concepts = config_dict['N_TRIMMED_CONCEPTS']\n",
    "num_classes = config_dict['N_CLASSES']"
   ]
  },
  {
   "cell_type": "markdown",
   "id": "a7a3a2a2",
   "metadata": {},
   "source": [
    "# Load and Transform Data"
   ]
  },
  {
   "cell_type": "code",
   "execution_count": 34,
   "id": "951320be",
   "metadata": {},
   "outputs": [],
   "source": [
    "C_hat_train = np.load(os.path.join(DATASET_PATH, 'C_hat_sigmoid_train.npy'))\n",
    "one_hot_Y_train = np.load(os.path.join(DATASET_PATH, 'Y_train.npy'))\n",
    "\n",
    "C_hat_test = np.load(os.path.join(DATASET_PATH, 'C_hat_sigmoid_test.npy'))\n",
    "one_hot_Y_test = np.load(os.path.join(DATASET_PATH, 'Y_test.npy'))\n",
    "\n",
    "if use_dataset == 'Derm7pt':\n",
    "    C_hat_val = np.load(os.path.join(DATASET_PATH, 'C_hat_sigmoid_val.npy'))\n",
    "    one_hot_Y_val = np.load(os.path.join(DATASET_PATH, 'Y_val.npy'))\n",
    "\n",
    "    C_hat_train = np.concatenate((C_hat_train, C_hat_val), axis=0)\n",
    "    one_hot_Y_train = np.concatenate((one_hot_Y_train, one_hot_Y_val), axis=0)\n",
    "\n",
    "class_level_concepts = np.load(os.path.join(DATASET_PATH, 'class_level_concepts.npy'))"
   ]
  },
  {
   "cell_type": "code",
   "execution_count": 35,
   "id": "657421ee",
   "metadata": {},
   "outputs": [],
   "source": [
    "Y_train = np.argmax(one_hot_Y_train, axis=1)\n",
    "Y_test = np.argmax(one_hot_Y_test, axis=1)"
   ]
  },
  {
   "cell_type": "code",
   "execution_count": 36,
   "id": "ff09a63a",
   "metadata": {},
   "outputs": [],
   "source": [
    "C_train = []\n",
    "for y in Y_train:\n",
    "    C_train.append(class_level_concepts[y])\n",
    "\n",
    "C_train = np.array(C_train)"
   ]
  },
  {
   "cell_type": "markdown",
   "id": "db9d6744",
   "metadata": {},
   "source": [
    "### Create DataLoaders for Prototypes Model"
   ]
  },
  {
   "cell_type": "code",
   "execution_count": 37,
   "id": "5da141b5",
   "metadata": {},
   "outputs": [
    {
     "name": "stdout",
     "output_type": "stream",
     "text": [
      "Using device: mps\n"
     ]
    }
   ],
   "source": [
    "device = torch.device(\"cuda\" if torch.cuda.is_available() else \"mps\" if torch.backends.mps.is_available() else \"cpu\")\n",
    "print(f\"Using device: {device}\")\n",
    "\n",
    "# Create Dataloaders\n",
    "random_seed = 42\n",
    "\n",
    "def get_loaders(C_hat_train, C_hat_test):\n",
    "    if use_dataset == 'Derm7pt':\n",
    "        X_train = torch.tensor(C_hat_train, dtype=torch.float32)\n",
    "        Y_train = torch.tensor(one_hot_Y_train, dtype=torch.float32)\n",
    "    else:\n",
    "        X_train = torch.tensor(C_hat_train, dtype=torch.float32)\n",
    "        Y_train = torch.tensor(one_hot_Y_train, dtype=torch.float32)\n",
    "\n",
    "    X_test = torch.tensor(C_hat_test, dtype=torch.float32, device=device)\n",
    "    Y_test = torch.tensor(one_hot_Y_test, dtype=torch.float32, device=device)\n",
    "\n",
    "    # DATALOADERS\n",
    "    batch_size = 64\n",
    "    train_dataset = TensorDataset(X_train, Y_train)\n",
    "    train_loader = DataLoader(train_dataset, batch_size=batch_size, shuffle=True)\n",
    "\n",
    "    # test_dataset = TensorDataset(X_test, Y_test)\n",
    "    # test_loader = DataLoader(test_dataset, batch_size=batch_size, shuffle=False)\n",
    "\n",
    "    return train_loader, X_test, Y_test"
   ]
  },
  {
   "cell_type": "markdown",
   "id": "f46d4e63",
   "metadata": {},
   "source": [
    "# Add Noise to Concept Probabilities"
   ]
  },
  {
   "cell_type": "code",
   "execution_count": 38,
   "id": "8fbd4dd6",
   "metadata": {},
   "outputs": [],
   "source": [
    "def add_noise_to_concepts(c_hat, noise_level, random_seed=42):\n",
    "    np.random.seed(random_seed)\n",
    "    c_hat_noisy = c_hat.copy()\n",
    "\n",
    "    total_values = c_hat.size\n",
    "    values_to_modify = int(total_values * noise_level)\n",
    "\n",
    "    # Get flat indices for high and low values\n",
    "    flat_c_hat = c_hat.flatten()\n",
    "    high_indices = np.where(flat_c_hat >= 0.5)[0]\n",
    "    low_indices = np.where(flat_c_hat < 0.5)[0]\n",
    "\n",
    "    # Randomly select indices to modify\n",
    "    high_count = min(values_to_modify // 2, len(high_indices))\n",
    "    low_count = min(values_to_modify - high_count, len(low_indices))\n",
    "\n",
    "    selected_high = np.random.choice(high_indices, high_count, replace=False)\n",
    "    selected_low = np.random.choice(low_indices, low_count, replace=False)\n",
    "\n",
    "    # Apply noise using flat indexing\n",
    "    flat_noisy = c_hat_noisy.flatten()\n",
    "\n",
    "    # Push high values down toward 0.5\n",
    "    # high_values = flat_noisy[selected_high]\n",
    "    # max_decrease = high_values - 0.5\n",
    "    # noise = np.random.uniform(0, 1, len(selected_high)) * max_decrease\n",
    "    # flat_noisy[selected_high] -= noise\n",
    "    flat_noisy[selected_high] = 0\n",
    "    # flat_noisy[selected_high] = np.random.uniform(0, 0.5, len(selected_high))\n",
    "\n",
    "    # Push low values above 0.5\n",
    "    # low_values = flat_noisy[selected_low]\n",
    "    # max_increase = 0.5 - low_values\n",
    "    # noise = np.random.uniform(0, 1, len(selected_low)) * max_increase\n",
    "    # flat_noisy[selected_low] += noise\n",
    "    flat_noisy[selected_low] = np.random.uniform(0.5, 1, len(selected_low))\n",
    "\n",
    "    return flat_noisy.reshape(c_hat.shape)"
   ]
  },
  {
   "cell_type": "code",
   "execution_count": 39,
   "id": "0b930d66",
   "metadata": {},
   "outputs": [],
   "source": [
    "noise_level = 0.1\n",
    "C_hat_test_noisy = add_noise_to_concepts(C_hat_test, noise_level)"
   ]
  },
  {
   "cell_type": "code",
   "execution_count": 40,
   "id": "2d56f7ea",
   "metadata": {},
   "outputs": [
    {
     "name": "stdout",
     "output_type": "stream",
     "text": [
      "4.970019986675549% of the original values are close to 0.5\n",
      "5.796135909393738% of the original values are close to 0.5\n"
     ]
    }
   ],
   "source": [
    "close_to_half = (np.sum((C_hat_test > 0.4) & (C_hat_test < 0.6)) / C_hat_test.size)\n",
    "close_to_half_noisy = (np.sum((C_hat_test_noisy > 0.4) & (C_hat_test_noisy < 0.6))/ C_hat_test.size)\n",
    "\n",
    "print(f\"{close_to_half*100}% of the original values are close to 0.5\")\n",
    "print(f\"{close_to_half_noisy*100}% of the original values are close to 0.5\")"
   ]
  },
  {
   "cell_type": "markdown",
   "id": "d2fa01de",
   "metadata": {},
   "source": [
    "# Test Phase 2 With Noise"
   ]
  },
  {
   "cell_type": "code",
   "execution_count": 41,
   "id": "7a946430",
   "metadata": {},
   "outputs": [],
   "source": [
    "from sklearn.linear_model import LogisticRegression\n",
    "from sklearn.neighbors import KNeighborsClassifier\n",
    "from sklearn.tree import DecisionTreeClassifier\n",
    "from sklearn.neural_network import MLPClassifier\n",
    "import pickle\n",
    "import os\n",
    "\n",
    "from src.models import PrototypeClassifier\n",
    "from src.training import train_epoch\n",
    "from src.utils import vprint"
   ]
  },
  {
   "cell_type": "code",
   "execution_count": 42,
   "id": "2a486b8c",
   "metadata": {},
   "outputs": [],
   "source": [
    "def predict_nearest_concept(instance, reference_concepts, reference_labels):\n",
    "    distances = np.sqrt(np.sum((reference_concepts - instance)**2, axis=1))\n",
    "    min_idx = np.argmin(distances)\n",
    "    return reference_labels[min_idx]"
   ]
  },
  {
   "cell_type": "code",
   "execution_count": 43,
   "id": "4d72a46e",
   "metadata": {},
   "outputs": [],
   "source": [
    "hyperparams = {\n",
    "    \"CUB\": [50, 0.01, 0.01, 0.001],\n",
    "    \"Derm7pt\": [50, 0.01, 0.01, 0.001],\n",
    "    \"RIVAL10\": [50, 0.01, 0.01, 0.001],\n",
    "}"
   ]
  },
  {
   "cell_type": "code",
   "execution_count": 60,
   "id": "4d73621e",
   "metadata": {},
   "outputs": [],
   "source": [
    "def save_model(model, model_name, dataset_name):\n",
    "    # Create directory for saved models if it doesn't exist\n",
    "    save_dir = os.path.join(PROJECT_ROOT, 'output', 'saved_models', dataset_name)\n",
    "    os.makedirs(save_dir, exist_ok=True)\n",
    "\n",
    "    # Save the model\n",
    "    model_path = os.path.join(save_dir, f'{model_name}.pkl')\n",
    "\n",
    "    if model_name == 'prototypes':\n",
    "        # PyTorch model\n",
    "        torch.save(model.state_dict(), model_path)\n",
    "    else:\n",
    "        # Scikit-learn models\n",
    "        with open(model_path, 'wb') as f:\n",
    "            pickle.dump(model, f)\n",
    "\n",
    "    # print(f\"Saved {model_name} model to {model_path}\")\n",
    "\n",
    "def load_model(model_name, dataset_name):\n",
    "    model_path = os.path.join(PROJECT_ROOT, 'output', 'saved_models', dataset_name, f'{model_name}.pkl')\n",
    "\n",
    "    if not os.path.exists(model_path):\n",
    "        return None\n",
    "\n",
    "    if model_name == 'prototypes':\n",
    "        # Load PyTorch model\n",
    "        model = PrototypeClassifier(num_concepts, num_classes).to(device)\n",
    "        model.load_state_dict(torch.load(model_path))\n",
    "        model.eval()  # Set to evaluation mode\n",
    "        return model\n",
    "    else:\n",
    "        # Load scikit-learn model\n",
    "        with open(model_path, 'rb') as f:\n",
    "            return pickle.load(f)"
   ]
  },
  {
   "cell_type": "code",
   "execution_count": 69,
   "id": "38cc6159",
   "metadata": {},
   "outputs": [],
   "source": [
    "def run_prototypes_model(C_hat_train, C_hat_test, force_retrain=False):\n",
    "    train_loader, X_test, Y_test = get_loaders(C_hat_train, C_hat_test)\n",
    "\n",
    "    # Try to load existing model if not forcing retrain\n",
    "    model = None\n",
    "    if not force_retrain:\n",
    "        model = load_model('prototypes', use_dataset)\n",
    "\n",
    "    if model is None:\n",
    "        # Train a new model\n",
    "        model = PrototypeClassifier(num_concepts, num_classes).to(device)\n",
    "\n",
    "        num_epochs = hyperparams[use_dataset][0]\n",
    "\n",
    "        optimizer = torch.optim.Adam(model.parameters(), lr=hyperparams[use_dataset][1])\n",
    "        lambda_binary = hyperparams[use_dataset][2]\n",
    "        lambda_L1 = hyperparams[use_dataset][3]\n",
    "\n",
    "        # Training loop\n",
    "        tqdm_loader = tqdm(range(num_epochs), desc=\"Training Prototypes\", leave=False)\n",
    "        for epoch in tqdm_loader:\n",
    "            _, train_accuracy = train_epoch(model, train_loader, optimizer, lambda_binary, lambda_L1, device=device)\n",
    "            tqdm_loader.set_postfix({\"Train Acc\": f\"{train_accuracy:.2f}%\"})\n",
    "\n",
    "        # Save the trained model\n",
    "        save_model(model, 'prototypes', use_dataset)\n",
    "    else:\n",
    "        print(\"Using pre-trained prototypes model\")\n",
    "\n",
    "    # Evaluation\n",
    "    model.eval()  # Set to evaluation mode\n",
    "    with torch.no_grad():\n",
    "        real_labels = Y_test.argmax(dim=1)\n",
    "        predictions = model.predict(X_test)\n",
    "\n",
    "    return (predictions == real_labels).sum().item()/len(predictions)"
   ]
  },
  {
   "cell_type": "code",
   "execution_count": 70,
   "id": "881752a2",
   "metadata": {},
   "outputs": [],
   "source": [
    "def test_phase_2_algs(C_hat_train, Y_train, C_hat_test, Y_test, C_train, force_retrain=False, verbose=False):\n",
    "    # Logistic Regression\n",
    "    lin_model = load_model('logistic_regression', use_dataset) if not force_retrain else None\n",
    "    if lin_model is None:\n",
    "        lin_model = LogisticRegression(max_iter=1000)\n",
    "        lin_model.fit(C_hat_train, Y_train)\n",
    "        save_model(lin_model, 'logistic_regression', use_dataset)\n",
    "    else:\n",
    "        vprint(\"Using pre-trained logistic regression model\", verbose)\n",
    "    lin_accuracy = lin_model.score(C_hat_test, Y_test)\n",
    "    vprint(f\"Logistic Regression Test accuracy: {lin_accuracy:.5f}\", verbose)\n",
    "\n",
    "    # KNN\n",
    "    knn_model = load_model('knn', use_dataset) if not force_retrain else None\n",
    "    if knn_model is None:\n",
    "        knn_model = KNeighborsClassifier()\n",
    "        knn_model.fit(C_hat_train, Y_train)\n",
    "        save_model(knn_model, 'knn', use_dataset)\n",
    "    else:\n",
    "        vprint(\"Using pre-trained KNN model\", verbose)\n",
    "    knn_accuracy = knn_model.score(C_hat_test, Y_test)\n",
    "    vprint(f\"k-NN Test accuracy: {knn_accuracy:.5f}\", verbose)\n",
    "\n",
    "    # Decision Tree\n",
    "    dt_model = load_model('decision_tree', use_dataset) if not force_retrain else None\n",
    "    if dt_model is None:\n",
    "        dt_model = DecisionTreeClassifier()\n",
    "        dt_model.fit(C_hat_train, Y_train)\n",
    "        save_model(dt_model, 'decision_tree', use_dataset)\n",
    "    else:\n",
    "        vprint(\"Using pre-trained decision tree model\", verbose)\n",
    "    dt_accuracy = dt_model.score(C_hat_test, Y_test)\n",
    "    vprint(f\"Decision Tree Test accuracy: {dt_accuracy:.5f}\", verbose)\n",
    "\n",
    "    # MLP\n",
    "    mlp_model = load_model('mlp', use_dataset) if not force_retrain else None\n",
    "    if mlp_model is None:\n",
    "        mlp_model = MLPClassifier(hidden_layer_sizes=(512,256, 128), max_iter=1000)\n",
    "        mlp_model.fit(C_hat_train, Y_train)\n",
    "        save_model(mlp_model, 'mlp', use_dataset)\n",
    "    else:\n",
    "        vprint(\"Using pre-trained MLP model\", verbose)\n",
    "    mlp_accuracy = mlp_model.score(C_hat_test, Y_test)\n",
    "    vprint(f\"MLP Test accuracy: {mlp_accuracy:.5f}\", verbose)\n",
    "\n",
    "    # DISTANCE TO CLASS-LEVEL CONCEPTS (no training required, just calculation)\n",
    "    class_accuracy = 0\n",
    "    if C_train is not None:\n",
    "        correct_predictions = 0\n",
    "\n",
    "        for i, test_instance in enumerate(C_hat_test):\n",
    "            predicted_label = predict_nearest_concept(test_instance, C_train, Y_train)\n",
    "            true_label = Y_test[i]\n",
    "\n",
    "            if predicted_label == true_label:\n",
    "                correct_predictions += 1\n",
    "\n",
    "        class_accuracy = correct_predictions / len(C_hat_test)\n",
    "        vprint(f\"Overall accuracy using concept-based nearest neighbor: {class_accuracy:.5f}\", verbose)\n",
    "\n",
    "    # PROTOTYPES MODEL\n",
    "    proto_accuracy = run_prototypes_model(C_hat_train, C_hat_test, force_retrain)\n",
    "    vprint(f\"Prototype Model Test accuracy: {proto_accuracy:.5f}\", verbose)\n",
    "\n",
    "    return {\n",
    "        \"lr\": lin_accuracy,\n",
    "        \"knn\": knn_accuracy,\n",
    "        \"dt\": dt_accuracy,\n",
    "        \"mlp\": mlp_accuracy,\n",
    "        \"class\": class_accuracy,\n",
    "        \"proto\": proto_accuracy,\n",
    "    }"
   ]
  },
  {
   "cell_type": "code",
   "execution_count": 71,
   "id": "8d902a40",
   "metadata": {},
   "outputs": [
    {
     "name": "stdout",
     "output_type": "stream",
     "text": [
      "First run: Training and saving all models\n",
      "Logistic Regression Test accuracy: 0.66329\n",
      "k-NN Test accuracy: 0.60000\n",
      "Decision Tree Test accuracy: 0.57215\n",
      "MLP Test accuracy: 0.65316\n",
      "Overall accuracy using concept-based nearest neighbor: 0.64810\n"
     ]
    },
    {
     "data": {
      "application/vnd.jupyter.widget-view+json": {
       "model_id": "5f406c6e2dd74d4cb3cbc3ec049aa43d",
       "version_major": 2,
       "version_minor": 0
      },
      "text/plain": [
       "Training Prototypes:   0%|          | 0/50 [00:00<?, ?it/s]"
      ]
     },
     "metadata": {},
     "output_type": "display_data"
    },
    {
     "name": "stdout",
     "output_type": "stream",
     "text": [
      "Prototype Model Test accuracy: 0.64810\n"
     ]
    },
    {
     "data": {
      "text/plain": [
       "{'lr': 0.6632911392405063,\n",
       " 'knn': 0.6,\n",
       " 'dt': 0.5721518987341773,\n",
       " 'mlp': 0.6531645569620254,\n",
       " 'class': 0.6481012658227848,\n",
       " 'proto': 0.6481012658227848}"
      ]
     },
     "execution_count": 71,
     "metadata": {},
     "output_type": "execute_result"
    }
   ],
   "source": [
    "# First run: Train and save all models\n",
    "print(\"First run: Training and saving all models\")\n",
    "test_phase_2_algs(C_hat_train, Y_train, C_hat_test, Y_test, C_train, force_retrain=True, verbose=True)"
   ]
  },
  {
   "cell_type": "code",
   "execution_count": 65,
   "id": "c48f5112",
   "metadata": {},
   "outputs": [],
   "source": [
    "noise_levels = np.arange(0, 1.1, 0.1)"
   ]
  },
  {
   "cell_type": "code",
   "execution_count": 66,
   "id": "73ab2283",
   "metadata": {},
   "outputs": [
    {
     "name": "stdout",
     "output_type": "stream",
     "text": [
      "Testing noise of 0%\n",
      "Using pre-trained prototypes model\n",
      "Testing noise of 10%\n",
      "Using pre-trained prototypes model\n",
      "Testing noise of 20%\n",
      "Using pre-trained prototypes model\n",
      "Testing noise of 30%\n",
      "Using pre-trained prototypes model\n",
      "Testing noise of 40%\n",
      "Using pre-trained prototypes model\n",
      "Testing noise of 50%\n",
      "Using pre-trained prototypes model\n",
      "Testing noise of 60%\n",
      "Using pre-trained prototypes model\n",
      "Testing noise of 70%\n",
      "Using pre-trained prototypes model\n",
      "Testing noise of 80%\n",
      "Using pre-trained prototypes model\n",
      "Testing noise of 90%\n",
      "Using pre-trained prototypes model\n",
      "Testing noise of 100%\n",
      "Using pre-trained prototypes model\n"
     ]
    }
   ],
   "source": [
    "lr_results = []\n",
    "knn_results = []\n",
    "dt_results = []\n",
    "mlp_results = []\n",
    "class_results = []\n",
    "proto_results = []\n",
    "\n",
    "for nl in noise_levels:\n",
    "    print(f\"Testing noise of {nl*100:.0f}%\")\n",
    "    C_hat_test_noisy = add_noise_to_concepts(C_hat_test, nl)\n",
    "    results = test_phase_2_algs(C_hat_train, Y_train, C_hat_test_noisy, Y_test, C_train)\n",
    "    lr_results.append(results[\"lr\"])\n",
    "    knn_results.append(results[\"knn\"])\n",
    "    dt_results.append(results[\"dt\"])\n",
    "    mlp_results.append(results[\"mlp\"])\n",
    "    class_results.append(results[\"class\"])\n",
    "    proto_results.append(results[\"proto\"])"
   ]
  },
  {
   "cell_type": "code",
   "execution_count": null,
   "id": "b3c37da5",
   "metadata": {},
   "outputs": [
    {
     "name": "stdout",
     "output_type": "stream",
     "text": [
      "\n",
      "Running robustness testing with different noise levels using saved models\n",
      "Testing noise of 0%\n",
      "Using pre-trained prototypes model\n",
      "Testing noise of 10%\n",
      "Using pre-trained prototypes model\n",
      "Testing noise of 20%\n",
      "Using pre-trained prototypes model\n",
      "Testing noise of 30%\n",
      "Using pre-trained prototypes model\n",
      "Testing noise of 40%\n",
      "Using pre-trained prototypes model\n",
      "Testing noise of 50%\n",
      "Using pre-trained prototypes model\n",
      "Testing noise of 60%\n",
      "Using pre-trained prototypes model\n",
      "Testing noise of 70%\n",
      "Using pre-trained prototypes model\n",
      "Testing noise of 80%\n",
      "Using pre-trained prototypes model\n",
      "Testing noise of 90%\n",
      "Using pre-trained prototypes model\n",
      "Testing noise of 100%\n",
      "Using pre-trained prototypes model\n"
     ]
    }
   ],
   "source": [
    "\n",
    "# Assuming noise_levels, C_hat_test, C_hat_train, Y_train, Y_test, C_train are defined\n",
    "lr_results = []\n",
    "knn_results = []\n",
    "dt_results = []\n",
    "mlp_results = []\n",
    "class_results = []\n",
    "proto_results = []\n",
    "\n",
    "print(\"\\nRunning robustness testing with different noise levels using saved models\")\n",
    "for nl in noise_levels:\n",
    "    print(f\"Testing noise of {nl*100:.0f}%\")\n",
    "    C_hat_test_noisy = add_noise_to_concepts(C_hat_test, nl)\n",
    "    results = test_phase_2_algs(C_hat_train, Y_train, C_hat_test_noisy, Y_test, C_train, force_retrain=False)\n",
    "    lr_results.append(results[\"lr\"])\n",
    "    knn_results.append(results[\"knn\"])\n",
    "    dt_results.append(results[\"dt\"])\n",
    "    mlp_results.append(results[\"mlp\"])\n",
    "    class_results.append(results[\"class\"])\n",
    "    proto_results.append(results[\"proto\"])\n"
   ]
  },
  {
   "cell_type": "code",
   "execution_count": 68,
   "id": "0e45297d",
   "metadata": {},
   "outputs": [
    {
     "data": {
      "image/png": "[encoded data removed]",
      "text/plain": [
       "<Figure size 1200x800 with 1 Axes>"
      ]
     },
     "metadata": {},
     "output_type": "display_data"
    }
   ],
   "source": [
    "import matplotlib.pyplot as plt\n",
    "\n",
    "# Create a figure with appropriate size\n",
    "plt.figure(figsize=(12, 8))\n",
    "\n",
    "# Plot each algorithm's results\n",
    "plt.plot(noise_levels, lr_results, marker='o', label='Logistic Regression')\n",
    "# plt.plot(noise_levels, knn_results, marker='s', label='K-Nearest Neighbors')\n",
    "# plt.plot(noise_levels, dt_results, marker='^', label='Decision Tree')\n",
    "# plt.plot(noise_levels, mlp_results, marker='*', label='MLP')\n",
    "plt.plot(noise_levels, class_results, marker='D', label='CLC-D')\n",
    "plt.plot(noise_levels, proto_results, marker='X', label='CLC-L', linewidth=2)\n",
    "\n",
    "plt.grid(True, alpha=0.3)\n",
    "plt.xlabel('Noise Level', fontsize=14)\n",
    "plt.ylabel('Accuracy', fontsize=14)\n",
    "plt.title(f'Model Performance vs. Noise Level ({use_dataset} Dataset)', fontsize=16)\n",
    "\n",
    "# Set y-axis limits from 0 to 1\n",
    "# plt.ylim(0, 0.7)\n",
    "\n",
    "# Format x-axis ticks as percentages\n",
    "plt.xticks(noise_levels, [f'{nl*100:.0f}%' for nl in noise_levels])\n",
    "\n",
    "# Add a horizontal line for random chance accuracy (1/num_classes)\n",
    "random_chance = 1/num_classes\n",
    "plt.axhline(y=random_chance, color='r', linestyle='--', alpha=0.7,\n",
    "            label=f'Random Chance ({random_chance:.3f})')\n",
    "plt.legend(fontsize=12)\n",
    "\n",
    "plt.tight_layout()\n",
    "plt.show()"
   ]
  },
  {
   "cell_type": "code",
   "execution_count": 52,
   "id": "b0c29737",
   "metadata": {},
   "outputs": [
    {
     "name": "stdout",
     "output_type": "stream",
     "text": [
      "Results saved to: /Users/pb/Documents/career/lab_ujm/hybrid-cbm-prototype-model/output/noise_results/Derm7pt_noise_experiment_results.csv\n"
     ]
    }
   ],
   "source": [
    "import pandas as pd\n",
    "import os\n",
    "\n",
    "# Create a DataFrame with the noise level and results from each algorithm\n",
    "results_df = pd.DataFrame({\n",
    "    'Noise_Level': noise_levels,\n",
    "    'Logistic_Regression': lr_results,\n",
    "    'KNN': knn_results,\n",
    "    'Decision_Tree': dt_results,\n",
    "    'MLP': mlp_results,\n",
    "    'Concept_Based_NN': class_results,\n",
    "    'Prototype': proto_results\n",
    "})\n",
    "\n",
    "# Format the DataFrame for better readability\n",
    "results_df['Noise_Level'] = results_df['Noise_Level'].apply(lambda x: f\"{x:.1f}\")\n",
    "\n",
    "# Define the output path\n",
    "output_dir = os.path.join(PROJECT_ROOT, 'output', 'noise_results')\n",
    "os.makedirs(output_dir, exist_ok=True)\n",
    "output_path = os.path.join(output_dir, f'{use_dataset}_noise_experiment_results.csv')\n",
    "\n",
    "# Save the results to CSV\n",
    "results_df.to_csv(output_path, index=False)\n",
    "\n",
    "print(f\"Results saved to: {output_path}\")"
   ]
  },
  {
   "cell_type": "code",
   "execution_count": 53,
   "id": "8ef5d859",
   "metadata": {},
   "outputs": [
    {
     "data": {
      "text/plain": [
       "[0.6481012658227848,\n",
       " 0.6430379746835443,\n",
       " 0.5949367088607594,\n",
       " 0.5341772151898734,\n",
       " 0.40253164556962023,\n",
       " 0.27848101265822783,\n",
       " 0.15949367088607594,\n",
       " 0.09367088607594937,\n",
       " 0.06329113924050633,\n",
       " 0.05063291139240506,\n",
       " 0.0379746835443038]"
      ]
     },
     "execution_count": 53,
     "metadata": {},
     "output_type": "execute_result"
    }
   ],
   "source": [
    "proto_results"
   ]
  }
 ],
 "metadata": {
  "kernelspec": {
   "display_name": "Python 3",
   "language": "python",
   "name": "python3"
  },
  "language_info": {
   "codemirror_mode": {
    "name": "ipython",
    "version": 3
   },
   "file_extension": ".py",
   "mimetype": "text/x-python",
   "name": "python",
   "nbconvert_exporter": "python",
   "pygments_lexer": "ipython3",
   "version": "3.11.9"
  }
 },
 "nbformat": 4,
 "nbformat_minor": 5
}
