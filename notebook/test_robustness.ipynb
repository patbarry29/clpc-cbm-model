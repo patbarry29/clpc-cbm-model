{
 "cells": [
  {
   "cell_type": "code",
   "execution_count": 89,
   "id": "33b1af1b",
   "metadata": {},
   "outputs": [],
   "source": [
    "datasets = ['CUB', 'Derm7pt', 'RIVAL10']\n",
    "use_dataset = datasets[1]"
   ]
  },
  {
   "cell_type": "code",
   "execution_count": 90,
   "id": "02f84d33",
   "metadata": {},
   "outputs": [],
   "source": [
    "import os\n",
    "import sys\n",
    "import torch\n",
    "from tqdm.auto import tqdm\n",
    "from torch.utils.data import DataLoader, TensorDataset\n",
    "\n",
    "notebook_dir = os.getcwd()\n",
    "project_root_path = os.path.dirname(notebook_dir)\n",
    "sys.path.insert(0, project_root_path)\n",
    "\n",
    "from src.config import PROJECT_ROOT, CUB_CONFIG, DERM7PT_CONFIG, RIVAL10_CONFIG  # noqa: E402\n",
    "import numpy as np  # noqa: E402"
   ]
  },
  {
   "cell_type": "code",
   "execution_count": 91,
   "id": "58764a62",
   "metadata": {},
   "outputs": [],
   "source": [
    "if use_dataset == 'CUB':\n",
    "    config_dict = CUB_CONFIG\n",
    "    DATASET_PATH =  os.path.join(PROJECT_ROOT, 'output', 'CUB')\n",
    "elif use_dataset == 'Derm7pt':\n",
    "    config_dict = DERM7PT_CONFIG\n",
    "    DATASET_PATH =  os.path.join(PROJECT_ROOT, 'output', 'Derm7pt')\n",
    "else:\n",
    "    config_dict = RIVAL10_CONFIG\n",
    "    DATASET_PATH =  os.path.join(PROJECT_ROOT, 'output', 'RIVAL10')"
   ]
  },
  {
   "cell_type": "code",
   "execution_count": 92,
   "id": "7b1b97ca",
   "metadata": {},
   "outputs": [],
   "source": [
    "num_concepts = config_dict['N_TRIMMED_CONCEPTS']\n",
    "num_classes = config_dict['N_CLASSES']"
   ]
  },
  {
   "cell_type": "markdown",
   "id": "a7a3a2a2",
   "metadata": {},
   "source": [
    "# Load and Transform Data"
   ]
  },
  {
   "cell_type": "code",
   "execution_count": 93,
   "id": "951320be",
   "metadata": {},
   "outputs": [],
   "source": [
    "C_hat_train = np.load(os.path.join(DATASET_PATH, 'C_hat_sigmoid_train.npy'))\n",
    "one_hot_Y_train = np.load(os.path.join(DATASET_PATH, 'Y_train.npy'))\n",
    "\n",
    "C_hat_test = np.load(os.path.join(DATASET_PATH, 'C_hat_sigmoid_test.npy'))\n",
    "one_hot_Y_test = np.load(os.path.join(DATASET_PATH, 'Y_test.npy'))\n",
    "\n",
    "if use_dataset == 'Derm7pt':\n",
    "    C_hat_val = np.load(os.path.join(DATASET_PATH, 'C_hat_sigmoid_val.npy'))\n",
    "    one_hot_Y_val = np.load(os.path.join(DATASET_PATH, 'Y_val.npy'))\n",
    "\n",
    "    C_hat_train = np.concatenate((C_hat_train, C_hat_val), axis=0)\n",
    "    one_hot_Y_train = np.concatenate((one_hot_Y_train, one_hot_Y_val), axis=0)\n",
    "\n",
    "class_level_concepts = np.load(os.path.join(DATASET_PATH, 'class_level_concepts.npy'))"
   ]
  },
  {
   "cell_type": "code",
   "execution_count": 94,
   "id": "657421ee",
   "metadata": {},
   "outputs": [],
   "source": [
    "Y_train = np.argmax(one_hot_Y_train, axis=1)\n",
    "Y_test = np.argmax(one_hot_Y_test, axis=1)"
   ]
  },
  {
   "cell_type": "code",
   "execution_count": 95,
   "id": "ff09a63a",
   "metadata": {},
   "outputs": [],
   "source": [
    "C_train = []\n",
    "for y in Y_train:\n",
    "    C_train.append(class_level_concepts[y])\n",
    "\n",
    "C_train = np.array(C_train)"
   ]
  },
  {
   "cell_type": "markdown",
   "id": "db9d6744",
   "metadata": {},
   "source": [
    "### Create DataLoaders for Prototypes Model"
   ]
  },
  {
   "cell_type": "code",
   "execution_count": 96,
   "id": "5da141b5",
   "metadata": {},
   "outputs": [
    {
     "name": "stdout",
     "output_type": "stream",
     "text": [
      "Using device: mps\n"
     ]
    }
   ],
   "source": [
    "device = torch.device(\"cuda\" if torch.cuda.is_available() else \"mps\" if torch.backends.mps.is_available() else \"cpu\")\n",
    "print(f\"Using device: {device}\")\n",
    "\n",
    "# Create Dataloaders\n",
    "random_seed = 42\n",
    "\n",
    "def get_loaders(C_hat_train, C_hat_test):\n",
    "    if use_dataset == 'Derm7pt':\n",
    "        X_train = torch.tensor(C_hat_train, dtype=torch.float32)\n",
    "        Y_train = torch.tensor(one_hot_Y_train, dtype=torch.float32)\n",
    "    else:\n",
    "        X_train = torch.tensor(C_hat_train, dtype=torch.float32)\n",
    "        Y_train = torch.tensor(one_hot_Y_train, dtype=torch.float32)\n",
    "\n",
    "    X_test = torch.tensor(C_hat_test, dtype=torch.float32, device=device)\n",
    "    Y_test = torch.tensor(one_hot_Y_test, dtype=torch.float32, device=device)\n",
    "\n",
    "    # DATALOADERS\n",
    "    batch_size = 64\n",
    "    train_dataset = TensorDataset(X_train, Y_train)\n",
    "    train_loader = DataLoader(train_dataset, batch_size=batch_size, shuffle=True)\n",
    "\n",
    "    # test_dataset = TensorDataset(X_test, Y_test)\n",
    "    # test_loader = DataLoader(test_dataset, batch_size=batch_size, shuffle=False)\n",
    "\n",
    "    return train_loader, X_test, Y_test"
   ]
  },
  {
   "cell_type": "markdown",
   "id": "f46d4e63",
   "metadata": {},
   "source": [
    "# Add Noise to Concept Probabilities"
   ]
  },
  {
   "cell_type": "code",
   "execution_count": null,
   "id": "8fbd4dd6",
   "metadata": {},
   "outputs": [],
   "source": [
    "def add_noise_to_concepts(c_hat, noise_level, random_seed=42):\n",
    "    np.random.seed(random_seed)\n",
    "    c_hat_noisy = c_hat.copy()\n",
    "\n",
    "    total_values = c_hat.size\n",
    "    values_to_modify = int(total_values * noise_level)\n",
    "\n",
    "    # Get flat indices for high and low values\n",
    "    flat_c_hat = c_hat.flatten()\n",
    "    high_indices = np.where(flat_c_hat >= 0.5)[0]\n",
    "    low_indices = np.where(flat_c_hat < 0.5)[0]\n",
    "\n",
    "    # Randomly select indices to modify\n",
    "    high_count = min(values_to_modify // 2, len(high_indices))\n",
    "    low_count = min(values_to_modify - high_count, len(low_indices))\n",
    "\n",
    "    selected_high = np.random.choice(high_indices, high_count, replace=False)\n",
    "    selected_low = np.random.choice(low_indices, low_count, replace=False)\n",
    "\n",
    "    # Apply noise using flat indexing\n",
    "    flat_noisy = c_hat_noisy.flatten()\n",
    "\n",
    "    # Push high values down toward 0.5\n",
    "    # high_values = flat_noisy[selected_high]\n",
    "    # max_decrease = high_values - 0.5\n",
    "    # noise = np.random.uniform(0, 1, len(selected_high)) * max_decrease\n",
    "    # flat_noisy[selected_high] -= noise\n",
    "    flat_noisy[selected_high] = 0\n",
    "    # flat_noisy[selected_high] = np.random.uniform(0, 0.5, len(selected_high))\n",
    "\n",
    "    # Push low values above 0.5\n",
    "    # low_values = flat_noisy[selected_low]\n",
    "    # max_increase = 0.5 - low_values\n",
    "    # noise = np.random.uniform(0, 1, len(selected_low)) * max_increase\n",
    "    # flat_noisy[selected_low] += noise\n",
    "    flat_noisy[selected_low] = np.random.uniform(0.5, 1, len(selected_low))\n",
    "\n",
    "    return flat_noisy.reshape(c_hat.shape)"
   ]
  },
  {
   "cell_type": "code",
   "execution_count": 98,
   "id": "0b930d66",
   "metadata": {},
   "outputs": [],
   "source": [
    "noise_level = 0.1\n",
    "C_hat_test_noisy = add_noise_to_concepts(C_hat_test, noise_level)"
   ]
  },
  {
   "cell_type": "code",
   "execution_count": 99,
   "id": "2d56f7ea",
   "metadata": {},
   "outputs": [
    {
     "name": "stdout",
     "output_type": "stream",
     "text": [
      "4.970019986675549% of the original values are close to 0.5\n",
      "6.782145236508994% of the original values are close to 0.5\n"
     ]
    }
   ],
   "source": [
    "close_to_half = (np.sum((C_hat_test > 0.4) & (C_hat_test < 0.6)) / C_hat_test.size)\n",
    "close_to_half_noisy = (np.sum((C_hat_test_noisy > 0.4) & (C_hat_test_noisy < 0.6))/ C_hat_test.size)\n",
    "\n",
    "print(f\"{close_to_half*100}% of the original values are close to 0.5\")\n",
    "print(f\"{close_to_half_noisy*100}% of the original values are close to 0.5\")"
   ]
  },
  {
   "cell_type": "markdown",
   "id": "d2fa01de",
   "metadata": {},
   "source": [
    "# Test Phase 2 With Noise"
   ]
  },
  {
   "cell_type": "code",
   "execution_count": 100,
   "id": "7a946430",
   "metadata": {},
   "outputs": [],
   "source": [
    "from sklearn.linear_model import LogisticRegression\n",
    "from sklearn.neighbors import KNeighborsClassifier\n",
    "from sklearn.tree import DecisionTreeClassifier\n",
    "from sklearn.neural_network import MLPClassifier\n",
    "\n",
    "from src.models import PrototypeClassifier\n",
    "from src.training import train_epoch\n",
    "from src.utils import vprint"
   ]
  },
  {
   "cell_type": "code",
   "execution_count": 101,
   "id": "2a486b8c",
   "metadata": {},
   "outputs": [],
   "source": [
    "def predict_nearest_concept(instance, reference_concepts, reference_labels):\n",
    "    distances = np.sqrt(np.sum((reference_concepts - instance)**2, axis=1))\n",
    "    min_idx = np.argmin(distances)\n",
    "    return reference_labels[min_idx]"
   ]
  },
  {
   "cell_type": "code",
   "execution_count": 102,
   "id": "4d72a46e",
   "metadata": {},
   "outputs": [],
   "source": [
    "hyperparams = {\n",
    "    \"CUB\": [50, 0.01, 0.01, 0.001],\n",
    "    \"Derm7pt\": [50, 0.01, 0.01, 0.001],\n",
    "    \"RIVAL10\": [50, 0.01, 0.01, 0.001],\n",
    "}"
   ]
  },
  {
   "cell_type": "code",
   "execution_count": 103,
   "id": "b02d4c94",
   "metadata": {},
   "outputs": [],
   "source": [
    "def run_prototypes_model(C_hat_train, C_hat_test):\n",
    "    train_loader, X_test, Y_test = get_loaders(C_hat_train, C_hat_test)\n",
    "\n",
    "    model = PrototypeClassifier(num_concepts, num_classes).to(device)\n",
    "\n",
    "    num_epochs = hyperparams[use_dataset][0]\n",
    "\n",
    "    optimizer = torch.optim.Adam(model.parameters(), lr=hyperparams[use_dataset][1])\n",
    "    lambda_binary = hyperparams[use_dataset][2]\n",
    "    lambda_L1 = hyperparams[use_dataset][3]\n",
    "\n",
    "    # Training loop\n",
    "    tqdm_loader = tqdm(range(num_epochs), desc=\"Training Prototypes\", leave=False)\n",
    "    for epoch in tqdm_loader:\n",
    "        _, train_accuracy = train_epoch(model, train_loader, optimizer, lambda_binary, lambda_L1, device=device)\n",
    "        tqdm_loader.set_postfix({\"Train Acc\": f\"{train_accuracy:.2f}%\"})\n",
    "\n",
    "    real_labels = Y_test.argmax(dim=1)\n",
    "    predictions = model.predict(X_test)\n",
    "\n",
    "    return (predictions == real_labels).sum().item()/len(predictions)"
   ]
  },
  {
   "cell_type": "code",
   "execution_count": 104,
   "id": "38cc6159",
   "metadata": {},
   "outputs": [],
   "source": [
    "def test_phase_2_algs(C_hat_train, Y_train, C_hat_test, Y_test, C_train, verbose=False):\n",
    "    lin_model = LogisticRegression(max_iter=1000)\n",
    "    lin_model.fit(C_hat_train, Y_train)\n",
    "    lin_accuracy = lin_model.score(C_hat_test, Y_test)\n",
    "    vprint(f\"Logistic Regression Test accuracy: {lin_accuracy:.5f}\", verbose)\n",
    "\n",
    "    knn_model = KNeighborsClassifier()\n",
    "    knn_model.fit(C_hat_train, Y_train)\n",
    "    knn_accuracy = knn_model.score(C_hat_test, Y_test)\n",
    "    vprint(f\"k-NN Test accuracy: {knn_accuracy:.5f}\", verbose)\n",
    "\n",
    "    dt_model = DecisionTreeClassifier()\n",
    "    dt_model.fit(C_hat_train, Y_train)\n",
    "    dt_accuracy = dt_model.score(C_hat_test, Y_test)\n",
    "    vprint(f\"Decision Tree Test accuracy: {dt_accuracy:.5f}\", verbose)\n",
    "\n",
    "    mlp_model = MLPClassifier(hidden_layer_sizes=(512,256, 128), max_iter=1000)\n",
    "    mlp_model.fit(C_hat_train, Y_train)\n",
    "    mlp_accuracy = mlp_model.score(C_hat_test, Y_test)\n",
    "    vprint(f\"MLP Test accuracy: {mlp_accuracy:.5f}\", verbose)\n",
    "\n",
    "    # DISTANCE TO CLASS-LEVEL CONCEPTS\n",
    "    if C_train is not None:\n",
    "        correct_predictions = 0\n",
    "\n",
    "        for i, test_instance in enumerate(C_hat_test):\n",
    "            predicted_label = predict_nearest_concept(test_instance, C_train, Y_train)\n",
    "            true_label = Y_test[i]\n",
    "\n",
    "            if predicted_label == true_label:\n",
    "                correct_predictions += 1\n",
    "\n",
    "        class_accuracy = correct_predictions / len(C_hat_test)\n",
    "        vprint(f\"Overall accuracy using concept-based nearest neighbor: {class_accuracy:.5f}\", verbose)\n",
    "\n",
    "\n",
    "    # PROTOTYPES MODEL\n",
    "    proto_accuracy = run_prototypes_model(C_hat_train, C_hat_test)\n",
    "    vprint(f\"Prototype Model Test accuracy: {proto_accuracy:.5f}\", verbose)\n",
    "\n",
    "    return {\n",
    "        \"lr\": lin_accuracy,\n",
    "        \"knn\": knn_accuracy,\n",
    "        \"dt\": dt_accuracy,\n",
    "        \"mlp\": mlp_accuracy,\n",
    "        \"class\": class_accuracy,\n",
    "        \"proto\": proto_accuracy,\n",
    "    }"
   ]
  },
  {
   "cell_type": "code",
   "execution_count": 105,
   "id": "881752a2",
   "metadata": {},
   "outputs": [
    {
     "name": "stdout",
     "output_type": "stream",
     "text": [
      "Logistic Regression Test accuracy: 0.60253\n",
      "k-NN Test accuracy: 0.52911\n",
      "Decision Tree Test accuracy: 0.45063\n",
      "MLP Test accuracy: 0.56456\n",
      "Overall accuracy using concept-based nearest neighbor: 0.64810\n"
     ]
    },
    {
     "data": {
      "application/vnd.jupyter.widget-view+json": {
       "model_id": "12184b3b66044c31bcfc1e70a090d498",
       "version_major": 2,
       "version_minor": 0
      },
      "text/plain": [
       "Training Prototypes:   0%|          | 0/50 [00:00<?, ?it/s]"
      ]
     },
     "metadata": {},
     "output_type": "display_data"
    },
    {
     "name": "stdout",
     "output_type": "stream",
     "text": [
      "Prototype Model Test accuracy: 0.64557\n"
     ]
    },
    {
     "data": {
      "text/plain": [
       "{'lr': 0.6025316455696202,\n",
       " 'knn': 0.529113924050633,\n",
       " 'dt': 0.4506329113924051,\n",
       " 'mlp': 0.5645569620253165,\n",
       " 'class': 0.6481012658227848,\n",
       " 'proto': 0.6455696202531646}"
      ]
     },
     "execution_count": 105,
     "metadata": {},
     "output_type": "execute_result"
    }
   ],
   "source": [
    "test_phase_2_algs(C_hat_train, Y_train, C_hat_test, Y_test, C_train, verbose=True)"
   ]
  },
  {
   "cell_type": "code",
   "execution_count": 106,
   "id": "8d902a40",
   "metadata": {},
   "outputs": [
    {
     "name": "stdout",
     "output_type": "stream",
     "text": [
      "Logistic Regression Test accuracy: 0.60000\n",
      "k-NN Test accuracy: 0.50380\n",
      "Decision Tree Test accuracy: 0.38987\n",
      "MLP Test accuracy: 0.56456\n",
      "Overall accuracy using concept-based nearest neighbor: 0.61519\n"
     ]
    },
    {
     "data": {
      "application/vnd.jupyter.widget-view+json": {
       "model_id": "b31f57e5ac01456ca533a8f5156f6e0f",
       "version_major": 2,
       "version_minor": 0
      },
      "text/plain": [
       "Training Prototypes:   0%|          | 0/50 [00:00<?, ?it/s]"
      ]
     },
     "metadata": {},
     "output_type": "display_data"
    },
    {
     "name": "stdout",
     "output_type": "stream",
     "text": [
      "Prototype Model Test accuracy: 0.64304\n"
     ]
    },
    {
     "data": {
      "text/plain": [
       "{'lr': 0.6,\n",
       " 'knn': 0.5037974683544304,\n",
       " 'dt': 0.389873417721519,\n",
       " 'mlp': 0.5645569620253165,\n",
       " 'class': 0.6151898734177215,\n",
       " 'proto': 0.6430379746835443}"
      ]
     },
     "execution_count": 106,
     "metadata": {},
     "output_type": "execute_result"
    }
   ],
   "source": [
    "test_phase_2_algs(C_hat_train, Y_train, C_hat_test_noisy, Y_test, C_train, verbose=True)"
   ]
  },
  {
   "cell_type": "markdown",
   "id": "6989694f",
   "metadata": {},
   "source": [
    "# Test with Different Noise Amounts"
   ]
  },
  {
   "cell_type": "code",
   "execution_count": 107,
   "id": "c48f5112",
   "metadata": {},
   "outputs": [],
   "source": [
    "noise_levels = np.arange(0, 1.1, 0.1)"
   ]
  },
  {
   "cell_type": "code",
   "execution_count": null,
   "id": "73ab2283",
   "metadata": {},
   "outputs": [
    {
     "name": "stdout",
     "output_type": "stream",
     "text": [
      "Testing noise of 0%\n"
     ]
    },
    {
     "data": {
      "application/vnd.jupyter.widget-view+json": {
       "model_id": "c1bb1edd77da471a8b844d8baabba5ad",
       "version_major": 2,
       "version_minor": 0
      },
      "text/plain": [
       "Training Prototypes:   0%|          | 0/50 [00:00<?, ?it/s]"
      ]
     },
     "metadata": {},
     "output_type": "display_data"
    },
    {
     "name": "stdout",
     "output_type": "stream",
     "text": [
      "Testing noise of 10%\n"
     ]
    },
    {
     "data": {
      "application/vnd.jupyter.widget-view+json": {
       "model_id": "7c7e7cfcd5fa48e59677793e67aeb222",
       "version_major": 2,
       "version_minor": 0
      },
      "text/plain": [
       "Training Prototypes:   0%|          | 0/50 [00:00<?, ?it/s]"
      ]
     },
     "metadata": {},
     "output_type": "display_data"
    },
    {
     "name": "stdout",
     "output_type": "stream",
     "text": [
      "Testing noise of 20%\n"
     ]
    },
    {
     "data": {
      "application/vnd.jupyter.widget-view+json": {
       "model_id": "ba3358e07cbb4666bc115c0697da68ee",
       "version_major": 2,
       "version_minor": 0
      },
      "text/plain": [
       "Training Prototypes:   0%|          | 0/50 [00:00<?, ?it/s]"
      ]
     },
     "metadata": {},
     "output_type": "display_data"
    },
    {
     "name": "stdout",
     "output_type": "stream",
     "text": [
      "Testing noise of 30%\n"
     ]
    },
    {
     "data": {
      "application/vnd.jupyter.widget-view+json": {
       "model_id": "e66980f151b04b72aa939bc97c608881",
       "version_major": 2,
       "version_minor": 0
      },
      "text/plain": [
       "Training Prototypes:   0%|          | 0/50 [00:00<?, ?it/s]"
      ]
     },
     "metadata": {},
     "output_type": "display_data"
    },
    {
     "name": "stdout",
     "output_type": "stream",
     "text": [
      "Testing noise of 40%\n"
     ]
    },
    {
     "data": {
      "application/vnd.jupyter.widget-view+json": {
       "model_id": "1cbfdf084bba42c3a431c7b1aa7af958",
       "version_major": 2,
       "version_minor": 0
      },
      "text/plain": [
       "Training Prototypes:   0%|          | 0/50 [00:00<?, ?it/s]"
      ]
     },
     "metadata": {},
     "output_type": "display_data"
    },
    {
     "name": "stdout",
     "output_type": "stream",
     "text": [
      "Testing noise of 50%\n"
     ]
    },
    {
     "data": {
      "application/vnd.jupyter.widget-view+json": {
       "model_id": "4eb71b99e392431ebaf7f6a227cbbe8d",
       "version_major": 2,
       "version_minor": 0
      },
      "text/plain": [
       "Training Prototypes:   0%|          | 0/50 [00:00<?, ?it/s]"
      ]
     },
     "metadata": {},
     "output_type": "display_data"
    },
    {
     "name": "stdout",
     "output_type": "stream",
     "text": [
      "Testing noise of 60%\n"
     ]
    },
    {
     "data": {
      "application/vnd.jupyter.widget-view+json": {
       "model_id": "af9ec3e2d58e4ae88ad5162a0eac327f",
       "version_major": 2,
       "version_minor": 0
      },
      "text/plain": [
       "Training Prototypes:   0%|          | 0/50 [00:00<?, ?it/s]"
      ]
     },
     "metadata": {},
     "output_type": "display_data"
    },
    {
     "name": "stdout",
     "output_type": "stream",
     "text": [
      "Testing noise of 70%\n"
     ]
    },
    {
     "data": {
      "application/vnd.jupyter.widget-view+json": {
       "model_id": "4dcee739debf4633b0bbc2c579b93d29",
       "version_major": 2,
       "version_minor": 0
      },
      "text/plain": [
       "Training Prototypes:   0%|          | 0/50 [00:00<?, ?it/s]"
      ]
     },
     "metadata": {},
     "output_type": "display_data"
    },
    {
     "name": "stdout",
     "output_type": "stream",
     "text": [
      "Testing noise of 80%\n"
     ]
    },
    {
     "data": {
      "application/vnd.jupyter.widget-view+json": {
       "model_id": "21a7fc277dd94a9094f669f856f7caa5",
       "version_major": 2,
       "version_minor": 0
      },
      "text/plain": [
       "Training Prototypes:   0%|          | 0/50 [00:00<?, ?it/s]"
      ]
     },
     "metadata": {},
     "output_type": "display_data"
    },
    {
     "name": "stdout",
     "output_type": "stream",
     "text": [
      "Testing noise of 90%\n"
     ]
    },
    {
     "data": {
      "application/vnd.jupyter.widget-view+json": {
       "model_id": "35164c1fab6e4f4bb06bd3603da31506",
       "version_major": 2,
       "version_minor": 0
      },
      "text/plain": [
       "Training Prototypes:   0%|          | 0/50 [00:00<?, ?it/s]"
      ]
     },
     "metadata": {},
     "output_type": "display_data"
    },
    {
     "name": "stdout",
     "output_type": "stream",
     "text": [
      "Testing noise of 100%\n"
     ]
    },
    {
     "data": {
      "application/vnd.jupyter.widget-view+json": {
       "model_id": "81e57d207ac64145b9af0344e31f7f9e",
       "version_major": 2,
       "version_minor": 0
      },
      "text/plain": [
       "Training Prototypes:   0%|          | 0/50 [00:00<?, ?it/s]"
      ]
     },
     "metadata": {},
     "output_type": "display_data"
    }
   ],
   "source": [
    "lr_results = []\n",
    "knn_results = []\n",
    "dt_results = []\n",
    "mlp_results = []\n",
    "class_results = []\n",
    "proto_results = []\n",
    "\n",
    "for nl in noise_levels:\n",
    "    print(f\"Testing noise of {nl*100:.0f}%\")\n",
    "    C_hat_test_noisy = add_noise_to_concepts(C_hat_test, nl)\n",
    "    results = test_phase_2_algs(C_hat_train, Y_train, C_hat_test_noisy, Y_test, C_train)\n",
    "    lr_results.append(results[\"lr\"])\n",
    "    knn_results.append(results[\"knn\"])\n",
    "    dt_results.append(results[\"dt\"])\n",
    "    mlp_results.append(results[\"mlp\"])\n",
    "    class_results.append(results[\"class\"])\n",
    "    proto_results.append(results[\"proto\"])"
   ]
  },
  {
   "cell_type": "code",
   "execution_count": 113,
   "id": "b3c37da5",
   "metadata": {},
   "outputs": [
    {
     "data": {
      "image/png": "[encoded data removed]",
      "text/plain": [
       "<Figure size 1200x800 with 1 Axes>"
      ]
     },
     "metadata": {},
     "output_type": "display_data"
    }
   ],
   "source": [
    "import matplotlib.pyplot as plt\n",
    "\n",
    "# Create a figure with appropriate size\n",
    "plt.figure(figsize=(12, 8))\n",
    "\n",
    "# Plot each algorithm's results\n",
    "plt.plot(noise_levels, lr_results, marker='o', label='Logistic Regression')\n",
    "# plt.plot(noise_levels, knn_results, marker='s', label='K-Nearest Neighbors')\n",
    "# plt.plot(noise_levels, dt_results, marker='^', label='Decision Tree')\n",
    "# plt.plot(noise_levels, mlp_results, marker='*', label='MLP')\n",
    "plt.plot(noise_levels, class_results, marker='D', label='CLC-D')\n",
    "plt.plot(noise_levels, proto_results, marker='X', label='CLC-L', linewidth=2)\n",
    "\n",
    "plt.grid(True, alpha=0.3)\n",
    "plt.xlabel('Noise Level', fontsize=14)\n",
    "plt.ylabel('Accuracy', fontsize=14)\n",
    "plt.title(f'Model Performance vs. Noise Level ({use_dataset} Dataset)', fontsize=16)\n",
    "plt.legend(fontsize=12)\n",
    "\n",
    "# Set y-axis limits from 0 to 1\n",
    "# plt.ylim(0, 0.7)\n",
    "\n",
    "# Format x-axis ticks as percentages\n",
    "plt.xticks(noise_levels, [f'{nl*100:.0f}%' for nl in noise_levels])\n",
    "\n",
    "# Add a horizontal line for random chance accuracy (1/num_classes)\n",
    "# random_chance = 1/num_classes\n",
    "# plt.axhline(y=random_chance, color='r', linestyle='--', alpha=0.7,\n",
    "#             label=f'Random Chance ({random_chance:.3f})')\n",
    "\n",
    "plt.tight_layout()\n",
    "plt.show()"
   ]
  },
  {
   "cell_type": "code",
   "execution_count": 110,
   "id": "b0c29737",
   "metadata": {},
   "outputs": [
    {
     "name": "stdout",
     "output_type": "stream",
     "text": [
      "Results saved to: /Users/pb/Documents/career/lab_ujm/hybrid-cbm-prototype-model/output/noise_results/Derm7pt_noise_experiment_results.csv\n"
     ]
    }
   ],
   "source": [
    "import pandas as pd\n",
    "import os\n",
    "\n",
    "# Create a DataFrame with the noise level and results from each algorithm\n",
    "results_df = pd.DataFrame({\n",
    "    'Noise_Level': noise_levels,\n",
    "    'Logistic_Regression': lr_results,\n",
    "    'KNN': knn_results,\n",
    "    'Decision_Tree': dt_results,\n",
    "    'MLP': mlp_results,\n",
    "    'Concept_Based_NN': class_results,\n",
    "    'Prototype': proto_results\n",
    "})\n",
    "\n",
    "# Format the DataFrame for better readability\n",
    "results_df['Noise_Level'] = results_df['Noise_Level'].apply(lambda x: f\"{x:.1f}\")\n",
    "\n",
    "# Define the output path\n",
    "output_dir = os.path.join(PROJECT_ROOT, 'output', 'noise_results')\n",
    "os.makedirs(output_dir, exist_ok=True)\n",
    "output_path = os.path.join(output_dir, f'{use_dataset}_noise_experiment_results.csv')\n",
    "\n",
    "# Save the results to CSV\n",
    "results_df.to_csv(output_path, index=False)\n",
    "\n",
    "print(f\"Results saved to: {output_path}\")"
   ]
  },
  {
   "cell_type": "code",
   "execution_count": 111,
   "id": "8ef5d859",
   "metadata": {},
   "outputs": [
    {
     "data": {
      "text/plain": [
       "[0.6481012658227848,\n",
       " 0.6430379746835443,\n",
       " 0.6253164556962025,\n",
       " 0.5822784810126582,\n",
       " 0.5569620253164557,\n",
       " 0.40253164556962023,\n",
       " 0.29873417721518986,\n",
       " 0.1949367088607595,\n",
       " 0.12151898734177215,\n",
       " 0.05063291139240506,\n",
       " 0.04050632911392405]"
      ]
     },
     "execution_count": 111,
     "metadata": {},
     "output_type": "execute_result"
    }
   ],
   "source": [
    "proto_results"
   ]
  },
  {
   "cell_type": "code",
   "execution_count": null,
   "id": "1b940509",
   "metadata": {},
   "outputs": [],
   "source": []
  }
 ],
 "metadata": {
  "kernelspec": {
   "display_name": "Python 3",
   "language": "python",
   "name": "python3"
  },
  "language_info": {
   "codemirror_mode": {
    "name": "ipython",
    "version": 3
   },
   "file_extension": ".py",
   "mimetype": "text/x-python",
   "name": "python",
   "nbconvert_exporter": "python",
   "pygments_lexer": "ipython3",
   "version": "3.11.9"
  }
 },
 "nbformat": 4,
 "nbformat_minor": 5
}
