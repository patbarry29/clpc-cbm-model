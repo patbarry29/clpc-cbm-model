{
 "cells": [
  {
   "cell_type": "code",
   "execution_count": 93,
   "id": "34cade2e",
   "metadata": {},
   "outputs": [],
   "source": [
    "datasets = ['CUB', 'Derm7pt', 'RIVAL10']\n",
    "use_dataset = datasets[2]"
   ]
  },
  {
   "cell_type": "code",
   "execution_count": 94,
   "id": "a75fa96d",
   "metadata": {},
   "outputs": [],
   "source": [
    "import os\n",
    "import sys\n",
    "import torch\n",
    "import joblib\n",
    "\n",
    "notebook_dir = os.getcwd()\n",
    "project_root_path = os.path.dirname(notebook_dir)\n",
    "sys.path.insert(0, project_root_path)\n",
    "\n",
    "from src.config import PROJECT_ROOT, CUB_CONFIG, DERM7PT_CONFIG, RIVAL10_CONFIG  # noqa: E402\n",
    "import numpy as np  # noqa: E402"
   ]
  },
  {
   "cell_type": "code",
   "execution_count": 95,
   "id": "dfcde64e",
   "metadata": {},
   "outputs": [],
   "source": [
    "if use_dataset == 'CUB':\n",
    "    config_dict = CUB_CONFIG\n",
    "    DATASET_PATH =  os.path.join(PROJECT_ROOT, 'output', 'intervention', 'CUB')\n",
    "elif use_dataset == 'Derm7pt':\n",
    "    config_dict = DERM7PT_CONFIG\n",
    "    DATASET_PATH =  os.path.join(PROJECT_ROOT, 'output', 'intervention', 'Derm7pt')\n",
    "else:\n",
    "    config_dict = RIVAL10_CONFIG\n",
    "    DATASET_PATH =  os.path.join(PROJECT_ROOT, 'output', 'intervention', 'RIVAL10')"
   ]
  },
  {
   "cell_type": "code",
   "execution_count": 96,
   "id": "e9d2616d",
   "metadata": {},
   "outputs": [],
   "source": [
    "num_concepts = config_dict['N_TRIMMED_CONCEPTS']\n",
    "num_classes = config_dict['N_CLASSES']"
   ]
  },
  {
   "cell_type": "code",
   "execution_count": 97,
   "id": "c3044e93",
   "metadata": {},
   "outputs": [
    {
     "name": "stdout",
     "output_type": "stream",
     "text": [
      "Using device: mps\n"
     ]
    }
   ],
   "source": [
    "device = torch.device(\"cuda\" if torch.cuda.is_available()\n",
    "                    else \"mps\" if torch.backends.mps.is_available()\n",
    "                    else \"cpu\")\n",
    "print(f\"Using device: {device}\")"
   ]
  },
  {
   "cell_type": "markdown",
   "id": "ed7451fb",
   "metadata": {},
   "source": [
    "# Load and Transform Data"
   ]
  },
  {
   "cell_type": "code",
   "execution_count": 98,
   "id": "c56c94fb",
   "metadata": {},
   "outputs": [],
   "source": [
    "lin_C_hat_wrong = np.load(os.path.join(DATASET_PATH, 'C_hat_linear.npy'))\n",
    "lin_Y = np.load(os.path.join(DATASET_PATH, 'Y_linear.npy'))\n",
    "lin_model = joblib.load(os.path.join(DATASET_PATH, 'lin_model.joblib'))\n",
    "\n",
    "clc_C_hat_wrong = torch.load(os.path.join(DATASET_PATH, 'C_hat_clc.npy'))\n",
    "clc_Y_wrong = torch.load(os.path.join(DATASET_PATH, 'Y_clc.npy'))\n",
    "clc_model = torch.load(os.path.join(DATASET_PATH, 'clc_model.pth'), weights_only=False, map_location=device)"
   ]
  },
  {
   "cell_type": "code",
   "execution_count": 99,
   "id": "b3f6cee6",
   "metadata": {},
   "outputs": [
    {
     "data": {
      "text/plain": [
       "0.0"
      ]
     },
     "execution_count": 99,
     "metadata": {},
     "output_type": "execute_result"
    }
   ],
   "source": [
    "lin_model.score(lin_C_hat_wrong, lin_Y)"
   ]
  },
  {
   "cell_type": "code",
   "execution_count": 100,
   "id": "fbc53f29",
   "metadata": {},
   "outputs": [
    {
     "data": {
      "text/plain": [
       "0.0"
      ]
     },
     "execution_count": 100,
     "metadata": {},
     "output_type": "execute_result"
    }
   ],
   "source": [
    "Y_pred = clc_model.predict(clc_C_hat_wrong)\n",
    "(Y_pred == clc_Y_wrong).sum().item()/len(Y_pred)"
   ]
  },
  {
   "cell_type": "markdown",
   "id": "ff3e1029",
   "metadata": {},
   "source": [
    "# Calculate Gain of Each Concept per Model"
   ]
  },
  {
   "cell_type": "markdown",
   "id": "dd8878bc",
   "metadata": {},
   "source": [
    "## Logistic Regression Concept Gain"
   ]
  },
  {
   "cell_type": "code",
   "execution_count": 101,
   "id": "75753397",
   "metadata": {},
   "outputs": [],
   "source": [
    "def compute_intervention_matrices(model, C_hat, Y_test):\n",
    "    model_weights = model.coef_\n",
    "\n",
    "    concept_gain_rankings = np.zeros_like(C_hat)\n",
    "    expected_values = np.zeros_like(C_hat)\n",
    "\n",
    "    for instance_idx, concept_vector in enumerate(C_hat):\n",
    "        true_label = Y_test[instance_idx]\n",
    "        class_weights = model_weights[true_label]\n",
    "        concept_gains = np.zeros(len(class_weights))\n",
    "        instance_expected_vals = np.zeros(len(class_weights))\n",
    "\n",
    "        for concept_idx, concept_weight in enumerate(class_weights):\n",
    "            # Binary value based on concept weight direction\n",
    "            expected_concept_value = 1 if concept_weight > 0 else 0\n",
    "            instance_expected_vals[concept_idx] = expected_concept_value\n",
    "\n",
    "            # Calculate gain by comparing expected vs pred label, scaled by weight\n",
    "            concept_gains[concept_idx] = ((expected_concept_value - true_label) * concept_weight)\n",
    "\n",
    "        expected_values[instance_idx] = instance_expected_vals\n",
    "        concept_gain_rankings[instance_idx] = (concept_gains)\n",
    "\n",
    "    concept_indices_by_gain = np.argsort(concept_gain_rankings, axis=1)[:, ::-1]\n",
    "\n",
    "    return concept_indices_by_gain, expected_values\n",
    "\n",
    "concept_indices_by_gain, expected_values = compute_intervention_matrices(lin_model, lin_C_hat_wrong, lin_Y)"
   ]
  },
  {
   "cell_type": "code",
   "execution_count": 102,
   "id": "4236009d",
   "metadata": {},
   "outputs": [],
   "source": [
    "def intervene(C_hat, expected_values, concept_indices_by_gain, concept_idx=0):\n",
    "    max_gain_indices = concept_indices_by_gain[:, concept_idx]\n",
    "\n",
    "    row_indices = np.arange(len(C_hat))\n",
    "    C_hat[row_indices, max_gain_indices].shape\n",
    "\n",
    "    updated_C_hat = C_hat\n",
    "    updated_C_hat[row_indices, max_gain_indices] = expected_values[row_indices, max_gain_indices]\n",
    "\n",
    "    return updated_C_hat"
   ]
  },
  {
   "cell_type": "code",
   "execution_count": 103,
   "id": "2baa16dc",
   "metadata": {},
   "outputs": [],
   "source": [
    "# updated_C_hat = intervene(lin_C_hat_wrong, expected_values, concept_indices_by_gain)\n",
    "# lin_accuracy = lin_model.score(updated_C_hat, lin_Y)"
   ]
  },
  {
   "cell_type": "code",
   "execution_count": 104,
   "id": "bf13f550",
   "metadata": {},
   "outputs": [
    {
     "name": "stdout",
     "output_type": "stream",
     "text": [
      "Stopped after 17 concept interventions.\n",
      "Final accuracy: 1.0000\n"
     ]
    }
   ],
   "source": [
    "C_hat_intervened = lin_C_hat_wrong.copy() # Work on a copy\n",
    "num_instances = C_hat_intervened.shape[0]\n",
    "num_concepts = C_hat_intervened.shape[1]\n",
    "\n",
    "# Calculate initial accuracy on this subset\n",
    "initial_predictions = lin_model.predict(C_hat_intervened)\n",
    "misclassified_mask = (initial_predictions != lin_Y)\n",
    "\n",
    "accuracy = lin_model.score(C_hat_intervened, lin_Y)\n",
    "accuracies = [accuracy]\n",
    "# print(f\"0: Accuracy {accuracy:.4f}, Misclassified count: {np.sum(misclassified_mask)}\")\n",
    "\n",
    "intervention_step = 0\n",
    "while np.any(misclassified_mask) and intervention_step < num_concepts:\n",
    "    # Get the indices of instances that are currently misclassified\n",
    "    indices_to_intervene = np.where(misclassified_mask)[0]\n",
    "\n",
    "    if len(indices_to_intervene) == 0: # Should be caught by np.any(misclassified_mask)\n",
    "        print(\"All instances in the subset are now correctly classified.\")\n",
    "        break\n",
    "\n",
    "    # Select which concept to intervene on for each misclassified instance\n",
    "    concepts_to_change_for_these_instances = concept_indices_by_gain[indices_to_intervene, intervention_step]\n",
    "\n",
    "    # Apply the intervention by setting concepts to their expected values\n",
    "    C_hat_intervened[indices_to_intervene, concepts_to_change_for_these_instances] = \\\n",
    "        expected_values[indices_to_intervene, concepts_to_change_for_these_instances]\n",
    "\n",
    "    # Re-evaluate after intervention\n",
    "    current_predictions = lin_model.predict(C_hat_intervened)\n",
    "    misclassified_mask = (current_predictions != lin_Y)\n",
    "    accuracy = lin_model.score(C_hat_intervened, lin_Y)\n",
    "    accuracies.append(accuracy)\n",
    "\n",
    "    # print(f\"{intervention_step + 1}: Accuracy {accuracy:.4f}, Misclassified count: {np.sum(misclassified_mask)}\")\n",
    "\n",
    "    intervention_step += 1\n",
    "\n",
    "print(f\"Stopped after {intervention_step} concept interventions.\")\n",
    "print(f\"Final accuracy: {accuracies[-1]:.4f}\")"
   ]
  },
  {
   "cell_type": "code",
   "execution_count": 105,
   "id": "b654f2bc",
   "metadata": {},
   "outputs": [
    {
     "data": {
      "image/png": "[encoded data removed]",
      "text/plain": [
       "<Figure size 800x600 with 1 Axes>"
      ]
     },
     "metadata": {},
     "output_type": "display_data"
    }
   ],
   "source": [
    "from matplotlib import pyplot as plt\n",
    "\n",
    "plt.figure(figsize=(8,6))\n",
    "plt.plot(np.arange(len(accuracies)), accuracies)\n",
    "plt.xlabel(\"Number of Concepts Intervened\")\n",
    "plt.ylabel(\"Accuracy\")\n",
    "plt.title(f\"Intervention Efficiency on Linear Model - {use_dataset} dataset\")\n",
    "plt.grid(alpha=0.3)\n",
    "\n",
    "if use_dataset == 'CUB':\n",
    "    pass\n",
    "if use_dataset == 'Derm7pt':\n",
    "    x_ticks = np.arange(0, len(accuracies), 2)\n",
    "    plt.xticks(x_ticks, x_ticks.astype(int))\n",
    "if use_dataset == 'RIVAL10':\n",
    "    x_ticks = np.arange(0, len(accuracies), 2)\n",
    "    plt.xticks(x_ticks, x_ticks.astype(int))\n",
    "\n",
    "plt.show()"
   ]
  },
  {
   "cell_type": "markdown",
   "id": "e7a3b05f",
   "metadata": {},
   "source": [
    "## Prototypes Intervention"
   ]
  },
  {
   "cell_type": "code",
   "execution_count": 106,
   "id": "94eb196a",
   "metadata": {},
   "outputs": [],
   "source": [
    "prototypes = clc_model.get_binary_prototypes()\n",
    "\n",
    "gain_matrix = np.zeros((clc_C_hat_wrong.shape[0], clc_C_hat_wrong.shape[1]))\n",
    "expected_values = np.zeros((clc_C_hat_wrong.shape[0], clc_C_hat_wrong.shape[1]))\n",
    "\n",
    "for instance_idx, concept_vector in enumerate(clc_C_hat_wrong):\n",
    "    pred_label = clc_Y_wrong[instance_idx]\n",
    "    prototype = prototypes[pred_label].cpu().detach().numpy()\n",
    "    gain_vector = np.abs(prototype-concept_vector.cpu().detach().numpy())\n",
    "    gain_matrix[instance_idx] = gain_vector\n",
    "    expected_values[instance_idx] = prototype\n",
    "\n",
    "concept_indices_by_gain = np.argsort(gain_matrix, axis=1)[:, ::-1]\n",
    "expected_values = torch.tensor(expected_values, device=device, dtype=torch.float32)"
   ]
  },
  {
   "cell_type": "code",
   "execution_count": 107,
   "id": "b585c347",
   "metadata": {},
   "outputs": [],
   "source": [
    "# updated_C_hat = intervene(clc_C_hat_wrong, expected_values, concept_indices_by_gain)"
   ]
  },
  {
   "cell_type": "code",
   "execution_count": 108,
   "id": "62f4d889",
   "metadata": {},
   "outputs": [],
   "source": [
    "# Y_pred = clc_model.predict(updated_C_hat)\n",
    "# (Y_pred == clc_Y_wrong).sum().item()/len(Y_pred)"
   ]
  },
  {
   "cell_type": "code",
   "execution_count": null,
   "id": "acc1aa6d",
   "metadata": {},
   "outputs": [
    {
     "name": "stdout",
     "output_type": "stream",
     "text": [
      "Prototypes - Stopped after 4 rounds of concept interventions.\n",
      "Prototypes - Final accuracy: 1.0000\n"
     ]
    }
   ],
   "source": [
    "# Initialize intervention data and move to appropriate device\n",
    "C_hat_intervened_proto = clc_C_hat_wrong.clone().detach()\n",
    "Y_true_proto_device = clc_Y_wrong.to(C_hat_intervened_proto.device)\n",
    "\n",
    "# Get initial predictions and identify misclassified instances\n",
    "with torch.no_grad():\n",
    "    initial_predictions_proto = clc_model.predict(C_hat_intervened_proto)\n",
    "\n",
    "misclassified_mask_proto = (initial_predictions_proto != Y_true_proto_device)\n",
    "\n",
    "current_accuracy_proto = (~misclassified_mask_proto).float().mean().item()\n",
    "accuracies = [current_accuracy_proto]\n",
    "\n",
    "# print(f\"Prototypes - Initial: Accuracy {current_accuracy_proto:.4f}, Misclassified count: {misclassified_mask_proto.sum().item()}\")\n",
    "\n",
    "intervention_step_proto = 0\n",
    "while misclassified_mask_proto.any() and intervention_step_proto < clc_C_hat_wrong.shape[1]:\n",
    "    indices_to_intervene_proto = torch.where(misclassified_mask_proto)[0]\n",
    "\n",
    "    if len(indices_to_intervene_proto) == 0: # Should be caught by misclassified_mask_proto.any()\n",
    "        print(\"Prototypes - All instances in the subset are now correctly classified.\")\n",
    "        break\n",
    "\n",
    "    # Select which concept to intervene on for each misclassified instance\n",
    "    concepts_to_change_for_these_instances_np = concept_indices_by_gain[\n",
    "        indices_to_intervene_proto.cpu().numpy(),\n",
    "        intervention_step_proto\n",
    "    ]\n",
    "\n",
    "    # Apply the intervention by setting concepts to their expected values\n",
    "    C_hat_intervened_proto[indices_to_intervene_proto, concepts_to_change_for_these_instances_np] = \\\n",
    "        expected_values[indices_to_intervene_proto, concepts_to_change_for_these_instances_np]\n",
    "\n",
    "    # Re-evaluate after intervention\n",
    "    with torch.no_grad():\n",
    "        current_predictions_proto = clc_model.predict(C_hat_intervened_proto)\n",
    "\n",
    "    misclassified_mask_proto = (current_predictions_proto != Y_true_proto_device) # Update mask\n",
    "    current_accuracy_proto = (~misclassified_mask_proto).float().mean().item()\n",
    "    accuracies.append(current_accuracy_proto)\n",
    "\n",
    "    # print(f\"Prototypes - Intervention {intervention_step_proto + 1}: Accuracy {current_accuracy_proto:.4f}, Misclassified count: {misclassified_mask_proto.sum().item()}\")\n",
    "\n",
    "    intervention_step_proto += 1\n",
    "\n",
    "print(f\"Prototypes - Stopped after {intervention_step_proto} rounds of concept interventions.\")\n",
    "print(f\"Prototypes - Final accuracy: {accuracies[-1]:.4f}\")"
   ]
  },
  {
   "cell_type": "code",
   "execution_count": 110,
   "id": "fbe8d611",
   "metadata": {},
   "outputs": [
    {
     "data": {
      "image/png": "[encoded data removed]",
      "text/plain": [
       "<Figure size 800x600 with 1 Axes>"
      ]
     },
     "metadata": {},
     "output_type": "display_data"
    }
   ],
   "source": [
    "plt.figure(figsize=(8,6))\n",
    "plt.plot(np.arange(len(accuracies)), accuracies)\n",
    "plt.xlabel(\"Number of Concepts Intervened\")\n",
    "plt.ylabel(\"Accuracy\")\n",
    "plt.title(f\"Intervention Efficiency on Prototypes Model - {use_dataset} Dataset\")\n",
    "plt.grid(alpha=0.3)\n",
    "\n",
    "if use_dataset == 'CUB':\n",
    "    pass\n",
    "if use_dataset == 'Derm7pt':\n",
    "    x_ticks = np.arange(0, len(accuracies), 2)\n",
    "    plt.xticks(x_ticks, x_ticks.astype(int))\n",
    "if use_dataset == 'RIVAL10':\n",
    "    x_ticks = np.arange(0, len(accuracies))\n",
    "    plt.xticks(x_ticks, x_ticks.astype(int))\n",
    "\n",
    "plt.show()"
   ]
  },
  {
   "cell_type": "markdown",
   "id": "5e42e994",
   "metadata": {},
   "source": [
    "# analysis of incorrect classifications"
   ]
  },
  {
   "cell_type": "code",
   "execution_count": 111,
   "id": "d983794c",
   "metadata": {},
   "outputs": [],
   "source": [
    "# # Sort concept gains in descending order for each instance\n",
    "# sorted_concept_gains = np.sort(concept_gain_rankings, axis=1)[:, ::-1]\n",
    "\n",
    "# # Display the shape and the first few examples\n",
    "# print(f\"Shape of sorted gains: {sorted_concept_gains.shape}\")\n",
    "# print(\"Top 5 highest gains for first 3 instances:\")\n",
    "# print(sorted_concept_gains[:100, :5])  # First 3 instances, top 5 gains\n",
    "\n",
    "# # If you need the indices of the concepts in descending order\n",
    "# concept_indices_by_gain = np.argsort(concept_gain_rankings, axis=1)[:, ::-1]\n",
    "# print(\"\\nIndices of concepts with highest gains (first 3 instances):\")\n",
    "# print(concept_indices_by_gain[:100, :5])  # First 3 instances, indices of top 5 concepts"
   ]
  },
  {
   "cell_type": "code",
   "execution_count": 112,
   "id": "5360a92f",
   "metadata": {},
   "outputs": [],
   "source": [
    "# unique_classes, counts = np.unique(lin_Y_wrong, return_counts=True)\n",
    "# print(dict(zip(unique_classes, counts)))"
   ]
  },
  {
   "cell_type": "code",
   "execution_count": 113,
   "id": "5b476b90",
   "metadata": {},
   "outputs": [],
   "source": [
    "# import seaborn as sns\n",
    "\n",
    "# import matplotlib.pyplot as plt\n",
    "\n",
    "# # Create a more readable format of the class distribution\n",
    "# class_distribution = dict(zip(unique_classes, counts))\n",
    "\n",
    "# # Plot settings\n",
    "# plt.figure(figsize=(15, 6))\n",
    "# sns.set_style(\"whitegrid\")\n",
    "\n",
    "# # Create the bar plot\n",
    "# plt.bar(range(len(class_distribution)), list(class_distribution.values()), color='skyblue', edgecolor='navy', alpha=0.7)\n",
    "\n",
    "# # Add labels and title\n",
    "# plt.xlabel('Class Index', fontsize=12)\n",
    "# plt.ylabel('Count of Incorrect Predictions', fontsize=12)\n",
    "# plt.title('Distribution of Incorrect Predictions Across Classes in CUB Dataset', fontsize=14)\n",
    "\n",
    "# # Only show a subset of x-ticks to avoid overcrowding\n",
    "# x_ticks = range(0, len(class_distribution), 10)\n",
    "# plt.xticks(x_ticks, [unique_classes[i] for i in x_ticks])\n",
    "\n",
    "# # Add total count information\n",
    "# total_incorrect = sum(counts)\n",
    "# plt.text(len(class_distribution)/2, max(counts)*0.9, f'Total Incorrect Predictions: {total_incorrect}',\n",
    "#          horizontalalignment='center', fontsize=12, bbox=dict(facecolor='white', alpha=0.7))\n",
    "\n",
    "# plt.tight_layout()\n",
    "# plt.show()"
   ]
  },
  {
   "cell_type": "code",
   "execution_count": 114,
   "id": "70a4c873",
   "metadata": {},
   "outputs": [],
   "source": [
    "# import matplotlib.pyplot as plt\n",
    "# import seaborn as sns\n",
    "\n",
    "# corr_matrix = np.corrcoef(lin_C_hat_wrong, rowvar=False)\n",
    "# plt.figure(figsize=(12, 10))\n",
    "# sns.heatmap(corr_matrix, cmap='coolwarm', center=0)\n",
    "# plt.title('Concept Correlation Matrix')\n",
    "# plt.show()"
   ]
  },
  {
   "cell_type": "code",
   "execution_count": 115,
   "id": "e489e025",
   "metadata": {},
   "outputs": [],
   "source": [
    "# plt.figure(figsize=(10, 6))\n",
    "# plt.hist(model_weights.flatten(), bins=50)\n",
    "# plt.title('Distribution of Model Weights')\n",
    "# plt.xlabel('Weight Value')\n",
    "# plt.ylabel('Frequency')\n",
    "# plt.show()"
   ]
  },
  {
   "cell_type": "code",
   "execution_count": null,
   "id": "427ff8e9",
   "metadata": {},
   "outputs": [],
   "source": []
  },
  {
   "cell_type": "code",
   "execution_count": null,
   "id": "0a5807d1",
   "metadata": {},
   "outputs": [],
   "source": []
  }
 ],
 "metadata": {
  "kernelspec": {
   "display_name": "Python 3",
   "language": "python",
   "name": "python3"
  },
  "language_info": {
   "codemirror_mode": {
    "name": "ipython",
    "version": 3
   },
   "file_extension": ".py",
   "mimetype": "text/x-python",
   "name": "python",
   "nbconvert_exporter": "python",
   "pygments_lexer": "ipython3",
   "version": "3.11.9"
  }
 },
 "nbformat": 4,
 "nbformat_minor": 5
}
